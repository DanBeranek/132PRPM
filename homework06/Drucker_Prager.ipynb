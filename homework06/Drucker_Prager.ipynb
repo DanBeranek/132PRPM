{
 "cells": [
  {
   "cell_type": "markdown",
   "id": "1732abe3-c51d-4731-b942-96a7f7c0f462",
   "metadata": {},
   "source": [
    "# Druckerova-Pragerova podmínka plasticity s nesdruženým zákonem plastického přetváření\n",
    "\n",
    "---\n",
    "\n",
    "Vypracoval: Daniel **BERÁNEK**\n",
    "\n",
    "Předmět: **132PRPM** - Přetváření a porušování materiálů\n",
    "\n",
    "---\n",
    "\n",
    "**Koeficienty:**\n",
    "\n",
    "a = 1.2\n",
    "\n",
    "b = 1.4\n",
    "\n",
    "c = 0.8\n",
    "\n",
    "---"
   ]
  },
  {
   "cell_type": "markdown",
   "id": "93a9f16b-91bf-4a67-9d93-82446ba4a319",
   "metadata": {},
   "source": [
    "Uvažujte ideálně pružnoplastický materiál popsaný Druckerovou-Pragerovou podmínkou plasticity a nesdruženým zákonem plastického přetváření. Modul pružnosti je $E = (20 + 10a) \\, \\mathrm{GPa}$ a  Poissonův součinitel $\\nu = 0,2$. Určete parametry funkce plasticity $\\alpha_{\\phi}$ a $\\tau_0$ tak, aby za jednoosého tahu k plastickému přetváření došlo při napětí $\\sigma = (4+b+c) \\, \\mathrm{MPa}$ a za jednoosého tlaku při napětí $\\sigma = -(10+2b+3c) \\, \\mathrm{MPa}$. Součinitel dilatace položte roven jedné polovině součinitele vnitřního tření.\n",
    "\n",
    "Pro daný model zapište podmínku plasticity za rovinné napjatosti a graficky znázorněte příslušnou plochu plasticity v rovině hlavních napětí. Dále uvažujte následující tři zatěžovací programy:\n",
    "1. jednoosý tlak ve směru osy $x$,\n",
    "2. dvojosý tlak v rovině $xy$ s poměrem napětí $\\sigma_x : \\sigma_y = 2:1$,\n",
    "3. trojosý tlak s poměrem napětí $\\sigma_x : \\sigma_y : \\sigma_z = 4:1:1$.\n",
    "\n",
    "V každém z těchto případů pokračuje zatěžování i po dosažení plastického stavu, přičemž i v průběhu plastického přetváření je zachován předepsaný poměr normálových napětí.\n",
    "\n",
    "Pro uvedené zatěžovací programy určete hodnoty jednotlivých složek napětí a deformace v okamžiku, kdy začne plastické přetváření, a dále hodnoty složek (celkové) deformace v okamžiku, kdy složka plastické deformace $\\varepsilon_{\\mathrm{p}x}$ dosáhne hodnoty $-2 \\, \\textperthousand$. Pro jednoosý a dvojosý tlak zakreslete dráhu napětí v rovině hlavních napětí a graficky znázorněte směr přírůstků plastické deformace.\n",
    "\n",
    "Složky deformace zadávejte v promile (tisícinách) a napětí v $\\mathrm{MPa}$. Tlakové složky označte záporným znaménkem.\n",
    "\n",
    "***"
   ]
  },
  {
   "cell_type": "code",
   "execution_count": 1,
   "id": "29960829-2bf5-430e-8e0b-3dc67f14c812",
   "metadata": {},
   "outputs": [],
   "source": [
    "from IPython.display import display, Math, Markdown\n",
    "import numpy as np\n",
    "import sympy as smp\n",
    "import matplotlib.pyplot as plt"
   ]
  },
  {
   "cell_type": "code",
   "execution_count": 2,
   "id": "71949b1d-d250-4a39-a9ea-ae05d679ea0b",
   "metadata": {},
   "outputs": [],
   "source": [
    "a = 1.2\n",
    "b = 1.4\n",
    "c = 0.8"
   ]
  },
  {
   "cell_type": "code",
   "execution_count": 3,
   "id": "ec7b1acd-8c08-4ab5-9be5-724864f85a8c",
   "metadata": {},
   "outputs": [],
   "source": [
    "young_modulus = (20 + 10*a) * 1E3  # (MPa)\n",
    "poissons_ratio = 0.2  # (1)\n",
    "tension_yield = (4 + b + c)  # (MPa)\n",
    "compression_yield = (10 + 2*b + 3*c) # (MPa)"
   ]
  },
  {
   "cell_type": "markdown",
   "id": "b3b474d9-44ab-4f28-8f45-6045b0096c74",
   "metadata": {},
   "source": [
    "## Výpočet parametrů Druckerovy-Pragerovy podmínky plasticity"
   ]
  },
  {
   "cell_type": "markdown",
   "id": "84a91326-ef0e-4e4c-b1cf-52a7caede2bd",
   "metadata": {},
   "source": [
    "Drucker-Pragerova podmínka plasticity je daná vztahem\n",
    "\n",
    "$$\n",
    "f(\\bar{\\sigma}) = \\alpha_{\\phi} I_1 (\\bar{\\sigma}) + \\sqrt{J_2(\\bar{\\sigma})} - \\tau_0,\n",
    "$$\n",
    "\n",
    "kde $\\alpha_{\\phi}$ představuje koeficient vnitřního tření, a $\\tau_0$ je mezní hodnota smykového napětí. $I_1$ a $J_2$ označují první a druhý invariant napětí."
   ]
  },
  {
   "cell_type": "code",
   "execution_count": 4,
   "id": "9777ae4e-afd3-4839-a5a7-cff27c4cb025",
   "metadata": {},
   "outputs": [],
   "source": [
    "I1, J2 = smp.symbols('I_1 J_2')\n",
    "alpha_phi = smp.symbols('alpha_phi')\n",
    "tau_0 = smp.symbols('tau_0')\n",
    "sigma_1, sigma_2, sigma_3 = smp.symbols('sigma_1 sigma_2 sigma_3')"
   ]
  },
  {
   "cell_type": "code",
   "execution_count": 5,
   "id": "eae47ffb-ef2b-442f-91cc-6da56448c3f5",
   "metadata": {},
   "outputs": [],
   "source": [
    "I_1 = sigma_1 + sigma_2 + sigma_3  # prvni invariant napeti\n",
    "J_2 = smp.Rational(1, 6) * ( (sigma_1 - sigma_2)**2 + (sigma_1 - sigma_3)**2 + (sigma_2 - sigma_3)**2 )  # druhy invariant napeti"
   ]
  },
  {
   "cell_type": "code",
   "execution_count": 6,
   "id": "7bc084e6-ed26-48bb-bc7e-2c7430fc3205",
   "metadata": {},
   "outputs": [
    {
     "data": {
      "text/latex": [
       "$\\displaystyle \\sigma_{1} + \\sigma_{2} + \\sigma_{3}$"
      ],
      "text/plain": [
       "sigma_1 + sigma_2 + sigma_3"
      ]
     },
     "execution_count": 6,
     "metadata": {},
     "output_type": "execute_result"
    }
   ],
   "source": [
    "I_1"
   ]
  },
  {
   "cell_type": "code",
   "execution_count": 7,
   "id": "0b9b6ac0-e6f6-4a9c-b745-0858ce02b026",
   "metadata": {},
   "outputs": [
    {
     "data": {
      "text/latex": [
       "$\\displaystyle \\frac{\\left(\\sigma_{1} - \\sigma_{2}\\right)^{2}}{6} + \\frac{\\left(\\sigma_{1} - \\sigma_{3}\\right)^{2}}{6} + \\frac{\\left(\\sigma_{2} - \\sigma_{3}\\right)^{2}}{6}$"
      ],
      "text/plain": [
       "(sigma_1 - sigma_2)**2/6 + (sigma_1 - sigma_3)**2/6 + (sigma_2 - sigma_3)**2/6"
      ]
     },
     "execution_count": 7,
     "metadata": {},
     "output_type": "execute_result"
    }
   ],
   "source": [
    "J_2"
   ]
  },
  {
   "cell_type": "code",
   "execution_count": 8,
   "id": "718a83c4-32fd-4379-a2c0-1c9b5173dd76",
   "metadata": {},
   "outputs": [
    {
     "data": {
      "text/latex": [
       "$\\displaystyle I_{1} \\alpha_{\\phi} + \\sqrt{J_{2}} - \\tau_{0}$"
      ],
      "text/plain": [
       "I_1*alpha_phi + sqrt(J_2) - tau_0"
      ]
     },
     "execution_count": 8,
     "metadata": {},
     "output_type": "execute_result"
    }
   ],
   "source": [
    "f = alpha_phi * I1 + smp.sqrt(J2) - tau_0  # funkce plasticity\n",
    "f"
   ]
  },
  {
   "cell_type": "code",
   "execution_count": 9,
   "id": "826b0b36-9c73-4f29-9628-cfc574fffd59",
   "metadata": {},
   "outputs": [
    {
     "data": {
      "text/latex": [
       "$\\displaystyle \\alpha_{\\phi} \\left(\\sigma_{1} + \\sigma_{2} + \\sigma_{3}\\right) - \\tau_{0} + \\sqrt{\\frac{\\left(\\sigma_{1} - \\sigma_{2}\\right)^{2}}{6} + \\frac{\\left(\\sigma_{1} - \\sigma_{3}\\right)^{2}}{6} + \\frac{\\left(\\sigma_{2} - \\sigma_{3}\\right)^{2}}{6}}$"
      ],
      "text/plain": [
       "alpha_phi*(sigma_1 + sigma_2 + sigma_3) - tau_0 + sqrt((sigma_1 - sigma_2)**2/6 + (sigma_1 - sigma_3)**2/6 + (sigma_2 - sigma_3)**2/6)"
      ]
     },
     "execution_count": 9,
     "metadata": {},
     "output_type": "execute_result"
    }
   ],
   "source": [
    "f = f.subs(I1, I_1).subs(J2, J_2)  # funkce plasticity\n",
    "f"
   ]
  },
  {
   "cell_type": "code",
   "execution_count": 10,
   "id": "965794e4-9cb7-43ef-95af-c2db6b9ca5b7",
   "metadata": {},
   "outputs": [
    {
     "data": {
      "text/markdown": [
       "Aby došlo k plastickému přetváření za jednoosého tahu při napětí 6.20 MPa a za jednoosého tlaku při napětí -15.20 MPa, musíme vyřešit následující soustavu rovnic."
      ],
      "text/plain": [
       "<IPython.core.display.Markdown object>"
      ]
     },
     "metadata": {},
     "output_type": "display_data"
    }
   ],
   "source": [
    "display(Markdown(f'Aby došlo k plastickému přetváření za jednoosého tahu při napětí {tension_yield:.2f} MPa ' \n",
    "                + f'a za jednoosého tlaku při napětí {-compression_yield:.2f} MPa, musíme vyřešit následující soustavu rovnic.'))"
   ]
  },
  {
   "cell_type": "code",
   "execution_count": 11,
   "id": "c8763565-6e67-46b7-aac6-3caa37b013fe",
   "metadata": {},
   "outputs": [
    {
     "data": {
      "text/latex": [
       "$\\displaystyle 6.2 \\alpha_{\\phi} - \\tau_{0} + 2.53113940087595 \\sqrt{2}$"
      ],
      "text/plain": [
       "6.2*alpha_phi - tau_0 + 2.53113940087595*sqrt(2)"
      ]
     },
     "execution_count": 11,
     "metadata": {},
     "output_type": "execute_result"
    }
   ],
   "source": [
    "# funkce plasticity pri pocatku plastickeho pretvareni v jednoosem tahu\n",
    "f_1 = f.subs(sigma_1, tension_yield).subs(sigma_2, 0).subs(sigma_3, 0)\n",
    "f_1"
   ]
  },
  {
   "cell_type": "code",
   "execution_count": 12,
   "id": "f8e78b91-b6a5-4614-8333-290ce541fce6",
   "metadata": {},
   "outputs": [
    {
     "data": {
      "text/latex": [
       "$\\displaystyle - 15.2 \\alpha_{\\phi} - \\tau_{0} + 5.06666666666667 \\sqrt{3}$"
      ],
      "text/plain": [
       "-15.2*alpha_phi - tau_0 + 5.06666666666667*sqrt(3)"
      ]
     },
     "execution_count": 12,
     "metadata": {},
     "output_type": "execute_result"
    }
   ],
   "source": [
    "# funkce plasticity pri pocatku plastickeho pretvareni v jednoosem tlaku\n",
    "f_2 = f.subs(sigma_1, 0).subs(sigma_2, 0).subs(sigma_3, -compression_yield)\n",
    "f_2"
   ]
  },
  {
   "cell_type": "code",
   "execution_count": 13,
   "id": "2e2162d2-56d9-417e-a5fe-35ef7fcfde4c",
   "metadata": {},
   "outputs": [
    {
     "data": {
      "text/plain": [
       "{alpha_phi: 0.242810860874142, tau_0: 5.08499900639536}"
      ]
     },
     "execution_count": 13,
     "metadata": {},
     "output_type": "execute_result"
    }
   ],
   "source": [
    "solution = smp.solve([f_1, f_2], [alpha_phi, tau_0])  # reseni soustavy rovnic\n",
    "alpha = solution[alpha_phi]  # soucinitel vnitrniho treni\n",
    "tau = solution[tau_0]  # mez kluzu ve smyku\n",
    "solution"
   ]
  },
  {
   "cell_type": "markdown",
   "id": "886eb23f-77fc-41dc-b18e-9e6e7b17727e",
   "metadata": {},
   "source": [
    "Funkce plasticity má tedy tvar:"
   ]
  },
  {
   "cell_type": "code",
   "execution_count": 14,
   "id": "f0a67369-7bc4-4001-b9de-44fc6acec194",
   "metadata": {},
   "outputs": [
    {
     "data": {
      "text/latex": [
       "$\\displaystyle 0.242810860874142 \\sigma_{1} + 0.242810860874142 \\sigma_{2} + 0.242810860874142 \\sigma_{3} + \\sqrt{\\frac{\\left(\\sigma_{1} - \\sigma_{2}\\right)^{2}}{6} + \\frac{\\left(\\sigma_{1} - \\sigma_{3}\\right)^{2}}{6} + \\frac{\\left(\\sigma_{2} - \\sigma_{3}\\right)^{2}}{6}} - 5.08499900639536$"
      ],
      "text/plain": [
       "0.242810860874142*sigma_1 + 0.242810860874142*sigma_2 + 0.242810860874142*sigma_3 + sqrt((sigma_1 - sigma_2)**2/6 + (sigma_1 - sigma_3)**2/6 + (sigma_2 - sigma_3)**2/6) - 5.08499900639536"
      ]
     },
     "execution_count": 14,
     "metadata": {},
     "output_type": "execute_result"
    }
   ],
   "source": [
    "f = f.subs(alpha_phi, alpha).subs(tau_0, tau)  # dosazeni za nezname koeficienty D-P podminky plasticity\n",
    "f"
   ]
  },
  {
   "cell_type": "markdown",
   "id": "6fc422d3-b898-444b-86e7-538751d4cc03",
   "metadata": {},
   "source": [
    "## Zatěžovací programy"
   ]
  },
  {
   "cell_type": "markdown",
   "id": "4eb69cba-88f5-44a6-9ac1-82f68af7ef42",
   "metadata": {},
   "source": [
    "# Zatěžovací program 1\n",
    "\n",
    "- Jednoosý tlak ve směru osy x"
   ]
  },
  {
   "cell_type": "code",
   "execution_count": 15,
   "id": "8c1e6117-44aa-4fc5-baa9-6174ad8cdbf1",
   "metadata": {},
   "outputs": [
    {
     "data": {
      "text/markdown": [
       "K plastickému přetváření za jednoosého tlaku začne docházet při napětí $\\sigma_x =-15.20\\,\\mathrm{MPa}$."
      ],
      "text/plain": [
       "<IPython.core.display.Markdown object>"
      ]
     },
     "metadata": {},
     "output_type": "display_data"
    }
   ],
   "source": [
    "display(Markdown('K plastickému přetváření za jednoosého tlaku začne docházet při napětí $\\sigma_x =' + f'{-compression_yield:.2f}'+ '\\,\\mathrm{MPa}$.'))"
   ]
  },
  {
   "cell_type": "code",
   "execution_count": 16,
   "id": "4799faa3-5032-484a-bfbd-19a0b58a43e7",
   "metadata": {},
   "outputs": [
    {
     "data": {
      "text/latex": [
       "$\\displaystyle \\sigma_x = -15.200000000000001\\,\\mathrm{MPa}$"
      ],
      "text/plain": [
       "<IPython.core.display.Math object>"
      ]
     },
     "metadata": {},
     "output_type": "display_data"
    },
    {
     "data": {
      "text/latex": [
       "$\\displaystyle \\varepsilon_x = -0.00047500000000000005$"
      ],
      "text/plain": [
       "<IPython.core.display.Math object>"
      ]
     },
     "metadata": {},
     "output_type": "display_data"
    },
    {
     "data": {
      "text/markdown": [
       "<br>"
      ],
      "text/plain": [
       "<IPython.core.display.Markdown object>"
      ]
     },
     "metadata": {},
     "output_type": "display_data"
    },
    {
     "data": {
      "text/latex": [
       "$\\displaystyle \\sigma_y = 0.0\\,\\mathrm{MPa}$"
      ],
      "text/plain": [
       "<IPython.core.display.Math object>"
      ]
     },
     "metadata": {},
     "output_type": "display_data"
    },
    {
     "data": {
      "text/latex": [
       "$\\displaystyle \\varepsilon_y = 9.5e-05$"
      ],
      "text/plain": [
       "<IPython.core.display.Math object>"
      ]
     },
     "metadata": {},
     "output_type": "display_data"
    },
    {
     "data": {
      "text/markdown": [
       "<br>"
      ],
      "text/plain": [
       "<IPython.core.display.Markdown object>"
      ]
     },
     "metadata": {},
     "output_type": "display_data"
    },
    {
     "data": {
      "text/latex": [
       "$\\displaystyle \\sigma_z = 0.0\\,\\mathrm{MPa}$"
      ],
      "text/plain": [
       "<IPython.core.display.Math object>"
      ]
     },
     "metadata": {},
     "output_type": "display_data"
    },
    {
     "data": {
      "text/latex": [
       "$\\displaystyle \\varepsilon_z = 9.5e-05$"
      ],
      "text/plain": [
       "<IPython.core.display.Math object>"
      ]
     },
     "metadata": {},
     "output_type": "display_data"
    },
    {
     "data": {
      "text/markdown": [
       "<br>"
      ],
      "text/plain": [
       "<IPython.core.display.Markdown object>"
      ]
     },
     "metadata": {},
     "output_type": "display_data"
    }
   ],
   "source": [
    "sigma_x = -compression_yield\n",
    "sigma_y = 0\n",
    "sigma_z = 0\n",
    "\n",
    "sigma = np.array([sigma_x, sigma_y, sigma_z])\n",
    "\n",
    "C = (1 / young_modulus) * np.array([\n",
    "    [1, -poissons_ratio, -poissons_ratio],\n",
    "    [-poissons_ratio, 1, -poissons_ratio],\n",
    "    [-poissons_ratio, -poissons_ratio, 1]\n",
    "])\n",
    "\n",
    "epsilon_el = C @ sigma.T\n",
    "epsilon_el\n",
    "\n",
    "for i, (ax, eps, sig) in enumerate(zip(['x', 'y', 'z'], epsilon_el, sigma)):\n",
    "    display(Math(f'\\\\sigma_{ax} = {sig}' + '\\,\\mathrm{MPa}'))\n",
    "    display(Math(f'\\\\varepsilon_{ax} = {eps}'))\n",
    "    display(Markdown('<br>'))"
   ]
  },
  {
   "cell_type": "code",
   "execution_count": 17,
   "id": "969303f2-0eaf-446c-baf3-0dd10118c205",
   "metadata": {},
   "outputs": [],
   "source": [
    "alpha_psi = smp.symbols('alpha_psi') # soucinitel dilatace"
   ]
  },
  {
   "cell_type": "code",
   "execution_count": 18,
   "id": "d296f445-cfb3-49d9-a52f-f1a2817e9cfd",
   "metadata": {},
   "outputs": [
    {
     "data": {
      "text/latex": [
       "$\\displaystyle \\alpha_{\\psi} \\left(\\sigma_{1} + \\sigma_{2} + \\sigma_{3}\\right) - \\tau_{0} + \\sqrt{\\frac{\\left(\\sigma_{1} - \\sigma_{2}\\right)^{2}}{6} + \\frac{\\left(\\sigma_{1} - \\sigma_{3}\\right)^{2}}{6} + \\frac{\\left(\\sigma_{2} - \\sigma_{3}\\right)^{2}}{6}}$"
      ],
      "text/plain": [
       "alpha_psi*(sigma_1 + sigma_2 + sigma_3) - tau_0 + sqrt((sigma_1 - sigma_2)**2/6 + (sigma_1 - sigma_3)**2/6 + (sigma_2 - sigma_3)**2/6)"
      ]
     },
     "execution_count": 18,
     "metadata": {},
     "output_type": "execute_result"
    }
   ],
   "source": [
    "# plasticky potencial\n",
    "g = I_1 * alpha_psi + smp.sqrt(J_2) - tau_0\n",
    "g"
   ]
  },
  {
   "cell_type": "code",
   "execution_count": 19,
   "id": "6d2374ae-c869-4ff8-b6fe-82282ccd083c",
   "metadata": {},
   "outputs": [
    {
     "data": {
      "text/latex": [
       "$\\displaystyle 0.121405430437071 \\sigma_{1} + 0.121405430437071 \\sigma_{2} + 0.121405430437071 \\sigma_{3} + \\sqrt{\\frac{\\left(\\sigma_{1} - \\sigma_{2}\\right)^{2}}{6} + \\frac{\\left(\\sigma_{1} - \\sigma_{3}\\right)^{2}}{6} + \\frac{\\left(\\sigma_{2} - \\sigma_{3}\\right)^{2}}{6}} - 5.08499900639536$"
      ],
      "text/plain": [
       "0.121405430437071*sigma_1 + 0.121405430437071*sigma_2 + 0.121405430437071*sigma_3 + sqrt((sigma_1 - sigma_2)**2/6 + (sigma_1 - sigma_3)**2/6 + (sigma_2 - sigma_3)**2/6) - 5.08499900639536"
      ]
     },
     "execution_count": 19,
     "metadata": {},
     "output_type": "execute_result"
    }
   ],
   "source": [
    "g = g.subs(alpha_psi, alpha/2).subs(tau_0, tau)\n",
    "g"
   ]
  },
  {
   "cell_type": "code",
   "execution_count": 20,
   "id": "60ded59d-4411-4dbb-8b9a-0fb97eaa7bb8",
   "metadata": {},
   "outputs": [
    {
     "data": {
      "text/latex": [
       "$\\displaystyle \\frac{\\frac{\\sigma_{1}}{3} - \\frac{\\sigma_{2}}{6} - \\frac{\\sigma_{3}}{6}}{\\sqrt{\\frac{\\left(\\sigma_{1} - \\sigma_{2}\\right)^{2}}{6} + \\frac{\\left(\\sigma_{1} - \\sigma_{3}\\right)^{2}}{6} + \\frac{\\left(\\sigma_{2} - \\sigma_{3}\\right)^{2}}{6}}} + 0.121405430437071$"
      ],
      "text/plain": [
       "(sigma_1/3 - sigma_2/6 - sigma_3/6)/sqrt((sigma_1 - sigma_2)**2/6 + (sigma_1 - sigma_3)**2/6 + (sigma_2 - sigma_3)**2/6) + 0.121405430437071"
      ]
     },
     "execution_count": 20,
     "metadata": {},
     "output_type": "execute_result"
    }
   ],
   "source": [
    "dgdsx = smp.diff(g, sigma_1)  # vypocet derivace plastickeho potencialu podle sigma_x\n",
    "dgdsx"
   ]
  },
  {
   "cell_type": "code",
   "execution_count": 21,
   "id": "f1cdd397-c099-4b26-bae9-e3daa7de1f68",
   "metadata": {},
   "outputs": [],
   "source": [
    "lamb = ((-2/1000) / dgdsx.subs(sigma_1, sigma_x).subs(sigma_2, sigma_y).subs(sigma_3, sigma_z)).evalf()"
   ]
  },
  {
   "cell_type": "code",
   "execution_count": 22,
   "id": "51a0f850-8381-40c5-b72b-6e7665833b0a",
   "metadata": {},
   "outputs": [
    {
     "data": {
      "text/latex": [
       "$\\displaystyle \\varepsilon_{tot,x} = -0.00247500000000000$"
      ],
      "text/plain": [
       "<IPython.core.display.Math object>"
      ]
     },
     "metadata": {},
     "output_type": "display_data"
    },
    {
     "data": {
      "text/markdown": [
       "<br>"
      ],
      "text/plain": [
       "<IPython.core.display.Markdown object>"
      ]
     },
     "metadata": {},
     "output_type": "display_data"
    },
    {
     "data": {
      "text/latex": [
       "$\\displaystyle \\varepsilon_{tot,y} = 0.00189381656804734$"
      ],
      "text/plain": [
       "<IPython.core.display.Math object>"
      ]
     },
     "metadata": {},
     "output_type": "display_data"
    },
    {
     "data": {
      "text/markdown": [
       "<br>"
      ],
      "text/plain": [
       "<IPython.core.display.Markdown object>"
      ]
     },
     "metadata": {},
     "output_type": "display_data"
    },
    {
     "data": {
      "text/latex": [
       "$\\displaystyle \\varepsilon_{tot,z} = 0.00189381656804734$"
      ],
      "text/plain": [
       "<IPython.core.display.Math object>"
      ]
     },
     "metadata": {},
     "output_type": "display_data"
    },
    {
     "data": {
      "text/markdown": [
       "<br>"
      ],
      "text/plain": [
       "<IPython.core.display.Markdown object>"
      ]
     },
     "metadata": {},
     "output_type": "display_data"
    }
   ],
   "source": [
    "# vypocet celkove deformace\n",
    "for i, (ax, sig) in enumerate(zip(['x', 'y', 'z'], [sigma_1, sigma_2, sigma_3])):\n",
    "    eps_pl = lamb * smp.diff(g, sig).subs(sigma_1, sigma_x).subs(sigma_2, sigma_y).subs(sigma_3, sigma_z)  # plasticka deformace: eps_pl = lambda * dg/dsigma\n",
    "    eps_tot = eps_pl.evalf() + epsilon_el[i]  # soucet elasticke a plasticke deformace\n",
    "    display(Math('\\\\varepsilon_{tot,' + ax + '} = ' + f'{eps_tot}'))\n",
    "\n",
    "    # display(Math('df/d \\\\sigma_{' + ax + '} = ' + f'{smp.diff(f, sig).subs(sigma_1, sigma_x).subs(sigma_2, sigma_y).subs(sigma_3, sigma_z).evalf()}'))\n",
    "    # display(Math('dg/d \\\\sigma_{' + ax + '} = ' + f'{smp.diff(g, sig).subs(sigma_1, sigma_x).subs(sigma_2, sigma_y).subs(sigma_3, sigma_z).evalf()}'))\n",
    "    \n",
    "    display(Markdown('<br>'))"
   ]
  },
  {
   "cell_type": "code",
   "execution_count": 23,
   "id": "538d0c42-1e5d-4851-acb7-f3b502cd07c6",
   "metadata": {},
   "outputs": [],
   "source": [
    "func = smp.lambdify([sigma_1, sigma_2], f.subs(sigma_3, 0))"
   ]
  },
  {
   "cell_type": "code",
   "execution_count": 24,
   "id": "ce5df191-e123-4f9f-b6f7-bfe2f7e24052",
   "metadata": {},
   "outputs": [
    {
     "data": {
      "image/png": "[encoded data removed]",
      "text/plain": [
       "<Figure size 800x600 with 1 Axes>"
      ]
     },
     "metadata": {},
     "output_type": "display_data"
    }
   ],
   "source": [
    "# Create a grid of sigma_1 and sigma_2 values\n",
    "sigma1 = np.linspace(-60, 10, 200)\n",
    "sigma2 = np.linspace(-60, 10, 200)\n",
    "sigma1, sigma2 = np.meshgrid(sigma1, sigma2)\n",
    "\n",
    "z = func(sigma1, sigma2)\n",
    "\n",
    "# Plot the contour where the expression equals zero\n",
    "plt.figure(figsize=(8, 6))\n",
    "\n",
    "plt.axhline(0, color='k', lw=2)\n",
    "plt.axvline(0, color='k', lw=2)\n",
    "\n",
    "contour = plt.contour(sigma1, sigma2, z, levels=[0], colors='k')\n",
    "\n",
    "scale = 15\n",
    "\n",
    "plt.plot([-compression_yield, -compression_yield + smp.diff(g, sigma_1).subs(sigma_1, sigma_x).subs(sigma_2, sigma_y).subs(sigma_3, sigma_z) * scale], \n",
    "         [0, smp.diff(g, sigma_2).subs(sigma_1, sigma_x).subs(sigma_2, sigma_y).subs(sigma_3, sigma_z) * scale], '-o', label='$\\partial g / \\partial\\sigma$')\n",
    "\n",
    "plt.plot([-compression_yield, -compression_yield + smp.diff(f, sigma_1).subs(sigma_1, sigma_x).subs(sigma_2, sigma_y).subs(sigma_3, sigma_z) * scale], \n",
    "         [0, smp.diff(f, sigma_2).subs(sigma_1, sigma_x).subs(sigma_2, sigma_y).subs(sigma_3, sigma_z) * scale], '-o', label='$\\partial f / \\partial\\sigma$')\n",
    "\n",
    "\n",
    "plt.xlabel(r'$\\sigma_x \\, \\mathrm{(MPa)}$')\n",
    "plt.ylabel('$\\sigma_y \\, \\mathrm{(MPa)}$')\n",
    "plt.title('Plocha plasticity při rovinné napjatosti')\n",
    "\n",
    "plt.grid(which=\"major\", linestyle=(10, (20, 6)), color='black', lw=0.3)\n",
    "plt.minorticks_on()\n",
    "plt.grid(which=\"minor\", linestyle=(0, (1, 3)), color='black', lw=0.3)\n",
    "\n",
    "plt.legend(fontsize=20)\n",
    "\n",
    "plt.show()"
   ]
  },
  {
   "cell_type": "markdown",
   "id": "73922b02-8cec-4162-9019-6e28ed0d2941",
   "metadata": {},
   "source": [
    "# Zatěžovací program 2\n",
    "\n",
    "- Dvojosý tlak ve rovině $xy$ s poměrem napětí $\\sigma_x : \\sigma_y = 2:1$"
   ]
  },
  {
   "cell_type": "code",
   "execution_count": 25,
   "id": "3662a2c5-408e-4c91-b693-b24edaf1f670",
   "metadata": {},
   "outputs": [
    {
     "data": {
      "text/markdown": [
       "K plastickému přetváření za dvojosého tlaku začne docházet při hodnotách:"
      ],
      "text/plain": [
       "<IPython.core.display.Markdown object>"
      ]
     },
     "metadata": {},
     "output_type": "display_data"
    },
    {
     "data": {
      "text/latex": [
       "$\\displaystyle \\sigma_x = -37.4492570242727\\,\\mathrm{MPa}$"
      ],
      "text/plain": [
       "<IPython.core.display.Math object>"
      ]
     },
     "metadata": {},
     "output_type": "display_data"
    },
    {
     "data": {
      "text/latex": [
       "$\\displaystyle \\varepsilon_x = -0.00105326035380767$"
      ],
      "text/plain": [
       "<IPython.core.display.Math object>"
      ]
     },
     "metadata": {},
     "output_type": "display_data"
    },
    {
     "data": {
      "text/markdown": [
       "<br>"
      ],
      "text/plain": [
       "<IPython.core.display.Markdown object>"
      ]
     },
     "metadata": {},
     "output_type": "display_data"
    },
    {
     "data": {
      "text/latex": [
       "$\\displaystyle \\sigma_y = -18.7246285121364\\,\\mathrm{MPa}$"
      ],
      "text/plain": [
       "<IPython.core.display.Math object>"
      ]
     },
     "metadata": {},
     "output_type": "display_data"
    },
    {
     "data": {
      "text/latex": [
       "$\\displaystyle \\varepsilon_y = -0.000351086784602557$"
      ],
      "text/plain": [
       "<IPython.core.display.Math object>"
      ]
     },
     "metadata": {},
     "output_type": "display_data"
    },
    {
     "data": {
      "text/markdown": [
       "<br>"
      ],
      "text/plain": [
       "<IPython.core.display.Markdown object>"
      ]
     },
     "metadata": {},
     "output_type": "display_data"
    },
    {
     "data": {
      "text/latex": [
       "$\\displaystyle \\sigma_z = 0\\,\\mathrm{MPa}$"
      ],
      "text/plain": [
       "<IPython.core.display.Math object>"
      ]
     },
     "metadata": {},
     "output_type": "display_data"
    },
    {
     "data": {
      "text/latex": [
       "$\\displaystyle \\varepsilon_z = 0.000351086784602557$"
      ],
      "text/plain": [
       "<IPython.core.display.Math object>"
      ]
     },
     "metadata": {},
     "output_type": "display_data"
    },
    {
     "data": {
      "text/markdown": [
       "<br>"
      ],
      "text/plain": [
       "<IPython.core.display.Markdown object>"
      ]
     },
     "metadata": {},
     "output_type": "display_data"
    }
   ],
   "source": [
    "sol = smp.solve(f.subs(sigma_2, sigma_1/2).subs(sigma_3, 0), sigma_1)\n",
    "\n",
    "sol = np.array(sol)\n",
    "\n",
    "sigma_x = sol[sol<0][0]\n",
    "sigma_y = sigma_x / 2\n",
    "sigma_z = 0\n",
    "\n",
    "sigma = np.array([sigma_x, sigma_y, sigma_z])\n",
    "\n",
    "C = (1 / young_modulus) * np.array([\n",
    "    [1, -poissons_ratio, -poissons_ratio],\n",
    "    [-poissons_ratio, 1, -poissons_ratio],\n",
    "    [-poissons_ratio, -poissons_ratio, 1]\n",
    "])\n",
    "\n",
    "epsilon_el = C @ sigma.T\n",
    "epsilon_el\n",
    "\n",
    "\n",
    "display(Markdown('K plastickému přetváření za dvojosého tlaku začne docházet při hodnotách:'))\n",
    "for i, (ax, eps, sig) in enumerate(zip(['x', 'y', 'z'], epsilon_el, sigma)):\n",
    "    display(Math(f'\\\\sigma_{ax} = {sig}' + '\\,\\mathrm{MPa}'))\n",
    "    display(Math(f'\\\\varepsilon_{ax} = {eps}'))\n",
    "    display(Markdown('<br>'))"
   ]
  },
  {
   "cell_type": "code",
   "execution_count": 26,
   "id": "b7a2983f-ff48-47a6-8599-aa48abcbecba",
   "metadata": {},
   "outputs": [],
   "source": [
    "lamb = ((-2/1000) / dgdsx.subs(sigma_1, sigma_x).subs(sigma_2, sigma_y).subs(sigma_3, sigma_z)).evalf()"
   ]
  },
  {
   "cell_type": "code",
   "execution_count": 27,
   "id": "e8f6b69c-0dde-4e7d-8a08-da6e86b7bfcb",
   "metadata": {},
   "outputs": [
    {
     "data": {
      "text/latex": [
       "$\\displaystyle \\varepsilon_{tot,x} = -0.00305326035380767$"
      ],
      "text/plain": [
       "<IPython.core.display.Math object>"
      ]
     },
     "metadata": {},
     "output_type": "display_data"
    },
    {
     "data": {
      "text/markdown": [
       "<br>"
      ],
      "text/plain": [
       "<IPython.core.display.Markdown object>"
      ]
     },
     "metadata": {},
     "output_type": "display_data"
    },
    {
     "data": {
      "text/latex": [
       "$\\displaystyle \\varepsilon_{tot,y} = 0.000290261191292756$"
      ],
      "text/plain": [
       "<IPython.core.display.Math object>"
      ]
     },
     "metadata": {},
     "output_type": "display_data"
    },
    {
     "data": {
      "text/markdown": [
       "<br>"
      ],
      "text/plain": [
       "<IPython.core.display.Markdown object>"
      ]
     },
     "metadata": {},
     "output_type": "display_data"
    },
    {
     "data": {
      "text/latex": [
       "$\\displaystyle \\varepsilon_{tot,z} = 0.00363378273639318$"
      ],
      "text/plain": [
       "<IPython.core.display.Math object>"
      ]
     },
     "metadata": {},
     "output_type": "display_data"
    },
    {
     "data": {
      "text/markdown": [
       "<br>"
      ],
      "text/plain": [
       "<IPython.core.display.Markdown object>"
      ]
     },
     "metadata": {},
     "output_type": "display_data"
    }
   ],
   "source": [
    "# vypocet celkove deformace\n",
    "for i, (ax, sig) in enumerate(zip(['x', 'y', 'z'], [sigma_1, sigma_2, sigma_3])):\n",
    "    eps_pl = lamb * smp.diff(g, sig).subs(sigma_1, sigma_x).subs(sigma_2, sigma_y).subs(sigma_3, sigma_z)  # plasticka deformace: eps_pl = lambda * dg/dsigma\n",
    "    eps_tot = eps_pl.evalf() + epsilon_el[i]  # soucet elasticke a plasticke deformace\n",
    "    display(Math('\\\\varepsilon_{tot,' + ax + '} = ' + f'{eps_tot}'))\n",
    "\n",
    "    # display(Math('df/d \\\\sigma_{' + ax + '} = ' + f'{smp.diff(f, sig).subs(sigma_1, sigma_x).subs(sigma_2, sigma_y).subs(sigma_3, sigma_z).evalf()}'))\n",
    "    # display(Math('dg/d \\\\sigma_{' + ax + '} = ' + f'{smp.diff(g, sig).subs(sigma_1, sigma_x).subs(sigma_2, sigma_y).subs(sigma_3, sigma_z).evalf()}'))\n",
    "    \n",
    "    display(Markdown('<br>'))"
   ]
  },
  {
   "cell_type": "code",
   "execution_count": 28,
   "id": "057c5b6f-9a7f-48b4-b400-438b3a2f0bdb",
   "metadata": {},
   "outputs": [
    {
     "data": {
      "image/png": "[encoded data removed]",
      "text/plain": [
       "<Figure size 800x600 with 1 Axes>"
      ]
     },
     "metadata": {},
     "output_type": "display_data"
    }
   ],
   "source": [
    "# Create a grid of sigma_1 and sigma_2 values\n",
    "sigma1 = np.linspace(-60, 10, 200)\n",
    "sigma2 = np.linspace(-60, 10, 200)\n",
    "sigma1, sigma2 = np.meshgrid(sigma1, sigma2)\n",
    "\n",
    "z = func(sigma1, sigma2)\n",
    "\n",
    "# Plot the contour where the expression equals zero\n",
    "plt.figure(figsize=(8, 6))\n",
    "\n",
    "plt.axhline(0, color='k', lw=2)\n",
    "plt.axvline(0, color='k', lw=2)\n",
    "\n",
    "contour = plt.contour(sigma1, sigma2, z, levels=[0], colors='k')\n",
    "\n",
    "scale = 15\n",
    "\n",
    "plt.plot([sigma_x, sigma_x + smp.diff(g, sigma_1).subs(sigma_1, sigma_x).subs(sigma_2, sigma_y).subs(sigma_3, sigma_z) * scale], \n",
    "         [sigma_y, sigma_y + smp.diff(g, sigma_2).subs(sigma_1, sigma_x).subs(sigma_2, sigma_y).subs(sigma_3, sigma_z) * scale], '-o', label='$\\partial g / \\partial\\sigma$')\n",
    "\n",
    "plt.plot([sigma_x, sigma_x + smp.diff(f, sigma_1).subs(sigma_1, sigma_x).subs(sigma_2, sigma_y).subs(sigma_3, sigma_z) * scale], \n",
    "         [sigma_y, sigma_y + smp.diff(f, sigma_2).subs(sigma_1, sigma_x).subs(sigma_2, sigma_y).subs(sigma_3, sigma_z) * scale], '-o', label='$\\partial f / \\partial\\sigma$')\n",
    "\n",
    "\n",
    "plt.xlabel(r'$\\sigma_x \\, \\mathrm{(MPa)}$')\n",
    "plt.ylabel('$\\sigma_y \\, \\mathrm{(MPa)}$')\n",
    "plt.title('Plocha plasticity při rovinné napjatosti')\n",
    "\n",
    "plt.grid(which=\"major\", linestyle=(10, (20, 6)), color='black', lw=0.3)\n",
    "plt.minorticks_on()\n",
    "plt.grid(which=\"minor\", linestyle=(0, (1, 3)), color='black', lw=0.3)\n",
    "\n",
    "plt.legend(fontsize=20)\n",
    "\n",
    "plt.show()"
   ]
  },
  {
   "cell_type": "markdown",
   "id": "d32c7b4f-4d81-409f-b428-03dfc808f3ee",
   "metadata": {},
   "source": [
    "# Zatěžovací program 3\n",
    "\n",
    "- Trojosý tlak s poměrem napětí $\\sigma_x : \\sigma_y : \\sigma_z = 4:1:1$"
   ]
  },
  {
   "cell_type": "code",
   "execution_count": 29,
   "id": "baf9d9f4-079f-436b-b636-e1420c4a662e",
   "metadata": {},
   "outputs": [
    {
     "data": {
      "text/markdown": [
       "K plastickému přetváření za dvojosého tlaku začne docházet při hodnotách:"
      ],
      "text/plain": [
       "<IPython.core.display.Markdown object>"
      ]
     },
     "metadata": {},
     "output_type": "display_data"
    },
    {
     "data": {
      "text/latex": [
       "$\\displaystyle \\sigma_x = -73.9137254901966\\,\\mathrm{MPa}$"
      ],
      "text/plain": [
       "<IPython.core.display.Math object>"
      ]
     },
     "metadata": {},
     "output_type": "display_data"
    },
    {
     "data": {
      "text/latex": [
       "$\\displaystyle \\varepsilon_x = -0.00207882352941178$"
      ],
      "text/plain": [
       "<IPython.core.display.Math object>"
      ]
     },
     "metadata": {},
     "output_type": "display_data"
    },
    {
     "data": {
      "text/markdown": [
       "<br>"
      ],
      "text/plain": [
       "<IPython.core.display.Markdown object>"
      ]
     },
     "metadata": {},
     "output_type": "display_data"
    },
    {
     "data": {
      "text/latex": [
       "$\\displaystyle \\sigma_y = -18.4784313725492\\,\\mathrm{MPa}$"
      ],
      "text/plain": [
       "<IPython.core.display.Math object>"
      ]
     },
     "metadata": {},
     "output_type": "display_data"
    },
    {
     "data": {
      "text/latex": [
       "$\\displaystyle \\varepsilon_y = 0$"
      ],
      "text/plain": [
       "<IPython.core.display.Math object>"
      ]
     },
     "metadata": {},
     "output_type": "display_data"
    },
    {
     "data": {
      "text/markdown": [
       "<br>"
      ],
      "text/plain": [
       "<IPython.core.display.Markdown object>"
      ]
     },
     "metadata": {},
     "output_type": "display_data"
    },
    {
     "data": {
      "text/latex": [
       "$\\displaystyle \\sigma_z = -18.4784313725492\\,\\mathrm{MPa}$"
      ],
      "text/plain": [
       "<IPython.core.display.Math object>"
      ]
     },
     "metadata": {},
     "output_type": "display_data"
    },
    {
     "data": {
      "text/latex": [
       "$\\displaystyle \\varepsilon_z = 0$"
      ],
      "text/plain": [
       "<IPython.core.display.Math object>"
      ]
     },
     "metadata": {},
     "output_type": "display_data"
    },
    {
     "data": {
      "text/markdown": [
       "<br>"
      ],
      "text/plain": [
       "<IPython.core.display.Markdown object>"
      ]
     },
     "metadata": {},
     "output_type": "display_data"
    }
   ],
   "source": [
    "sol = smp.solve(f.subs(sigma_2, sigma_1/4).subs(sigma_3, sigma_1/4), sigma_1)\n",
    "\n",
    "sol = np.array(sol)\n",
    "\n",
    "sigma_x = sol[sol<0][0]\n",
    "sigma_y = sigma_x / 4\n",
    "sigma_z = sigma_x / 4 \n",
    "\n",
    "sigma = np.array([sigma_x, sigma_y, sigma_z])\n",
    "\n",
    "C = (1 / young_modulus) * np.array([\n",
    "    [1, -poissons_ratio, -poissons_ratio],\n",
    "    [-poissons_ratio, 1, -poissons_ratio],\n",
    "    [-poissons_ratio, -poissons_ratio, 1]\n",
    "])\n",
    "\n",
    "epsilon_el = C @ sigma.T\n",
    "epsilon_el\n",
    "\n",
    "\n",
    "display(Markdown('K plastickému přetváření za dvojosého tlaku začne docházet při hodnotách:'))\n",
    "for i, (ax, eps, sig) in enumerate(zip(['x', 'y', 'z'], epsilon_el, sigma)):\n",
    "    display(Math(f'\\\\sigma_{ax} = {sig}' + '\\,\\mathrm{MPa}'))\n",
    "    display(Math(f'\\\\varepsilon_{ax} = {eps}'))    \n",
    "    display(Markdown('<br>'))"
   ]
  },
  {
   "cell_type": "code",
   "execution_count": 30,
   "id": "6030d5e0-8e47-4231-832d-6823f71eebf6",
   "metadata": {},
   "outputs": [],
   "source": [
    "lamb = ((-2/1000) / dgdsx.subs(sigma_1, sigma_x).subs(sigma_2, sigma_y).subs(sigma_3, sigma_z)).evalf()"
   ]
  },
  {
   "cell_type": "code",
   "execution_count": 31,
   "id": "d25b3f42-b7c7-47e2-aa19-17e017c76a04",
   "metadata": {},
   "outputs": [
    {
     "data": {
      "text/latex": [
       "$\\displaystyle \\varepsilon_{tot,x} = -0.00407882352941178$"
      ],
      "text/plain": [
       "<IPython.core.display.Math object>"
      ]
     },
     "metadata": {},
     "output_type": "display_data"
    },
    {
     "data": {
      "text/markdown": [
       "<br>"
      ],
      "text/plain": [
       "<IPython.core.display.Markdown object>"
      ]
     },
     "metadata": {},
     "output_type": "display_data"
    },
    {
     "data": {
      "text/latex": [
       "$\\displaystyle \\varepsilon_{tot,y} = 0.00179881656804734$"
      ],
      "text/plain": [
       "<IPython.core.display.Math object>"
      ]
     },
     "metadata": {},
     "output_type": "display_data"
    },
    {
     "data": {
      "text/markdown": [
       "<br>"
      ],
      "text/plain": [
       "<IPython.core.display.Markdown object>"
      ]
     },
     "metadata": {},
     "output_type": "display_data"
    },
    {
     "data": {
      "text/latex": [
       "$\\displaystyle \\varepsilon_{tot,z} = 0.00179881656804734$"
      ],
      "text/plain": [
       "<IPython.core.display.Math object>"
      ]
     },
     "metadata": {},
     "output_type": "display_data"
    },
    {
     "data": {
      "text/markdown": [
       "<br>"
      ],
      "text/plain": [
       "<IPython.core.display.Markdown object>"
      ]
     },
     "metadata": {},
     "output_type": "display_data"
    }
   ],
   "source": [
    "# vypocet celkove deformace\n",
    "for i, (ax, sig) in enumerate(zip(['x', 'y', 'z'], [sigma_1, sigma_2, sigma_3])):\n",
    "    eps_pl = lamb * smp.diff(g, sig).subs(sigma_1, sigma_x).subs(sigma_2, sigma_y).subs(sigma_3, sigma_z)  # plasticka deformace: eps_pl = lambda * dg/dsigma\n",
    "    eps_tot = eps_pl.evalf() + epsilon_el[i]  # soucet elasticke a plasticke deformace\n",
    "    display(Math('\\\\varepsilon_{tot,' + ax + '} = ' + f'{eps_tot}'))\n",
    "\n",
    "    # display(Math('df/d \\\\sigma_{' + ax + '} = ' + f'{smp.diff(f, sig).subs(sigma_1, sigma_x).subs(sigma_2, sigma_y).subs(sigma_3, sigma_z).evalf()}'))\n",
    "    # display(Math('dg/d \\\\sigma_{' + ax + '} = ' + f'{smp.diff(g, sig).subs(sigma_1, sigma_x).subs(sigma_2, sigma_y).subs(sigma_3, sigma_z).evalf()}'))\n",
    "    \n",
    "    display(Markdown('<br>'))"
   ]
  }
 ],
 "metadata": {
  "kernelspec": {
   "display_name": "Python 3 (ipykernel)",
   "language": "python",
   "name": "python3"
  },
  "language_info": {
   "codemirror_mode": {
    "name": "ipython",
    "version": 3
   },
   "file_extension": ".py",
   "mimetype": "text/x-python",
   "name": "python",
   "nbconvert_exporter": "python",
   "pygments_lexer": "ipython3",
   "version": "3.11.7"
  }
 },
 "nbformat": 4,
 "nbformat_minor": 5
}
