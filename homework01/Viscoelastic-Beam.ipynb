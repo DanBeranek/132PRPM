{
 "cells": [
  {
   "cell_type": "markdown",
   "id": "0aa59122-9f08-4312-9128-c304a5a20b34",
   "metadata": {
    "collapsed": false,
    "jupyter": {
     "outputs_hidden": false
    }
   },
   "source": [
    "\n",
    "---\n",
    "\n",
    "# Viskoelastický spojitý nosník\n",
    "\n",
    "---\n",
    "\n",
    "Vypracoval: Daniel **BERÁNEK**\n",
    "\n",
    "Předmět: **132PRPM** - Přetváření a porušování materiálů\n",
    "\n",
    "---\n",
    "\n",
    "**Koeficienty:**\n",
    "\n",
    "a = 1.2\n",
    "\n",
    "b = 1.4\n",
    "\n",
    "c = 0.8\n",
    "\n",
    "---\n",
    "\n",
    "## Zadání\n",
    "\n",
    "<img src=\"img/spojity-nosnik.png\" style=\"margin:auto\">\n",
    "<p style=\"text-align:center\">Obrázek 1: Statické schéma</p>\n",
    "\n",
    "Spojitý nosník na obrázku je vyroben z betonu a má obdélníkový průřez o šířce $b = 0.4 \\, \\mathrm{m}$ a výšce $h = 0.6 \\, \\mathrm{m}$. Rozpětí jednotlivých polí je $L_{12}=(4+a) \\, \\mathrm{m}$ a $L_{23} = (3+b) \\, \\mathrm{m}$.\n",
    "\n",
    "Předpokládejte, že se beton chová jako stárnoucí lineárně viskoelastický materiál, a zanedbejte veškeré další vlivy, např. smršťování, vznik trhlin v tažené oblasti nebo vliv výztuže. Ve stáří $32 \\, \\mathrm{dní}$ došlo k náhlému pokles střední podpory o $\\bar{w}_2 = (a+c) \\, \\mathrm{mm}$ a ve stáří $70 \\, \\mathrm{dní}$ byl nosník zatížen osamělou silou $F = 100 c \\, \\mathrm{kN}$ uprostřed levého pole.\n",
    "\n",
    "Vypočtěte a vykreslete průběh ohybových momentů v následujících okamžicích:\n",
    "\n",
    "1. ve stáří 32 dnů, těsně po poklesu podpory,\n",
    "2. ve stáří 70 dnů, těsně před zatížením silou $F$,\n",
    "3. ve stáří 70 dnů, těsně po zatížení silou $F$,\n",
    "4. ve stáří 365 dnů.\n",
    "\n",
    "Pro všechny tyto okamžiky také vypočtěte pootočení $\\varphi_2$ průřezu nad střední podporou a průhyb $w_c$ uprostřed levého pole. Funkci poddajnosti a relaxační funkci uvažujte podle **fib Model Code 2010**. Použitý beton byl vyroben z křemičitého kameniva a normálně tuhnoucího cementu a jeho průměrná tlaková pevnost měřená na válcích ve stáří $28 \\, \\mathrm{dní}$ byla $45 \\, \\mathrm{MPa}$. Nosník byl ošetřován prvních $12 \\, \\mathrm{dní}$ s ochranou proti vysoušení a poté vystaven prostředí o relativní vlhkosti $65%$. Jedním ze vstupních parametrů je také jmenovitá tloušťka $h$, kterou určíte jako dvojnásobek podílu mezi obsahem (plochou) a obvodem průřezu.\n",
    "\n",
    "Na začátku kontroly budete dotázáni na hodnoty funkce poddajnosti $J(50, 15)$ a $R(50, 15)$, které slouží k ověření toho, zda jste zadali správně parametry modelu pro dotvarování, ale v samotném řešení úlohy se přímo neuplatní. Dále budete pro kontrolu potřebovat hodnoty pootočení $\\varphi_2$, průhybu $w_c$ a momentové reakce ve vetknutí $R_M$ ve všech výše zmíněných okamžicích. Znaménka všech veličin uvažujte podle obvyklé konvence: kladné hodnoty momentové reakce a pootočení odpovídají smyslu otáčení proti hodinovým ručičkám, průhyb je kladný dolů. Pootočení budete zadávat v miliradiánech, průhyb v milimetrech a momentovou reakci v kNm.\n",
    "\n",
    "Doporučujeme průběžné výpočty provádět se symboly a konkrétní hodnoty dosadit až do finálních výsledků, jinak hrozí, že bude postup nepřehledný a při opisování čísel vznikne chyba."
   ]
  },
  {
   "cell_type": "markdown",
   "id": "f34d75b7-9edc-449d-86b9-7174750840b3",
   "metadata": {},
   "source": [
    "Konstrukci rozdělíme na 3 pruty. Protože na konstrukci působí pouze svislé zatížení, můžeme předpokládat, že veškeré vodorovné posuny jsou rovny 0. Ve vetknutí ve styčníku $1$ je zabráněno svislému posunu i pootočení, ve styčníku $c$ je svislé posunutí i pootočení neznámé, ve styčníku $1$ není bráněno natočení a svislý posun je předepsán funkcí $\\hat{w}_2(t)$, ve styčníku $2$ je zabráněno svislému posunu, natočení není bráněno, ale pomocí uvážení nulového momentu v kloubovém styčníku (statická kondenzace) lze neznámou odpovídající natočení styčníku odkondenzovat.\n",
    "\n",
    "Neznámé v této úloze jsou tedy svislý posun styčníku c ($w_c$), natočení styčníku c ($\\varphi_c$) a natočení styčníku 2 ($\\varphi_2$).\n",
    "\n",
    "<img src=\"img/nezname.jpg\" style=\"margin:auto; width: 1000px\">\n",
    "<p style=\"text-align:center\">Obrázek 2: Posuny a pootočení, kódová čísla</p>\n",
    "\n",
    "<img src=\"img/zatizeni.jpg\" style=\"margin:auto; width: 1000px\">\n",
    "<p style=\"text-align:center\">Obrázek 3: Předepsané zatížení, posuny styčníků</p>\n",
    "\n",
    "<img src=\"img/koncove_momenty_sily.jpg\" style=\"margin:auto; width: 1000px\">\n",
    "<p style=\"text-align:center\">Obrázek 4: Koncové síly a momenty</p>\n",
    "\n",
    "<img src=\"img/casova_osa.jpg\" style=\"margin:auto; width: 1000px\">\n",
    "<p style=\"text-align:center\">Obrázek 5: Časová osa</p>"
   ]
  },
  {
   "cell_type": "code",
   "execution_count": 1,
   "id": "f7622b92-0ddc-4914-abe1-66c0a6bdfc6c",
   "metadata": {},
   "outputs": [],
   "source": [
    "# import knihoven\n",
    "import sympy as smp\n",
    "import matplotlib.pyplot as plt\n",
    "import copy"
   ]
  },
  {
   "cell_type": "code",
   "execution_count": 2,
   "id": "769fc208-c2ac-4792-8626-22d9b26082b3",
   "metadata": {},
   "outputs": [],
   "source": [
    "# koeficienty\n",
    "a = 1.2\n",
    "b = 1.4\n",
    "c = 0.8"
   ]
  },
  {
   "cell_type": "code",
   "execution_count": 3,
   "id": "48c70cb0-fdab-40f0-8fc2-a819a4b50d87",
   "metadata": {},
   "outputs": [],
   "source": [
    "# inicializace symbolických proměnných\n",
    "w_1, w_c, w_2, w_3 = smp.symbols('w_1 w_c w_2 w_3')\n",
    "w_bar = smp.symbols('wbar_2')\n",
    "phi_1, phi_c, phi_2 = smp.symbols('varphi_1 varphi_c varphi_2')\n",
    "L_12, L_23 = smp.symbols('L_12 L_23')\n",
    "E, I = smp.symbols('E I')\n",
    "F = smp.symbols('F')"
   ]
  },
  {
   "cell_type": "markdown",
   "id": "d836a552-d8ce-4349-8032-6159520e6758",
   "metadata": {},
   "source": [
    "***"
   ]
  },
  {
   "cell_type": "markdown",
   "id": "b078707f-1f77-43a5-9a9a-e4c548f89745",
   "metadata": {},
   "source": [
    "## Sestavení matice tuhosti"
   ]
  },
  {
   "cell_type": "markdown",
   "id": "9cde4eef-b408-4577-8c9c-a2181fa12037",
   "metadata": {},
   "source": [
    "### Matice tuhosti prutu $a$ (vetknutí-vetknutí):"
   ]
  },
  {
   "cell_type": "code",
   "execution_count": 4,
   "id": "d9cbd85e-0f15-4d99-af2f-6f3b7444a9c8",
   "metadata": {},
   "outputs": [
    {
     "data": {
      "text/latex": [
       "$\\displaystyle \\left[\\begin{matrix}\\frac{96 E I}{L_{12}^{3}} & - \\frac{24 E I}{L_{12}^{2}} & - \\frac{96 E I}{L_{12}^{3}} & - \\frac{24 E I}{L_{12}^{2}}\\\\- \\frac{24 E I}{L_{12}^{2}} & \\frac{8 E I}{L_{12}} & \\frac{24 E I}{L_{12}^{2}} & \\frac{4 E I}{L_{12}}\\\\- \\frac{96 E I}{L_{12}^{3}} & \\frac{24 E I}{L_{12}^{2}} & \\frac{96 E I}{L_{12}^{3}} & \\frac{24 E I}{L_{12}^{2}}\\\\- \\frac{24 E I}{L_{12}^{2}} & \\frac{4 E I}{L_{12}} & \\frac{24 E I}{L_{12}^{2}} & \\frac{8 E I}{L_{12}}\\end{matrix}\\right]$"
      ],
      "text/plain": [
       "Matrix([\n",
       "[ 96*E*I/L_12**3, -24*E*I/L_12**2, -96*E*I/L_12**3, -24*E*I/L_12**2],\n",
       "[-24*E*I/L_12**2,      8*E*I/L_12,  24*E*I/L_12**2,      4*E*I/L_12],\n",
       "[-96*E*I/L_12**3,  24*E*I/L_12**2,  96*E*I/L_12**3,  24*E*I/L_12**2],\n",
       "[-24*E*I/L_12**2,      4*E*I/L_12,  24*E*I/L_12**2,      8*E*I/L_12]])"
      ]
     },
     "execution_count": 4,
     "metadata": {},
     "output_type": "execute_result"
    }
   ],
   "source": [
    "k1 = 12*E*I / (L_12 / 2)**3\n",
    "k2 = 6*E*I / (L_12 / 2)**2\n",
    "k3 = 4*E*I / (L_12 / 2)\n",
    "k4 = 2*E*I / (L_12 / 2)\n",
    "\n",
    "K_a = smp.Matrix([\n",
    "    [+k1, -k2, -k1, -k2],\n",
    "    [-k2, +k3, +k2, +k4],\n",
    "    [-k1, +k2, +k1, +k2],\n",
    "    [-k2, +k4, +k2, +k3]\n",
    "])\n",
    "\n",
    "K_a"
   ]
  },
  {
   "cell_type": "markdown",
   "id": "4df0cb25-338b-4130-a0a7-dacc5f8fe095",
   "metadata": {},
   "source": [
    "### Matice tuhosti prutu $b$ (vetknutí-vetknutí):"
   ]
  },
  {
   "cell_type": "code",
   "execution_count": 5,
   "id": "029cf1af-65c4-404a-a12a-d6d87ec2619e",
   "metadata": {},
   "outputs": [
    {
     "data": {
      "text/latex": [
       "$\\displaystyle \\left[\\begin{matrix}\\frac{96 E I}{L_{12}^{3}} & - \\frac{24 E I}{L_{12}^{2}} & - \\frac{96 E I}{L_{12}^{3}} & - \\frac{24 E I}{L_{12}^{2}}\\\\- \\frac{24 E I}{L_{12}^{2}} & \\frac{8 E I}{L_{12}} & \\frac{24 E I}{L_{12}^{2}} & \\frac{4 E I}{L_{12}}\\\\- \\frac{96 E I}{L_{12}^{3}} & \\frac{24 E I}{L_{12}^{2}} & \\frac{96 E I}{L_{12}^{3}} & \\frac{24 E I}{L_{12}^{2}}\\\\- \\frac{24 E I}{L_{12}^{2}} & \\frac{4 E I}{L_{12}} & \\frac{24 E I}{L_{12}^{2}} & \\frac{8 E I}{L_{12}}\\end{matrix}\\right]$"
      ],
      "text/plain": [
       "Matrix([\n",
       "[ 96*E*I/L_12**3, -24*E*I/L_12**2, -96*E*I/L_12**3, -24*E*I/L_12**2],\n",
       "[-24*E*I/L_12**2,      8*E*I/L_12,  24*E*I/L_12**2,      4*E*I/L_12],\n",
       "[-96*E*I/L_12**3,  24*E*I/L_12**2,  96*E*I/L_12**3,  24*E*I/L_12**2],\n",
       "[-24*E*I/L_12**2,      4*E*I/L_12,  24*E*I/L_12**2,      8*E*I/L_12]])"
      ]
     },
     "execution_count": 5,
     "metadata": {},
     "output_type": "execute_result"
    }
   ],
   "source": [
    "K_b = copy.copy(K_a)\n",
    "K_b"
   ]
  },
  {
   "cell_type": "markdown",
   "id": "aadcf4f3-9415-4b52-b816-6d7b0b002ed2",
   "metadata": {},
   "source": [
    "### Matice tuhosti prutu $c$ (vetknutí-kloub):"
   ]
  },
  {
   "cell_type": "code",
   "execution_count": 6,
   "id": "93e35de2-86e5-4c2e-937c-e2d68f69a2ae",
   "metadata": {},
   "outputs": [
    {
     "data": {
      "text/latex": [
       "$\\displaystyle \\left[\\begin{matrix}\\frac{3 E I}{L_{23}^{3}} & - \\frac{3 E I}{L_{23}^{2}} & - \\frac{3 E I}{L_{23}^{3}}\\\\- \\frac{3 E I}{L_{23}^{2}} & \\frac{3 E I}{L_{23}} & \\frac{3 E I}{L_{23}^{2}}\\\\- \\frac{3 E I}{L_{23}^{3}} & \\frac{3 E I}{L_{23}^{2}} & \\frac{3 E I}{L_{23}^{3}}\\end{matrix}\\right]$"
      ],
      "text/plain": [
       "Matrix([\n",
       "[ 3*E*I/L_23**3, -3*E*I/L_23**2, -3*E*I/L_23**3],\n",
       "[-3*E*I/L_23**2,     3*E*I/L_23,  3*E*I/L_23**2],\n",
       "[-3*E*I/L_23**3,  3*E*I/L_23**2,  3*E*I/L_23**3]])"
      ]
     },
     "execution_count": 6,
     "metadata": {},
     "output_type": "execute_result"
    }
   ],
   "source": [
    "k1 = 3*E*I / L_23**3\n",
    "k2 = 3*E*I / L_23**2\n",
    "k3 = 3*E*I / L_23\n",
    "\n",
    "K_c = smp.Matrix([\n",
    "    [+k1, -k2, -k1],\n",
    "    [-k2, +k3, +k2],\n",
    "    [-k1, +k2, +k1]\n",
    "])\n",
    "\n",
    "K_c"
   ]
  },
  {
   "cell_type": "markdown",
   "id": "6d87eca8-d800-44e6-8834-fd597d6a42e9",
   "metadata": {},
   "source": [
    "### Globální matice tuhosti"
   ]
  },
  {
   "cell_type": "markdown",
   "id": "fa23295e-1cf2-4444-9fa4-c2243bfa4124",
   "metadata": {},
   "source": [
    "Inicializace globální matice tuhosti"
   ]
  },
  {
   "cell_type": "code",
   "execution_count": 7,
   "id": "c26f81eb-b3aa-45d5-a3d1-0ad87a0025b4",
   "metadata": {},
   "outputs": [
    {
     "data": {
      "text/latex": [
       "$\\displaystyle \\left[\\begin{matrix}0 & 0 & 0 & 0 & 0 & 0 & 0\\\\0 & 0 & 0 & 0 & 0 & 0 & 0\\\\0 & 0 & 0 & 0 & 0 & 0 & 0\\\\0 & 0 & 0 & 0 & 0 & 0 & 0\\\\0 & 0 & 0 & 0 & 0 & 0 & 0\\\\0 & 0 & 0 & 0 & 0 & 0 & 0\\\\0 & 0 & 0 & 0 & 0 & 0 & 0\\end{matrix}\\right]$"
      ],
      "text/plain": [
       "Matrix([\n",
       "[0, 0, 0, 0, 0, 0, 0],\n",
       "[0, 0, 0, 0, 0, 0, 0],\n",
       "[0, 0, 0, 0, 0, 0, 0],\n",
       "[0, 0, 0, 0, 0, 0, 0],\n",
       "[0, 0, 0, 0, 0, 0, 0],\n",
       "[0, 0, 0, 0, 0, 0, 0],\n",
       "[0, 0, 0, 0, 0, 0, 0]])"
      ]
     },
     "execution_count": 7,
     "metadata": {},
     "output_type": "execute_result"
    }
   ],
   "source": [
    "K_glob = smp.zeros(7, 7)\n",
    "K_glob"
   ]
  },
  {
   "cell_type": "markdown",
   "id": "11a9f316-a32d-4709-9a57-e02cfde58a20",
   "metadata": {},
   "source": [
    "Lokalizace prvků matice tuhosti prutu $a$"
   ]
  },
  {
   "cell_type": "code",
   "execution_count": 8,
   "id": "b749f5c6-1e34-4398-a024-5976ada24eec",
   "metadata": {},
   "outputs": [
    {
     "data": {
      "text/latex": [
       "$\\displaystyle \\left[\\begin{matrix}\\frac{96 E I}{L_{12}^{3}} & - \\frac{24 E I}{L_{12}^{2}} & - \\frac{96 E I}{L_{12}^{3}} & - \\frac{24 E I}{L_{12}^{2}} & 0 & 0 & 0\\\\- \\frac{24 E I}{L_{12}^{2}} & \\frac{8 E I}{L_{12}} & \\frac{24 E I}{L_{12}^{2}} & \\frac{4 E I}{L_{12}} & 0 & 0 & 0\\\\- \\frac{96 E I}{L_{12}^{3}} & \\frac{24 E I}{L_{12}^{2}} & \\frac{96 E I}{L_{12}^{3}} & \\frac{24 E I}{L_{12}^{2}} & 0 & 0 & 0\\\\- \\frac{24 E I}{L_{12}^{2}} & \\frac{4 E I}{L_{12}} & \\frac{24 E I}{L_{12}^{2}} & \\frac{8 E I}{L_{12}} & 0 & 0 & 0\\\\0 & 0 & 0 & 0 & 0 & 0 & 0\\\\0 & 0 & 0 & 0 & 0 & 0 & 0\\\\0 & 0 & 0 & 0 & 0 & 0 & 0\\end{matrix}\\right]$"
      ],
      "text/plain": [
       "Matrix([\n",
       "[ 96*E*I/L_12**3, -24*E*I/L_12**2, -96*E*I/L_12**3, -24*E*I/L_12**2, 0, 0, 0],\n",
       "[-24*E*I/L_12**2,      8*E*I/L_12,  24*E*I/L_12**2,      4*E*I/L_12, 0, 0, 0],\n",
       "[-96*E*I/L_12**3,  24*E*I/L_12**2,  96*E*I/L_12**3,  24*E*I/L_12**2, 0, 0, 0],\n",
       "[-24*E*I/L_12**2,      4*E*I/L_12,  24*E*I/L_12**2,      8*E*I/L_12, 0, 0, 0],\n",
       "[              0,               0,               0,               0, 0, 0, 0],\n",
       "[              0,               0,               0,               0, 0, 0, 0],\n",
       "[              0,               0,               0,               0, 0, 0, 0]])"
      ]
     },
     "execution_count": 8,
     "metadata": {},
     "output_type": "execute_result"
    }
   ],
   "source": [
    "K_glob[0:4, 0:4] += K_a\n",
    "K_glob"
   ]
  },
  {
   "cell_type": "markdown",
   "id": "70afa3ca-d2c8-4116-8285-87be93c93472",
   "metadata": {},
   "source": [
    "Lokalizace prvků matice tuhosti prutu $b$"
   ]
  },
  {
   "cell_type": "code",
   "execution_count": 9,
   "id": "5c0bd9ae-1418-46d1-8c8a-2625ccd53f9e",
   "metadata": {},
   "outputs": [
    {
     "data": {
      "text/latex": [
       "$\\displaystyle \\left[\\begin{matrix}\\frac{96 E I}{L_{12}^{3}} & - \\frac{24 E I}{L_{12}^{2}} & - \\frac{96 E I}{L_{12}^{3}} & - \\frac{24 E I}{L_{12}^{2}} & 0 & 0 & 0\\\\- \\frac{24 E I}{L_{12}^{2}} & \\frac{8 E I}{L_{12}} & \\frac{24 E I}{L_{12}^{2}} & \\frac{4 E I}{L_{12}} & 0 & 0 & 0\\\\- \\frac{96 E I}{L_{12}^{3}} & \\frac{24 E I}{L_{12}^{2}} & \\frac{192 E I}{L_{12}^{3}} & 0 & - \\frac{96 E I}{L_{12}^{3}} & - \\frac{24 E I}{L_{12}^{2}} & 0\\\\- \\frac{24 E I}{L_{12}^{2}} & \\frac{4 E I}{L_{12}} & 0 & \\frac{16 E I}{L_{12}} & \\frac{24 E I}{L_{12}^{2}} & \\frac{4 E I}{L_{12}} & 0\\\\0 & 0 & - \\frac{96 E I}{L_{12}^{3}} & \\frac{24 E I}{L_{12}^{2}} & \\frac{96 E I}{L_{12}^{3}} & \\frac{24 E I}{L_{12}^{2}} & 0\\\\0 & 0 & - \\frac{24 E I}{L_{12}^{2}} & \\frac{4 E I}{L_{12}} & \\frac{24 E I}{L_{12}^{2}} & \\frac{8 E I}{L_{12}} & 0\\\\0 & 0 & 0 & 0 & 0 & 0 & 0\\end{matrix}\\right]$"
      ],
      "text/plain": [
       "Matrix([\n",
       "[ 96*E*I/L_12**3, -24*E*I/L_12**2, -96*E*I/L_12**3, -24*E*I/L_12**2,               0,               0, 0],\n",
       "[-24*E*I/L_12**2,      8*E*I/L_12,  24*E*I/L_12**2,      4*E*I/L_12,               0,               0, 0],\n",
       "[-96*E*I/L_12**3,  24*E*I/L_12**2, 192*E*I/L_12**3,               0, -96*E*I/L_12**3, -24*E*I/L_12**2, 0],\n",
       "[-24*E*I/L_12**2,      4*E*I/L_12,               0,     16*E*I/L_12,  24*E*I/L_12**2,      4*E*I/L_12, 0],\n",
       "[              0,               0, -96*E*I/L_12**3,  24*E*I/L_12**2,  96*E*I/L_12**3,  24*E*I/L_12**2, 0],\n",
       "[              0,               0, -24*E*I/L_12**2,      4*E*I/L_12,  24*E*I/L_12**2,      8*E*I/L_12, 0],\n",
       "[              0,               0,               0,               0,               0,               0, 0]])"
      ]
     },
     "execution_count": 9,
     "metadata": {},
     "output_type": "execute_result"
    }
   ],
   "source": [
    "K_glob[2:6, 2:6] += K_b\n",
    "K_glob"
   ]
  },
  {
   "cell_type": "markdown",
   "id": "2ffcad20-3271-4bd2-9acc-d4bf3018b0cb",
   "metadata": {},
   "source": [
    "Lokalizace prvků matice tuhosti prutu $c$"
   ]
  },
  {
   "cell_type": "code",
   "execution_count": 10,
   "id": "e200a3bf-8b1f-4d35-b061-b4d6ba864545",
   "metadata": {},
   "outputs": [
    {
     "data": {
      "text/latex": [
       "$\\displaystyle \\left[\\begin{matrix}\\frac{96 E I}{L_{12}^{3}} & - \\frac{24 E I}{L_{12}^{2}} & - \\frac{96 E I}{L_{12}^{3}} & - \\frac{24 E I}{L_{12}^{2}} & 0 & 0 & 0\\\\- \\frac{24 E I}{L_{12}^{2}} & \\frac{8 E I}{L_{12}} & \\frac{24 E I}{L_{12}^{2}} & \\frac{4 E I}{L_{12}} & 0 & 0 & 0\\\\- \\frac{96 E I}{L_{12}^{3}} & \\frac{24 E I}{L_{12}^{2}} & \\frac{192 E I}{L_{12}^{3}} & 0 & - \\frac{96 E I}{L_{12}^{3}} & - \\frac{24 E I}{L_{12}^{2}} & 0\\\\- \\frac{24 E I}{L_{12}^{2}} & \\frac{4 E I}{L_{12}} & 0 & \\frac{16 E I}{L_{12}} & \\frac{24 E I}{L_{12}^{2}} & \\frac{4 E I}{L_{12}} & 0\\\\0 & 0 & - \\frac{96 E I}{L_{12}^{3}} & \\frac{24 E I}{L_{12}^{2}} & \\frac{3 E I}{L_{23}^{3}} + \\frac{96 E I}{L_{12}^{3}} & - \\frac{3 E I}{L_{23}^{2}} + \\frac{24 E I}{L_{12}^{2}} & - \\frac{3 E I}{L_{23}^{3}}\\\\0 & 0 & - \\frac{24 E I}{L_{12}^{2}} & \\frac{4 E I}{L_{12}} & - \\frac{3 E I}{L_{23}^{2}} + \\frac{24 E I}{L_{12}^{2}} & \\frac{3 E I}{L_{23}} + \\frac{8 E I}{L_{12}} & \\frac{3 E I}{L_{23}^{2}}\\\\0 & 0 & 0 & 0 & - \\frac{3 E I}{L_{23}^{3}} & \\frac{3 E I}{L_{23}^{2}} & \\frac{3 E I}{L_{23}^{3}}\\end{matrix}\\right]$"
      ],
      "text/plain": [
       "Matrix([\n",
       "[ 96*E*I/L_12**3, -24*E*I/L_12**2, -96*E*I/L_12**3, -24*E*I/L_12**2,                               0,                               0,              0],\n",
       "[-24*E*I/L_12**2,      8*E*I/L_12,  24*E*I/L_12**2,      4*E*I/L_12,                               0,                               0,              0],\n",
       "[-96*E*I/L_12**3,  24*E*I/L_12**2, 192*E*I/L_12**3,               0,                 -96*E*I/L_12**3,                 -24*E*I/L_12**2,              0],\n",
       "[-24*E*I/L_12**2,      4*E*I/L_12,               0,     16*E*I/L_12,                  24*E*I/L_12**2,                      4*E*I/L_12,              0],\n",
       "[              0,               0, -96*E*I/L_12**3,  24*E*I/L_12**2,  3*E*I/L_23**3 + 96*E*I/L_12**3, -3*E*I/L_23**2 + 24*E*I/L_12**2, -3*E*I/L_23**3],\n",
       "[              0,               0, -24*E*I/L_12**2,      4*E*I/L_12, -3*E*I/L_23**2 + 24*E*I/L_12**2,         3*E*I/L_23 + 8*E*I/L_12,  3*E*I/L_23**2],\n",
       "[              0,               0,               0,               0,                  -3*E*I/L_23**3,                   3*E*I/L_23**2,  3*E*I/L_23**3]])"
      ]
     },
     "execution_count": 10,
     "metadata": {},
     "output_type": "execute_result"
    }
   ],
   "source": [
    "K_glob[4:7, 4:7] += K_c\n",
    "K_glob"
   ]
  },
  {
   "cell_type": "markdown",
   "id": "0e02130c-416f-492a-82a1-0a46a9f4d3bc",
   "metadata": {},
   "source": [
    "## Vektor posunů a pootočení"
   ]
  },
  {
   "cell_type": "code",
   "execution_count": 11,
   "id": "62e28e62-1e02-4f01-882d-43a48ae5f2a1",
   "metadata": {
    "scrolled": true
   },
   "outputs": [
    {
     "data": {
      "text/latex": [
       "$\\displaystyle \\left[\\begin{matrix}w_{1}\\\\\\varphi_{1}\\\\w_{c}\\\\\\varphi_{c}\\\\w_{2}\\\\\\varphi_{2}\\\\w_{3}\\end{matrix}\\right]$"
      ],
      "text/plain": [
       "Matrix([\n",
       "[     w_1],\n",
       "[varphi_1],\n",
       "[     w_c],\n",
       "[varphi_c],\n",
       "[     w_2],\n",
       "[varphi_2],\n",
       "[     w_3]])"
      ]
     },
     "execution_count": 11,
     "metadata": {},
     "output_type": "execute_result"
    }
   ],
   "source": [
    "u_glob = smp.Matrix([w_1, phi_1, w_c, phi_c, w_2, phi_2, w_3])\n",
    "u_glob"
   ]
  },
  {
   "cell_type": "markdown",
   "id": "c2eaa834-68a4-4e68-bf9b-594538b88b37",
   "metadata": {},
   "source": [
    "## Modifikovaná matice tuhosti"
   ]
  },
  {
   "cell_type": "code",
   "execution_count": 12,
   "id": "64b0514d-f919-4cd4-a6ba-fb9dd7692ec7",
   "metadata": {
    "scrolled": true
   },
   "outputs": [
    {
     "data": {
      "text/latex": [
       "$\\displaystyle \\left[\\begin{matrix}1 & 0 & 0 & 0 & 0 & 0 & 0\\\\0 & 1 & 0 & 0 & 0 & 0 & 0\\\\- \\frac{96 E I}{L_{12}^{3}} & \\frac{24 E I}{L_{12}^{2}} & \\frac{192 E I}{L_{12}^{3}} & 0 & - \\frac{96 E I}{L_{12}^{3}} & - \\frac{24 E I}{L_{12}^{2}} & 0\\\\- \\frac{24 E I}{L_{12}^{2}} & \\frac{4 E I}{L_{12}} & 0 & \\frac{16 E I}{L_{12}} & \\frac{24 E I}{L_{12}^{2}} & \\frac{4 E I}{L_{12}} & 0\\\\0 & 0 & 0 & 0 & 1 & 0 & 0\\\\0 & 0 & - \\frac{24 E I}{L_{12}^{2}} & \\frac{4 E I}{L_{12}} & - \\frac{3 E I}{L_{23}^{2}} + \\frac{24 E I}{L_{12}^{2}} & \\frac{3 E I}{L_{23}} + \\frac{8 E I}{L_{12}} & \\frac{3 E I}{L_{23}^{2}}\\\\0 & 0 & 0 & 0 & 0 & 0 & 1\\end{matrix}\\right]$"
      ],
      "text/plain": [
       "Matrix([\n",
       "[              1,              0,               0,           0,                               0,                       0,             0],\n",
       "[              0,              1,               0,           0,                               0,                       0,             0],\n",
       "[-96*E*I/L_12**3, 24*E*I/L_12**2, 192*E*I/L_12**3,           0,                 -96*E*I/L_12**3,         -24*E*I/L_12**2,             0],\n",
       "[-24*E*I/L_12**2,     4*E*I/L_12,               0, 16*E*I/L_12,                  24*E*I/L_12**2,              4*E*I/L_12,             0],\n",
       "[              0,              0,               0,           0,                               1,                       0,             0],\n",
       "[              0,              0, -24*E*I/L_12**2,  4*E*I/L_12, -3*E*I/L_23**2 + 24*E*I/L_12**2, 3*E*I/L_23 + 8*E*I/L_12, 3*E*I/L_23**2],\n",
       "[              0,              0,               0,           0,                               0,                       0,             1]])"
      ]
     },
     "execution_count": 12,
     "metadata": {},
     "output_type": "execute_result"
    }
   ],
   "source": [
    "restrained_dof = [0, 1, 4, 6]  # odpovida kodovym cislum w_1, phi_1, w_2, w_3\n",
    "\n",
    "K_mod = copy.copy(K_glob)\n",
    "\n",
    "for i in restrained_dof:\n",
    "    for j in range(len(K_mod[i, :])):\n",
    "        if i == j:\n",
    "            K_mod[i, j] = 1\n",
    "        else:\n",
    "            K_mod[i, j] = 0\n",
    "\n",
    "K_mod"
   ]
  },
  {
   "cell_type": "markdown",
   "id": "20dd00f0-d6dd-4234-9d42-d8f4238233ad",
   "metadata": {},
   "source": [
    "***"
   ]
  },
  {
   "cell_type": "markdown",
   "id": "2244cf86-0234-45f0-abb4-a317607d83c4",
   "metadata": {},
   "source": [
    "## Výpočet"
   ]
  },
  {
   "cell_type": "markdown",
   "id": "434c6dcb-78fe-4d55-8a10-9f708b119a0e",
   "metadata": {},
   "source": [
    "### Po zatížení posunem podpory\n",
    "\n",
    "- v čase $t = 32 \\, \\mathrm{dní}$"
   ]
  },
  {
   "cell_type": "markdown",
   "id": "553471cc-9bad-4c04-a2bf-1db3ab1ba804",
   "metadata": {},
   "source": [
    "#### Vektor pravé strany"
   ]
  },
  {
   "cell_type": "code",
   "execution_count": 13,
   "id": "a5572783-a66a-4e7f-b02a-e7766c49f34f",
   "metadata": {},
   "outputs": [
    {
     "data": {
      "text/latex": [
       "$\\displaystyle \\left[\\begin{matrix}0\\\\0\\\\0\\\\0\\\\0\\\\0\\\\0\\end{matrix}\\right]$"
      ],
      "text/plain": [
       "Matrix([\n",
       "[0],\n",
       "[0],\n",
       "[0],\n",
       "[0],\n",
       "[0],\n",
       "[0],\n",
       "[0]])"
      ]
     },
     "execution_count": 13,
     "metadata": {},
     "output_type": "execute_result"
    }
   ],
   "source": [
    "F_glob_0 = smp.Matrix([0, 0, 0, 0, 0, 0, 0])\n",
    "F_glob_0"
   ]
  },
  {
   "cell_type": "markdown",
   "id": "335ff2fb-bf6b-463a-a39d-881f3d8a68da",
   "metadata": {},
   "source": [
    "#### Modifikovaný vektor pravé strany"
   ]
  },
  {
   "cell_type": "code",
   "execution_count": 14,
   "id": "f8bfedf9-19ac-4bc4-a149-926f67011150",
   "metadata": {},
   "outputs": [
    {
     "data": {
      "text/latex": [
       "$\\displaystyle \\left[\\begin{matrix}0\\\\0\\\\0\\\\0\\\\\\bar{w}_{2}\\\\0\\\\0\\end{matrix}\\right]$"
      ],
      "text/plain": [
       "Matrix([\n",
       "[     0],\n",
       "[     0],\n",
       "[     0],\n",
       "[     0],\n",
       "[wbar_2],\n",
       "[     0],\n",
       "[     0]])"
      ]
     },
     "execution_count": 14,
     "metadata": {},
     "output_type": "execute_result"
    }
   ],
   "source": [
    "F_mod_0 = copy.copy(F_glob_0)\n",
    "F_mod_0[4] = w_bar\n",
    "F_mod_0"
   ]
  },
  {
   "cell_type": "markdown",
   "id": "d8595b83-1637-48aa-8a11-d1264b4f01a4",
   "metadata": {},
   "source": [
    "#### Výpočet vektoru posunů a pootočení"
   ]
  },
  {
   "cell_type": "code",
   "execution_count": 15,
   "id": "400cda36-b013-4290-8555-80fe9df6ef28",
   "metadata": {},
   "outputs": [
    {
     "data": {
      "text/latex": [
       "$\\displaystyle \\left[\\begin{matrix}0\\\\0\\\\\\frac{3 L_{12}^{2} \\bar{w}_{2} + 12 L_{12} L_{23} \\bar{w}_{2} + 10 L_{23}^{2} \\bar{w}_{2}}{24 L_{12} L_{23} + 32 L_{23}^{2}}\\\\\\frac{- 3 L_{12}^{2} \\bar{w}_{2} - 18 L_{12} L_{23} \\bar{w}_{2} - 18 L_{23}^{2} \\bar{w}_{2}}{12 L_{12}^{2} L_{23} + 16 L_{12} L_{23}^{2}}\\\\\\bar{w}_{2}\\\\\\frac{3 L_{12}^{2} \\bar{w}_{2} - 6 L_{23}^{2} \\bar{w}_{2}}{3 L_{12}^{2} L_{23} + 4 L_{12} L_{23}^{2}}\\\\0\\end{matrix}\\right]$"
      ],
      "text/plain": [
       "Matrix([\n",
       "[                                                                                                0],\n",
       "[                                                                                                0],\n",
       "[         (3*L_12**2*wbar_2 + 12*L_12*L_23*wbar_2 + 10*L_23**2*wbar_2)/(24*L_12*L_23 + 32*L_23**2)],\n",
       "[(-3*L_12**2*wbar_2 - 18*L_12*L_23*wbar_2 - 18*L_23**2*wbar_2)/(12*L_12**2*L_23 + 16*L_12*L_23**2)],\n",
       "[                                                                                           wbar_2],\n",
       "[                          (3*L_12**2*wbar_2 - 6*L_23**2*wbar_2)/(3*L_12**2*L_23 + 4*L_12*L_23**2)],\n",
       "[                                                                                                0]])"
      ]
     },
     "execution_count": 15,
     "metadata": {},
     "output_type": "execute_result"
    }
   ],
   "source": [
    "u_sol_0 = K_mod.solve(F_mod_0)\n",
    "u_sol_0"
   ]
  },
  {
   "cell_type": "markdown",
   "id": "0a3de08c-9ecd-41df-b505-da6767246ad2",
   "metadata": {},
   "source": [
    "Vztah pro výpočet pootočení nad střední podporou $\\varphi_2(t=32)$:"
   ]
  },
  {
   "cell_type": "code",
   "execution_count": 16,
   "id": "fd5e06eb-7999-40f9-98b1-09e217b30b67",
   "metadata": {},
   "outputs": [
    {
     "data": {
      "text/latex": [
       "$\\displaystyle \\frac{3 \\bar{w}_{2} \\left(L_{12}^{2} - 2 L_{23}^{2}\\right)}{L_{12} L_{23} \\cdot \\left(3 L_{12} + 4 L_{23}\\right)}$"
      ],
      "text/plain": [
       "3*wbar_2*(L_12**2 - 2*L_23**2)/(L_12*L_23*(3*L_12 + 4*L_23))"
      ]
     },
     "execution_count": 16,
     "metadata": {},
     "output_type": "execute_result"
    }
   ],
   "source": [
    "phi_2_0 = u_sol_0[5].simplify()\n",
    "phi_2_0"
   ]
  },
  {
   "cell_type": "markdown",
   "id": "aa440745-7d93-4155-9dec-fd1f15a30256",
   "metadata": {},
   "source": [
    "Po dosazení za $L_{12}, L_{23}$ a $\\bar{w}_2$ dostaneme hodnotu v $\\mathrm{mrad}$:"
   ]
  },
  {
   "cell_type": "code",
   "execution_count": 17,
   "id": "4cb53f40-aed9-4c33-8c5f-d9f6c7e12f75",
   "metadata": {},
   "outputs": [
    {
     "data": {
      "text/latex": [
       "$\\displaystyle -0.0922571404499115$"
      ],
      "text/plain": [
       "-0.0922571404499115"
      ]
     },
     "execution_count": 17,
     "metadata": {},
     "output_type": "execute_result"
    }
   ],
   "source": [
    "phi_2_0.subs([\n",
    "    (L_12, 4+a),\n",
    "    (L_23, 3+b),\n",
    "    (w_bar, a+c)\n",
    "])"
   ]
  },
  {
   "cell_type": "markdown",
   "id": "ed95c666-f160-4fb1-9a56-1bf659a98bf1",
   "metadata": {},
   "source": [
    "Svislý posun v polovině rozpětí levého pole $w_c(t=32)$ lze vypočítat ze vztahu:"
   ]
  },
  {
   "cell_type": "code",
   "execution_count": 18,
   "id": "af85cb11-bb07-4520-812f-b8f27d62237d",
   "metadata": {},
   "outputs": [
    {
     "data": {
      "text/latex": [
       "$\\displaystyle \\frac{\\bar{w}_{2} \\cdot \\left(3 L_{12}^{2} + 12 L_{12} L_{23} + 10 L_{23}^{2}\\right)}{8 L_{23} \\cdot \\left(3 L_{12} + 4 L_{23}\\right)}$"
      ],
      "text/plain": [
       "wbar_2*(3*L_12**2 + 12*L_12*L_23 + 10*L_23**2)/(8*L_23*(3*L_12 + 4*L_23))"
      ]
     },
     "execution_count": 18,
     "metadata": {},
     "output_type": "execute_result"
    }
   ],
   "source": [
    "w_c_0 = u_sol_0[2].simplify()\n",
    "w_c_0"
   ]
  },
  {
   "cell_type": "markdown",
   "id": "9f53e7da-b963-46d1-ba54-6caf05bc8947",
   "metadata": {},
   "source": [
    "Po dosazení dostaneme hodnotu v $\\mathrm{[mm]}$:"
   ]
  },
  {
   "cell_type": "code",
   "execution_count": 19,
   "id": "758bc48a-3000-4240-b069-5797bedcd050",
   "metadata": {},
   "outputs": [
    {
     "data": {
      "text/latex": [
       "$\\displaystyle 0.940032858707557$"
      ],
      "text/plain": [
       "0.940032858707557"
      ]
     },
     "execution_count": 19,
     "metadata": {},
     "output_type": "execute_result"
    }
   ],
   "source": [
    "w_c_0.subs([\n",
    "    (L_12, 4+a),\n",
    "    (L_23, 3+b),\n",
    "    (w_bar, a+c)\n",
    "])"
   ]
  },
  {
   "cell_type": "markdown",
   "id": "e0fa19cf-1fac-494c-87d4-ffb12612d179",
   "metadata": {},
   "source": [
    "Vektor koncových sil a momentů na prutu $a$ lze vypočítat jako"
   ]
  },
  {
   "cell_type": "code",
   "execution_count": 20,
   "id": "829874ee-7cdb-4432-b15d-69f6c77d7880",
   "metadata": {},
   "outputs": [
    {
     "data": {
      "text/latex": [
       "$\\displaystyle \\left[\\begin{matrix}- \\frac{24 E I \\left(- 3 L_{12}^{2} \\bar{w}_{2} - 18 L_{12} L_{23} \\bar{w}_{2} - 18 L_{23}^{2} \\bar{w}_{2}\\right)}{L_{12}^{2} \\cdot \\left(12 L_{12}^{2} L_{23} + 16 L_{12} L_{23}^{2}\\right)} - \\frac{96 E I \\left(3 L_{12}^{2} \\bar{w}_{2} + 12 L_{12} L_{23} \\bar{w}_{2} + 10 L_{23}^{2} \\bar{w}_{2}\\right)}{L_{12}^{3} \\cdot \\left(24 L_{12} L_{23} + 32 L_{23}^{2}\\right)}\\\\\\frac{4 E I \\left(- 3 L_{12}^{2} \\bar{w}_{2} - 18 L_{12} L_{23} \\bar{w}_{2} - 18 L_{23}^{2} \\bar{w}_{2}\\right)}{L_{12} \\cdot \\left(12 L_{12}^{2} L_{23} + 16 L_{12} L_{23}^{2}\\right)} + \\frac{24 E I \\left(3 L_{12}^{2} \\bar{w}_{2} + 12 L_{12} L_{23} \\bar{w}_{2} + 10 L_{23}^{2} \\bar{w}_{2}\\right)}{L_{12}^{2} \\cdot \\left(24 L_{12} L_{23} + 32 L_{23}^{2}\\right)}\\\\\\frac{24 E I \\left(- 3 L_{12}^{2} \\bar{w}_{2} - 18 L_{12} L_{23} \\bar{w}_{2} - 18 L_{23}^{2} \\bar{w}_{2}\\right)}{L_{12}^{2} \\cdot \\left(12 L_{12}^{2} L_{23} + 16 L_{12} L_{23}^{2}\\right)} + \\frac{96 E I \\left(3 L_{12}^{2} \\bar{w}_{2} + 12 L_{12} L_{23} \\bar{w}_{2} + 10 L_{23}^{2} \\bar{w}_{2}\\right)}{L_{12}^{3} \\cdot \\left(24 L_{12} L_{23} + 32 L_{23}^{2}\\right)}\\\\\\frac{8 E I \\left(- 3 L_{12}^{2} \\bar{w}_{2} - 18 L_{12} L_{23} \\bar{w}_{2} - 18 L_{23}^{2} \\bar{w}_{2}\\right)}{L_{12} \\cdot \\left(12 L_{12}^{2} L_{23} + 16 L_{12} L_{23}^{2}\\right)} + \\frac{24 E I \\left(3 L_{12}^{2} \\bar{w}_{2} + 12 L_{12} L_{23} \\bar{w}_{2} + 10 L_{23}^{2} \\bar{w}_{2}\\right)}{L_{12}^{2} \\cdot \\left(24 L_{12} L_{23} + 32 L_{23}^{2}\\right)}\\end{matrix}\\right]$"
      ],
      "text/plain": [
       "Matrix([\n",
       "[-24*E*I*(-3*L_12**2*wbar_2 - 18*L_12*L_23*wbar_2 - 18*L_23**2*wbar_2)/(L_12**2*(12*L_12**2*L_23 + 16*L_12*L_23**2)) - 96*E*I*(3*L_12**2*wbar_2 + 12*L_12*L_23*wbar_2 + 10*L_23**2*wbar_2)/(L_12**3*(24*L_12*L_23 + 32*L_23**2))],\n",
       "[     4*E*I*(-3*L_12**2*wbar_2 - 18*L_12*L_23*wbar_2 - 18*L_23**2*wbar_2)/(L_12*(12*L_12**2*L_23 + 16*L_12*L_23**2)) + 24*E*I*(3*L_12**2*wbar_2 + 12*L_12*L_23*wbar_2 + 10*L_23**2*wbar_2)/(L_12**2*(24*L_12*L_23 + 32*L_23**2))],\n",
       "[ 24*E*I*(-3*L_12**2*wbar_2 - 18*L_12*L_23*wbar_2 - 18*L_23**2*wbar_2)/(L_12**2*(12*L_12**2*L_23 + 16*L_12*L_23**2)) + 96*E*I*(3*L_12**2*wbar_2 + 12*L_12*L_23*wbar_2 + 10*L_23**2*wbar_2)/(L_12**3*(24*L_12*L_23 + 32*L_23**2))],\n",
       "[     8*E*I*(-3*L_12**2*wbar_2 - 18*L_12*L_23*wbar_2 - 18*L_23**2*wbar_2)/(L_12*(12*L_12**2*L_23 + 16*L_12*L_23**2)) + 24*E*I*(3*L_12**2*wbar_2 + 12*L_12*L_23*wbar_2 + 10*L_23**2*wbar_2)/(L_12**2*(24*L_12*L_23 + 32*L_23**2))]])"
      ]
     },
     "execution_count": 20,
     "metadata": {},
     "output_type": "execute_result"
    }
   ],
   "source": [
    "koncove_sily_a_0 = K_a @ smp.Matrix(u_sol_0[0:4])\n",
    "koncove_sily_a_0"
   ]
  },
  {
   "cell_type": "markdown",
   "id": "9d503543-6c8c-46d6-a7a1-bf24a317147e",
   "metadata": {},
   "source": [
    "Ohybový moment v levé podpoře $M_1(t=32)$, který odpovídá koncovému momentu $M_{1c}$ na prutu $a$, lze podle teorie pružnosti vypočítat ze vztahu:"
   ]
  },
  {
   "cell_type": "code",
   "execution_count": 21,
   "id": "565457aa-8fab-4fd3-ba5f-c8b9bdd46916",
   "metadata": {},
   "outputs": [
    {
     "data": {
      "text/latex": [
       "$\\displaystyle \\frac{6 E I \\bar{w}_{2} \\left(L_{12}^{2} + 3 L_{12} L_{23} + 2 L_{23}^{2}\\right)}{L_{12}^{2} L_{23} \\cdot \\left(3 L_{12} + 4 L_{23}\\right)}$"
      ],
      "text/plain": [
       "6*E*I*wbar_2*(L_12**2 + 3*L_12*L_23 + 2*L_23**2)/(L_12**2*L_23*(3*L_12 + 4*L_23))"
      ]
     },
     "execution_count": 21,
     "metadata": {},
     "output_type": "execute_result"
    }
   ],
   "source": [
    "M_1_0 = koncove_sily_a_0[1]\n",
    "M_1_0.simplify()"
   ]
  },
  {
   "cell_type": "markdown",
   "id": "df705f85-a689-4942-944c-3455b9dc3d0b",
   "metadata": {},
   "source": [
    "Podle teorie pružnosti je výsledek závislý na hodnotě modulu pružnosti $E$, ten lze pro případ viskoelasticity nahradit hodnotou relaxační funkce $R(t=32, t'=32) = 3.5783E+04 \\, \\mathrm{MPa}$"
   ]
  },
  {
   "cell_type": "code",
   "execution_count": 22,
   "id": "a67bbc9c-87e9-4128-be23-794257a5c543",
   "metadata": {},
   "outputs": [
    {
     "data": {
      "text/latex": [
       "$\\displaystyle 105.194325229914$"
      ],
      "text/plain": [
       "105.194325229914"
      ]
     },
     "execution_count": 22,
     "metadata": {},
     "output_type": "execute_result"
    }
   ],
   "source": [
    "M_1_0_res = M_1_0.subs([\n",
    "    (L_12, 4+a),\n",
    "    (L_23, 3+b),\n",
    "    (w_bar, a+c),\n",
    "    (I, (1/12)*0.4*0.6**3),\n",
    "    (E, 3.5783e+04)  # E -> R(32, 32)\n",
    "])\n",
    "M_1_0_res"
   ]
  },
  {
   "cell_type": "markdown",
   "id": "24b51b0b-433f-4c82-923a-f21d3f933f9b",
   "metadata": {},
   "source": [
    "Ohybový moment ve styčníku $c$ odpovídá záporně vzatému koncovému momentu $M_{c1}$ na prutu $a$ lze vypočítat ze vztahu"
   ]
  },
  {
   "cell_type": "code",
   "execution_count": 23,
   "id": "2039be9e-bb78-4ccf-b23b-1c75dabdb34a",
   "metadata": {},
   "outputs": [
    {
     "data": {
      "text/latex": [
       "$\\displaystyle \\frac{3 E I \\bar{w}_{2} \\left(- L_{12}^{2} + 2 L_{23}^{2}\\right)}{L_{12}^{2} L_{23} \\cdot \\left(3 L_{12} + 4 L_{23}\\right)}$"
      ],
      "text/plain": [
       "3*E*I*wbar_2*(-L_12**2 + 2*L_23**2)/(L_12**2*L_23*(3*L_12 + 4*L_23))"
      ]
     },
     "execution_count": 23,
     "metadata": {},
     "output_type": "execute_result"
    }
   ],
   "source": [
    "M_c_0 = -koncove_sily_a_0[3]\n",
    "M_c_0.simplify()"
   ]
  },
  {
   "cell_type": "code",
   "execution_count": 24,
   "id": "a5b181c9-b39e-4ac3-8e49-d4a73310681e",
   "metadata": {},
   "outputs": [
    {
     "data": {
      "text/latex": [
       "$\\displaystyle 4.57094389391887$"
      ],
      "text/plain": [
       "4.57094389391887"
      ]
     },
     "execution_count": 24,
     "metadata": {},
     "output_type": "execute_result"
    }
   ],
   "source": [
    "M_c_0_res = M_c_0.subs([\n",
    "    (L_12, 4+a),\n",
    "    (L_23, 3+b),\n",
    "    (w_bar, a+c),\n",
    "    (I, (1/12)*0.4*0.6**3),\n",
    "    (E, 3.5783e+04)  # E -> R(32, 32)\n",
    "])\n",
    "M_c_0_res"
   ]
  },
  {
   "cell_type": "markdown",
   "id": "16dd8baf-0e69-4a73-97f0-b8604096c506",
   "metadata": {},
   "source": [
    "Vektor koncových sil a momentů na prutu $c$ lze vypočítat jako"
   ]
  },
  {
   "cell_type": "code",
   "execution_count": 25,
   "id": "bf23649d-e84a-41e7-bf1d-40413eabf1b5",
   "metadata": {
    "scrolled": true
   },
   "outputs": [
    {
     "data": {
      "text/latex": [
       "$\\displaystyle \\left[\\begin{matrix}- \\frac{3 E I \\left(3 L_{12}^{2} \\bar{w}_{2} - 6 L_{23}^{2} \\bar{w}_{2}\\right)}{L_{23}^{2} \\cdot \\left(3 L_{12}^{2} L_{23} + 4 L_{12} L_{23}^{2}\\right)} + \\frac{3 E I \\bar{w}_{2}}{L_{23}^{3}}\\\\\\frac{3 E I \\left(3 L_{12}^{2} \\bar{w}_{2} - 6 L_{23}^{2} \\bar{w}_{2}\\right)}{L_{23} \\cdot \\left(3 L_{12}^{2} L_{23} + 4 L_{12} L_{23}^{2}\\right)} - \\frac{3 E I \\bar{w}_{2}}{L_{23}^{2}}\\\\\\frac{3 E I \\left(3 L_{12}^{2} \\bar{w}_{2} - 6 L_{23}^{2} \\bar{w}_{2}\\right)}{L_{23}^{2} \\cdot \\left(3 L_{12}^{2} L_{23} + 4 L_{12} L_{23}^{2}\\right)} - \\frac{3 E I \\bar{w}_{2}}{L_{23}^{3}}\\end{matrix}\\right]$"
      ],
      "text/plain": [
       "Matrix([\n",
       "[-3*E*I*(3*L_12**2*wbar_2 - 6*L_23**2*wbar_2)/(L_23**2*(3*L_12**2*L_23 + 4*L_12*L_23**2)) + 3*E*I*wbar_2/L_23**3],\n",
       "[    3*E*I*(3*L_12**2*wbar_2 - 6*L_23**2*wbar_2)/(L_23*(3*L_12**2*L_23 + 4*L_12*L_23**2)) - 3*E*I*wbar_2/L_23**2],\n",
       "[ 3*E*I*(3*L_12**2*wbar_2 - 6*L_23**2*wbar_2)/(L_23**2*(3*L_12**2*L_23 + 4*L_12*L_23**2)) - 3*E*I*wbar_2/L_23**3]])"
      ]
     },
     "execution_count": 25,
     "metadata": {},
     "output_type": "execute_result"
    }
   ],
   "source": [
    "koncove_sily_c_0 = K_c @ smp.Matrix(u_sol_0[4:7])\n",
    "koncove_sily_c_0"
   ]
  },
  {
   "cell_type": "markdown",
   "id": "b813fda1-8eb1-44d0-9de7-c63ea28c92f2",
   "metadata": {},
   "source": [
    "Ohybový moment ve styčníku $2$ odpovídá koncovému momentu $M_{23}$ na prutu $c$"
   ]
  },
  {
   "cell_type": "code",
   "execution_count": 26,
   "id": "0978aaf5-514e-4670-beac-bb2a958a9cfe",
   "metadata": {},
   "outputs": [
    {
     "data": {
      "text/latex": [
       "$\\displaystyle \\frac{6 E I \\bar{w}_{2} \\left(- 2 L_{12} - 3 L_{23}\\right)}{L_{12} L_{23} \\cdot \\left(3 L_{12} + 4 L_{23}\\right)}$"
      ],
      "text/plain": [
       "6*E*I*wbar_2*(-2*L_12 - 3*L_23)/(L_12*L_23*(3*L_12 + 4*L_23))"
      ]
     },
     "execution_count": 26,
     "metadata": {},
     "output_type": "execute_result"
    }
   ],
   "source": [
    "M_2_0 = koncove_sily_c_0[1]\n",
    "M_2_0.simplify()"
   ]
  },
  {
   "cell_type": "code",
   "execution_count": 27,
   "id": "e1bf4b6c-1c35-44af-8a9e-ba562f3df619",
   "metadata": {},
   "outputs": [
    {
     "data": {
      "text/latex": [
       "$\\displaystyle -96.052437442076$"
      ],
      "text/plain": [
       "-96.0524374420760"
      ]
     },
     "execution_count": 27,
     "metadata": {},
     "output_type": "execute_result"
    }
   ],
   "source": [
    "M_2_0_res = M_2_0.subs([\n",
    "    (L_12, 4+a),\n",
    "    (L_23, 3+b),\n",
    "    (w_bar, a+c),\n",
    "    (I, (1/12)*0.4*0.6**3),\n",
    "    (E, 3.5783e+04)  # E -> R(32, 32)\n",
    "])\n",
    "M_2_0_res"
   ]
  },
  {
   "cell_type": "markdown",
   "id": "598bc1f2-c95e-4aa5-a28c-c9141661c922",
   "metadata": {},
   "source": [
    "***"
   ]
  },
  {
   "cell_type": "markdown",
   "id": "6a489a5b-45c8-4c91-8112-6db5e3215bc3",
   "metadata": {},
   "source": [
    "### Před zatížením silou $F$ v čase $t = 70 \\, \\mathrm{dní}$"
   ]
  },
  {
   "cell_type": "markdown",
   "id": "8295d5d9-8cdf-406a-8874-4feb40cd5b72",
   "metadata": {},
   "source": [
    "Protože se vektor zatížení, ani předepsané posuny nijak nezměnily, lze využít vztahy odvozené v předcházející sekci."
   ]
  },
  {
   "cell_type": "markdown",
   "id": "edd817e2-5f3c-4434-9c42-6eb38a6b7437",
   "metadata": {},
   "source": [
    "Vztah pro výpočet pootočení nad střední podporou $\\varphi_2(t\\rightarrow70^-)$:"
   ]
  },
  {
   "cell_type": "code",
   "execution_count": 28,
   "id": "40b48172-6074-491d-b7c3-5df6189311ea",
   "metadata": {},
   "outputs": [
    {
     "data": {
      "text/latex": [
       "$\\displaystyle \\frac{3 \\bar{w}_{2} \\left(L_{12}^{2} - 2 L_{23}^{2}\\right)}{L_{12} L_{23} \\cdot \\left(3 L_{12} + 4 L_{23}\\right)}$"
      ],
      "text/plain": [
       "3*wbar_2*(L_12**2 - 2*L_23**2)/(L_12*L_23*(3*L_12 + 4*L_23))"
      ]
     },
     "execution_count": 28,
     "metadata": {},
     "output_type": "execute_result"
    }
   ],
   "source": [
    "phi_2_1 = copy.copy(phi_2_0)\n",
    "phi_2_1"
   ]
  },
  {
   "cell_type": "markdown",
   "id": "45401e34-bac2-47e6-b8b0-af4f794c7add",
   "metadata": {},
   "source": [
    "Po dosazení za $L_{12}, L_{23}$ a $\\bar{w}_2$ dostaneme hodnotu v $\\mathrm{mrad}$:"
   ]
  },
  {
   "cell_type": "code",
   "execution_count": 29,
   "id": "ddc8d8f4-4adb-4435-b133-41351daaf34f",
   "metadata": {},
   "outputs": [
    {
     "data": {
      "text/latex": [
       "$\\displaystyle -0.0922571404499115$"
      ],
      "text/plain": [
       "-0.0922571404499115"
      ]
     },
     "execution_count": 29,
     "metadata": {},
     "output_type": "execute_result"
    }
   ],
   "source": [
    "phi_2_1.subs([\n",
    "    (L_12, 4+a),\n",
    "    (L_23, 3+b),\n",
    "    (w_bar, a+c),\n",
    "])"
   ]
  },
  {
   "cell_type": "markdown",
   "id": "074d4785-04d4-4139-ada9-c9f83a35f122",
   "metadata": {},
   "source": [
    "Svislý posun v polovině rozpětí levého pole $w_c(t=32)$ lze vypočítat ze vztahu:"
   ]
  },
  {
   "cell_type": "code",
   "execution_count": 30,
   "id": "6b9a751a-33c5-4c14-ad55-61bf9b5fd815",
   "metadata": {},
   "outputs": [
    {
     "data": {
      "text/latex": [
       "$\\displaystyle \\frac{\\bar{w}_{2} \\cdot \\left(3 L_{12}^{2} + 12 L_{12} L_{23} + 10 L_{23}^{2}\\right)}{8 L_{23} \\cdot \\left(3 L_{12} + 4 L_{23}\\right)}$"
      ],
      "text/plain": [
       "wbar_2*(3*L_12**2 + 12*L_12*L_23 + 10*L_23**2)/(8*L_23*(3*L_12 + 4*L_23))"
      ]
     },
     "execution_count": 30,
     "metadata": {},
     "output_type": "execute_result"
    }
   ],
   "source": [
    "w_c_1 = copy.copy(w_c_0)\n",
    "w_c_1"
   ]
  },
  {
   "cell_type": "markdown",
   "id": "a16e3d5e-c0ff-46a6-b010-bb397b2174a6",
   "metadata": {},
   "source": [
    "Po dosazení dostaneme hodnotu v $\\mathrm{[mm]}$:"
   ]
  },
  {
   "cell_type": "code",
   "execution_count": 31,
   "id": "98cd34f9-cf32-4efa-ab12-c600ca048e94",
   "metadata": {},
   "outputs": [
    {
     "data": {
      "text/latex": [
       "$\\displaystyle 0.940032858707557$"
      ],
      "text/plain": [
       "0.940032858707557"
      ]
     },
     "execution_count": 31,
     "metadata": {},
     "output_type": "execute_result"
    }
   ],
   "source": [
    "w_c_1.subs([\n",
    "    (L_12, 4+a),\n",
    "    (L_23, 3+b),\n",
    "    (w_bar, a+c)\n",
    "])"
   ]
  },
  {
   "cell_type": "markdown",
   "id": "624871e1-9b8e-4618-a8c8-f8f381799807",
   "metadata": {},
   "source": [
    "Vektor koncových sil a momentů na prutu $a$ lze vypočítat jako"
   ]
  },
  {
   "cell_type": "markdown",
   "id": "438950fd-4ce9-4084-baa0-75d7d6dabbf2",
   "metadata": {},
   "source": [
    "Ohybový moment v levé podpoře $M_1(t \\rightarrow 70^-)$, který odpovídá koncovému momentu $M_{1c}$ na prutu $a$, lze podle teorie pružnosti vypočítat ze vztahu:"
   ]
  },
  {
   "cell_type": "code",
   "execution_count": 32,
   "id": "026097fd-3cf0-41da-a8a9-78bfed198244",
   "metadata": {},
   "outputs": [
    {
     "data": {
      "text/latex": [
       "$\\displaystyle \\frac{6 E I \\bar{w}_{2} \\left(L_{12}^{2} + 3 L_{12} L_{23} + 2 L_{23}^{2}\\right)}{L_{12}^{2} L_{23} \\cdot \\left(3 L_{12} + 4 L_{23}\\right)}$"
      ],
      "text/plain": [
       "6*E*I*wbar_2*(L_12**2 + 3*L_12*L_23 + 2*L_23**2)/(L_12**2*L_23*(3*L_12 + 4*L_23))"
      ]
     },
     "execution_count": 32,
     "metadata": {},
     "output_type": "execute_result"
    }
   ],
   "source": [
    "M_1_1 = copy.copy(M_1_0)\n",
    "M_1_1.simplify()"
   ]
  },
  {
   "cell_type": "markdown",
   "id": "6344f5ba-db69-4427-89f8-2d8ce5c03b49",
   "metadata": {},
   "source": [
    "Podle teorie pružnosti je výsledek závislý na hodnotě modulu pružnosti $E$, ten lze pro případ viskoelasticity nahradit hodnotou relaxační funkce $R(t=70, t'=32) = 2.0032E+04 \\, \\mathrm{MPa}$"
   ]
  },
  {
   "cell_type": "code",
   "execution_count": 33,
   "id": "7ca04f52-ee8e-4758-a082-e09fa110adb1",
   "metadata": {},
   "outputs": [
    {
     "data": {
      "text/latex": [
       "$\\displaystyle 58.8897723222097$"
      ],
      "text/plain": [
       "58.8897723222097"
      ]
     },
     "execution_count": 33,
     "metadata": {},
     "output_type": "execute_result"
    }
   ],
   "source": [
    "M_1_1_res = M_1_1.subs([\n",
    "    (L_12, 4+a),\n",
    "    (L_23, 3+b),\n",
    "    (w_bar, a+c),\n",
    "    (I, (1/12)*0.4*0.6**3),\n",
    "    (E, 2.0032e+04)  # E -> R(70, 32)\n",
    "])\n",
    "M_1_1_res"
   ]
  },
  {
   "cell_type": "markdown",
   "id": "db5a5234-107d-4c56-ad2c-f70c0a6562c1",
   "metadata": {},
   "source": [
    "Ohybový moment ve styčníku $c$ odpovídá záporně vzatému koncovému momentu $M_{c1}$ na prutu $a$ lze vypočítat ze vztahu"
   ]
  },
  {
   "cell_type": "code",
   "execution_count": 34,
   "id": "e0183544-22af-4c10-8d2a-789d32e9e9ba",
   "metadata": {},
   "outputs": [
    {
     "data": {
      "text/latex": [
       "$\\displaystyle 2.55890082114364$"
      ],
      "text/plain": [
       "2.55890082114364"
      ]
     },
     "execution_count": 34,
     "metadata": {},
     "output_type": "execute_result"
    }
   ],
   "source": [
    "M_c_1_res = M_c_0.subs([\n",
    "    (L_12, 4+a),\n",
    "    (L_23, 3+b),\n",
    "    (w_bar, a+c),\n",
    "    (I, (1/12)*0.4*0.6**3),\n",
    "    (E, 2.0032e+04)  # E -> R(70, 32)\n",
    "])\n",
    "M_c_1_res"
   ]
  },
  {
   "cell_type": "markdown",
   "id": "c05f86f6-27ee-4ba0-882d-0d72b706e0e1",
   "metadata": {},
   "source": [
    "Vektor koncových sil a momentů na prutu $c$ lze vypočítat jako"
   ]
  },
  {
   "cell_type": "markdown",
   "id": "0d3d1d71-0b20-4b3b-817f-d371fbc7cff7",
   "metadata": {},
   "source": [
    "Ohybový moment ve styčníku $2$ odpovídá koncovému momentu $M_{23}$ na prutu $c$"
   ]
  },
  {
   "cell_type": "code",
   "execution_count": 35,
   "id": "9395649f-85bd-4d33-a594-c9588cad89b4",
   "metadata": {},
   "outputs": [
    {
     "data": {
      "text/latex": [
       "$\\displaystyle -53.7719706799225$"
      ],
      "text/plain": [
       "-53.7719706799225"
      ]
     },
     "execution_count": 35,
     "metadata": {},
     "output_type": "execute_result"
    }
   ],
   "source": [
    "M_2_1_res = M_2_0.subs([\n",
    "    (L_12, 4+a),\n",
    "    (L_23, 3+b),\n",
    "    (w_bar, a+c),\n",
    "    (I, (1/12)*0.4*0.6**3),\n",
    "    (E, 2.0032e+04)  # E -> R(70, 32)\n",
    "])\n",
    "M_2_1_res"
   ]
  },
  {
   "cell_type": "markdown",
   "id": "8f938d46-26f5-44b5-baac-76bdc593d026",
   "metadata": {},
   "source": [
    "***"
   ]
  },
  {
   "cell_type": "markdown",
   "id": "e92775e0-9c6a-41c8-a45c-3214afd9974d",
   "metadata": {},
   "source": [
    "### Po zatížení silou $F$ v čase $t = 70 \\, \\mathrm{dní}$"
   ]
  },
  {
   "cell_type": "markdown",
   "id": "4bf9284a-5099-4081-8041-5b254fdbcef9",
   "metadata": {},
   "source": [
    "Po zatížení silou $F$ dojde ke změně vektoru pravé strany."
   ]
  },
  {
   "cell_type": "code",
   "execution_count": 36,
   "id": "d19a56d1-161c-4a4a-8425-3a3840f9d08f",
   "metadata": {},
   "outputs": [
    {
     "data": {
      "text/latex": [
       "$\\displaystyle \\left[\\begin{matrix}0\\\\0\\\\F\\\\0\\\\0\\\\0\\\\0\\end{matrix}\\right]$"
      ],
      "text/plain": [
       "Matrix([\n",
       "[0],\n",
       "[0],\n",
       "[F],\n",
       "[0],\n",
       "[0],\n",
       "[0],\n",
       "[0]])"
      ]
     },
     "execution_count": 36,
     "metadata": {},
     "output_type": "execute_result"
    }
   ],
   "source": [
    "F_glob_2 = smp.Matrix([0, 0, F, 0, 0, 0, 0])\n",
    "F_glob_2"
   ]
  },
  {
   "cell_type": "markdown",
   "id": "e3ac1d79-205a-4428-b6e9-5a109c5b0b7e",
   "metadata": {},
   "source": [
    "#### Modifikovaný vektor pravé strany"
   ]
  },
  {
   "cell_type": "code",
   "execution_count": 37,
   "id": "a68f0b7a-e0a3-4872-aa2f-81ab05a6deb0",
   "metadata": {},
   "outputs": [
    {
     "data": {
      "text/latex": [
       "$\\displaystyle \\left[\\begin{matrix}0\\\\0\\\\F\\\\0\\\\\\bar{w}_{2}\\\\0\\\\0\\end{matrix}\\right]$"
      ],
      "text/plain": [
       "Matrix([\n",
       "[     0],\n",
       "[     0],\n",
       "[     F],\n",
       "[     0],\n",
       "[wbar_2],\n",
       "[     0],\n",
       "[     0]])"
      ]
     },
     "execution_count": 37,
     "metadata": {},
     "output_type": "execute_result"
    }
   ],
   "source": [
    "F_mod_2 = copy.copy(F_glob_2)\n",
    "F_mod_2[4] = w_bar\n",
    "F_mod_2"
   ]
  },
  {
   "cell_type": "markdown",
   "id": "beb8b467-d8f1-4b26-b26c-1a1f0e9a4a10",
   "metadata": {},
   "source": [
    "#### Výpočet vektoru posunů a pootočení"
   ]
  },
  {
   "cell_type": "code",
   "execution_count": 38,
   "id": "4778704b-a13d-48a7-ae29-9a5c6cb5d0b6",
   "metadata": {
    "scrolled": true
   },
   "outputs": [
    {
     "data": {
      "text/latex": [
       "$\\displaystyle \\left[\\begin{matrix}0\\\\0\\\\\\frac{72 E I L_{12}^{2} \\bar{w}_{2} + 288 E I L_{12} L_{23} \\bar{w}_{2} + 240 E I L_{23}^{2} \\bar{w}_{2} + 3 F L_{12}^{4} L_{23} + 7 F L_{12}^{3} L_{23}^{2}}{576 E I L_{12} L_{23} + 768 E I L_{23}^{2}}\\\\\\frac{- 24 E I L_{12}^{2} \\bar{w}_{2} - 144 E I L_{12} L_{23} \\bar{w}_{2} - 144 E I L_{23}^{2} \\bar{w}_{2} - F L_{12}^{3} L_{23}^{2}}{96 E I L_{12}^{2} L_{23} + 128 E I L_{12} L_{23}^{2}}\\\\\\bar{w}_{2}\\\\\\frac{24 E I L_{12}^{2} \\bar{w}_{2} - 48 E I L_{23}^{2} \\bar{w}_{2} + F L_{12}^{3} L_{23}^{2}}{24 E I L_{12}^{2} L_{23} + 32 E I L_{12} L_{23}^{2}}\\\\0\\end{matrix}\\right]$"
      ],
      "text/plain": [
       "Matrix([\n",
       "[                                                                                                                                                         0],\n",
       "[                                                                                                                                                         0],\n",
       "[(72*E*I*L_12**2*wbar_2 + 288*E*I*L_12*L_23*wbar_2 + 240*E*I*L_23**2*wbar_2 + 3*F*L_12**4*L_23 + 7*F*L_12**3*L_23**2)/(576*E*I*L_12*L_23 + 768*E*I*L_23**2)],\n",
       "[             (-24*E*I*L_12**2*wbar_2 - 144*E*I*L_12*L_23*wbar_2 - 144*E*I*L_23**2*wbar_2 - F*L_12**3*L_23**2)/(96*E*I*L_12**2*L_23 + 128*E*I*L_12*L_23**2)],\n",
       "[                                                                                                                                                    wbar_2],\n",
       "[                                           (24*E*I*L_12**2*wbar_2 - 48*E*I*L_23**2*wbar_2 + F*L_12**3*L_23**2)/(24*E*I*L_12**2*L_23 + 32*E*I*L_12*L_23**2)],\n",
       "[                                                                                                                                                         0]])"
      ]
     },
     "execution_count": 38,
     "metadata": {},
     "output_type": "execute_result"
    }
   ],
   "source": [
    "u_sol_2 = K_mod.solve(F_mod_2)\n",
    "u_sol_2"
   ]
  },
  {
   "cell_type": "markdown",
   "id": "b2d66e2b-83e9-4b3c-97f5-a28ecc4f5ea3",
   "metadata": {},
   "source": [
    "Vztah pro výpočet pootočení nad střední podporou $\\varphi_2(t\\rightarrow 70^+)$:"
   ]
  },
  {
   "cell_type": "code",
   "execution_count": 39,
   "id": "d035549d-736c-4b69-8aa7-c52840534b17",
   "metadata": {},
   "outputs": [
    {
     "data": {
      "text/latex": [
       "$\\displaystyle \\frac{F L_{12}^{2} L_{23}}{24 E I L_{12} + 32 E I L_{23}} + \\frac{\\bar{w}_{2} \\cdot \\left(3 L_{12}^{2} - 6 L_{23}^{2}\\right)}{3 L_{12}^{2} L_{23} + 4 L_{12} L_{23}^{2}}$"
      ],
      "text/plain": [
       "F*L_12**2*L_23/(24*E*I*L_12 + 32*E*I*L_23) + wbar_2*(3*L_12**2 - 6*L_23**2)/(3*L_12**2*L_23 + 4*L_12*L_23**2)"
      ]
     },
     "execution_count": 39,
     "metadata": {},
     "output_type": "execute_result"
    }
   ],
   "source": [
    "phi_2_2 = u_sol_2[5].simplify()\n",
    "smp.apart(phi_2_2, w_bar, F)"
   ]
  },
  {
   "cell_type": "markdown",
   "id": "7c00a627-8e75-45c1-975f-e4da709ddc7a",
   "metadata": {},
   "source": [
    "Z uvedeného vztahu lze vypozorovat, že příspěvěk k natočení způsobený silou $F$ je v pružném řešení nepřímo úměrný poddajnosti $1/E$, který lze pro případ viskoelasticity nahradit hodnotou funkce poddajnosti $J(t=70, t'=70) = 2.6907E-05 \\, \\mathrm{MPa^{-1}}$"
   ]
  },
  {
   "cell_type": "code",
   "execution_count": 40,
   "id": "dfb6ff3a-4636-4748-a0c4-5283c844f79b",
   "metadata": {},
   "outputs": [
    {
     "data": {
      "text/latex": [
       "$\\displaystyle 0.0416655181846266$"
      ],
      "text/plain": [
       "0.0416655181846266"
      ]
     },
     "execution_count": 40,
     "metadata": {},
     "output_type": "execute_result"
    }
   ],
   "source": [
    "phi_2_2.subs([\n",
    "    (L_12, 4+a),\n",
    "    (L_23, 3+b),\n",
    "    (w_bar, a+c),\n",
    "    (I, (1/12)*0.4*0.6**3),\n",
    "    (E, 1/2.6907e-05),  # E -> 1 / J(70, 70)\n",
    "    (F, 100*c),\n",
    "])"
   ]
  },
  {
   "cell_type": "markdown",
   "id": "a34c2b01-e4e8-4ecd-b823-052b0103e779",
   "metadata": {},
   "source": [
    "Svislý posun v polovině rozpětí levého pole $w_c(t=70)$ lze vypočítat ze vztahu:"
   ]
  },
  {
   "cell_type": "code",
   "execution_count": 41,
   "id": "e00bf702-4126-47cc-9a81-52e7a7605dd2",
   "metadata": {},
   "outputs": [
    {
     "data": {
      "text/latex": [
       "$\\displaystyle \\frac{\\bar{w}_{2} \\cdot \\left(3 L_{12}^{2} + 12 L_{12} L_{23} + 10 L_{23}^{2}\\right)}{24 L_{12} L_{23} + 32 L_{23}^{2}} + \\frac{3 F L_{12}^{4} + 7 F L_{12}^{3} L_{23}}{576 E I L_{12} + 768 E I L_{23}}$"
      ],
      "text/plain": [
       "wbar_2*(3*L_12**2 + 12*L_12*L_23 + 10*L_23**2)/(24*L_12*L_23 + 32*L_23**2) + (3*F*L_12**4 + 7*F*L_12**3*L_23)/(576*E*I*L_12 + 768*E*I*L_23)"
      ]
     },
     "execution_count": 41,
     "metadata": {},
     "output_type": "execute_result"
    }
   ],
   "source": [
    "w_c_2 = u_sol_2[2].simplify()\n",
    "smp.apart(w_c_2, w_bar)"
   ]
  },
  {
   "cell_type": "markdown",
   "id": "d3186516-8249-4ca9-afe6-a762a7e7327c",
   "metadata": {},
   "source": [
    "Poddajnost $1/E$ opět nahradíme hodnotou funkce poddajnosti $J(t=70, t'=70) = 2.6907E-05 \\, \\mathrm{MPa^{-1}}$"
   ]
  },
  {
   "cell_type": "code",
   "execution_count": 42,
   "id": "e5925332-9165-495f-9168-35de1848b55b",
   "metadata": {},
   "outputs": [
    {
     "data": {
      "text/latex": [
       "$\\displaystyle 1.24602584237556$"
      ],
      "text/plain": [
       "1.24602584237556"
      ]
     },
     "execution_count": 42,
     "metadata": {},
     "output_type": "execute_result"
    }
   ],
   "source": [
    "w_c_2.subs([\n",
    "    (L_12, 4+a),\n",
    "    (L_23, 3+b),\n",
    "    (w_bar, a+c),\n",
    "    (I, (1/12)*0.4*0.6**3),\n",
    "    (E, 1/2.6907e-05),  # E -> 1 / J(70, 70)\n",
    "    (F, 100*c),\n",
    "])"
   ]
  },
  {
   "cell_type": "markdown",
   "id": "f855c0fb-a6fc-4c36-8e65-099d942d107a",
   "metadata": {},
   "source": [
    "Vektor koncových sil a momentů na prutu $a$ lze vypočítat jako"
   ]
  },
  {
   "cell_type": "code",
   "execution_count": 43,
   "id": "d1fed469",
   "metadata": {
    "scrolled": true
   },
   "outputs": [
    {
     "data": {
      "text/latex": [
       "$\\displaystyle \\left[\\begin{matrix}- \\frac{24 E I \\left(- 24 E I L_{12}^{2} \\bar{w}_{2} - 144 E I L_{12} L_{23} \\bar{w}_{2} - 144 E I L_{23}^{2} \\bar{w}_{2} - F L_{12}^{3} L_{23}^{2}\\right)}{L_{12}^{2} \\cdot \\left(96 E I L_{12}^{2} L_{23} + 128 E I L_{12} L_{23}^{2}\\right)} - \\frac{96 E I \\left(72 E I L_{12}^{2} \\bar{w}_{2} + 288 E I L_{12} L_{23} \\bar{w}_{2} + 240 E I L_{23}^{2} \\bar{w}_{2} + 3 F L_{12}^{4} L_{23} + 7 F L_{12}^{3} L_{23}^{2}\\right)}{L_{12}^{3} \\cdot \\left(576 E I L_{12} L_{23} + 768 E I L_{23}^{2}\\right)}\\\\\\frac{4 E I \\left(- 24 E I L_{12}^{2} \\bar{w}_{2} - 144 E I L_{12} L_{23} \\bar{w}_{2} - 144 E I L_{23}^{2} \\bar{w}_{2} - F L_{12}^{3} L_{23}^{2}\\right)}{L_{12} \\cdot \\left(96 E I L_{12}^{2} L_{23} + 128 E I L_{12} L_{23}^{2}\\right)} + \\frac{24 E I \\left(72 E I L_{12}^{2} \\bar{w}_{2} + 288 E I L_{12} L_{23} \\bar{w}_{2} + 240 E I L_{23}^{2} \\bar{w}_{2} + 3 F L_{12}^{4} L_{23} + 7 F L_{12}^{3} L_{23}^{2}\\right)}{L_{12}^{2} \\cdot \\left(576 E I L_{12} L_{23} + 768 E I L_{23}^{2}\\right)}\\\\\\frac{24 E I \\left(- 24 E I L_{12}^{2} \\bar{w}_{2} - 144 E I L_{12} L_{23} \\bar{w}_{2} - 144 E I L_{23}^{2} \\bar{w}_{2} - F L_{12}^{3} L_{23}^{2}\\right)}{L_{12}^{2} \\cdot \\left(96 E I L_{12}^{2} L_{23} + 128 E I L_{12} L_{23}^{2}\\right)} + \\frac{96 E I \\left(72 E I L_{12}^{2} \\bar{w}_{2} + 288 E I L_{12} L_{23} \\bar{w}_{2} + 240 E I L_{23}^{2} \\bar{w}_{2} + 3 F L_{12}^{4} L_{23} + 7 F L_{12}^{3} L_{23}^{2}\\right)}{L_{12}^{3} \\cdot \\left(576 E I L_{12} L_{23} + 768 E I L_{23}^{2}\\right)}\\\\\\frac{8 E I \\left(- 24 E I L_{12}^{2} \\bar{w}_{2} - 144 E I L_{12} L_{23} \\bar{w}_{2} - 144 E I L_{23}^{2} \\bar{w}_{2} - F L_{12}^{3} L_{23}^{2}\\right)}{L_{12} \\cdot \\left(96 E I L_{12}^{2} L_{23} + 128 E I L_{12} L_{23}^{2}\\right)} + \\frac{24 E I \\left(72 E I L_{12}^{2} \\bar{w}_{2} + 288 E I L_{12} L_{23} \\bar{w}_{2} + 240 E I L_{23}^{2} \\bar{w}_{2} + 3 F L_{12}^{4} L_{23} + 7 F L_{12}^{3} L_{23}^{2}\\right)}{L_{12}^{2} \\cdot \\left(576 E I L_{12} L_{23} + 768 E I L_{23}^{2}\\right)}\\end{matrix}\\right]$"
      ],
      "text/plain": [
       "Matrix([\n",
       "[-24*E*I*(-24*E*I*L_12**2*wbar_2 - 144*E*I*L_12*L_23*wbar_2 - 144*E*I*L_23**2*wbar_2 - F*L_12**3*L_23**2)/(L_12**2*(96*E*I*L_12**2*L_23 + 128*E*I*L_12*L_23**2)) - 96*E*I*(72*E*I*L_12**2*wbar_2 + 288*E*I*L_12*L_23*wbar_2 + 240*E*I*L_23**2*wbar_2 + 3*F*L_12**4*L_23 + 7*F*L_12**3*L_23**2)/(L_12**3*(576*E*I*L_12*L_23 + 768*E*I*L_23**2))],\n",
       "[     4*E*I*(-24*E*I*L_12**2*wbar_2 - 144*E*I*L_12*L_23*wbar_2 - 144*E*I*L_23**2*wbar_2 - F*L_12**3*L_23**2)/(L_12*(96*E*I*L_12**2*L_23 + 128*E*I*L_12*L_23**2)) + 24*E*I*(72*E*I*L_12**2*wbar_2 + 288*E*I*L_12*L_23*wbar_2 + 240*E*I*L_23**2*wbar_2 + 3*F*L_12**4*L_23 + 7*F*L_12**3*L_23**2)/(L_12**2*(576*E*I*L_12*L_23 + 768*E*I*L_23**2))],\n",
       "[ 24*E*I*(-24*E*I*L_12**2*wbar_2 - 144*E*I*L_12*L_23*wbar_2 - 144*E*I*L_23**2*wbar_2 - F*L_12**3*L_23**2)/(L_12**2*(96*E*I*L_12**2*L_23 + 128*E*I*L_12*L_23**2)) + 96*E*I*(72*E*I*L_12**2*wbar_2 + 288*E*I*L_12*L_23*wbar_2 + 240*E*I*L_23**2*wbar_2 + 3*F*L_12**4*L_23 + 7*F*L_12**3*L_23**2)/(L_12**3*(576*E*I*L_12*L_23 + 768*E*I*L_23**2))],\n",
       "[     8*E*I*(-24*E*I*L_12**2*wbar_2 - 144*E*I*L_12*L_23*wbar_2 - 144*E*I*L_23**2*wbar_2 - F*L_12**3*L_23**2)/(L_12*(96*E*I*L_12**2*L_23 + 128*E*I*L_12*L_23**2)) + 24*E*I*(72*E*I*L_12**2*wbar_2 + 288*E*I*L_12*L_23*wbar_2 + 240*E*I*L_23**2*wbar_2 + 3*F*L_12**4*L_23 + 7*F*L_12**3*L_23**2)/(L_12**2*(576*E*I*L_12*L_23 + 768*E*I*L_23**2))]])"
      ]
     },
     "execution_count": 43,
     "metadata": {},
     "output_type": "execute_result"
    }
   ],
   "source": [
    "koncove_sily_a_2 = K_a @ smp.Matrix(u_sol_2[0:4])\n",
    "koncove_sily_a_2"
   ]
  },
  {
   "cell_type": "markdown",
   "id": "3713e565-da70-4314-8faa-4d01fa97f6af",
   "metadata": {},
   "source": [
    "Ohybový moment v levé podpoře $M_1(t\\rightarrow70^+)$, který odpovídá koncovému momentu $M_{1c}$ na prutu $a$, lze podle teorie pružnosti vypočítat ze vztahu:"
   ]
  },
  {
   "cell_type": "code",
   "execution_count": 44,
   "id": "8733a61f-48c3-41b9-965b-1a31903b2940",
   "metadata": {},
   "outputs": [
    {
     "data": {
      "text/latex": [
       "$\\displaystyle \\frac{\\bar{w}_{2} \\cdot \\left(6 E I L_{12}^{2} + 18 E I L_{12} L_{23} + 12 E I L_{23}^{2}\\right)}{3 L_{12}^{3} L_{23} + 4 L_{12}^{2} L_{23}^{2}} + \\frac{3 F L_{12}^{2} + 6 F L_{12} L_{23}}{24 L_{12} + 32 L_{23}}$"
      ],
      "text/plain": [
       "wbar_2*(6*E*I*L_12**2 + 18*E*I*L_12*L_23 + 12*E*I*L_23**2)/(3*L_12**3*L_23 + 4*L_12**2*L_23**2) + (3*F*L_12**2 + 6*F*L_12*L_23)/(24*L_12 + 32*L_23)"
      ]
     },
     "execution_count": 44,
     "metadata": {},
     "output_type": "execute_result"
    }
   ],
   "source": [
    "M_1_2 = koncove_sily_a_2[1]\n",
    "smp.apart(M_1_2.simplify(), w_bar)"
   ]
  },
  {
   "cell_type": "markdown",
   "id": "90a6e9f2-7b0b-4d0b-aa4a-970bf341cdd5",
   "metadata": {},
   "source": [
    "Opět si všimneme, že příspěvěk k momentu od vynuceného posunu podpory $\\hat{w}_2$ je závislý na hodnotě modulu pružnosti $E$, který nahradíme hodnotou relaxační funkce $R(t=70, t'=32) = 2.0032E+04 \\, \\mathrm{MPa}$"
   ]
  },
  {
   "cell_type": "code",
   "execution_count": 45,
   "id": "6f75848f-be4a-4d79-9ec7-9dd4a9d0fdeb",
   "metadata": {},
   "outputs": [
    {
     "data": {
      "text/latex": [
       "$\\displaystyle 124.67290485233$"
      ],
      "text/plain": [
       "124.672904852330"
      ]
     },
     "execution_count": 45,
     "metadata": {},
     "output_type": "execute_result"
    }
   ],
   "source": [
    "M_1_2_res = M_1_2.subs([\n",
    "    (L_12, 4+a),\n",
    "    (L_23, 3+b),\n",
    "    (w_bar, a+c),\n",
    "    (I, (1/12)*0.4*0.6**3),\n",
    "    (E, 2.0032e+04),  # E -> R(70, 32)\n",
    "    (F, 100*c)\n",
    "])\n",
    "M_1_2_res"
   ]
  },
  {
   "cell_type": "markdown",
   "id": "21edc8a2-1b82-4454-877f-4d67066bc3d7",
   "metadata": {},
   "source": [
    "Ohybový moment ve styčníku $c$ odpovídá záporně vzatému koncovému momentu $M_{c1}$ na prutu $a$ lze vypočítat ze vztahu"
   ]
  },
  {
   "cell_type": "code",
   "execution_count": 46,
   "id": "d515069e-8ae6-4ace-8e5d-4402c0f03f54",
   "metadata": {},
   "outputs": [
    {
     "data": {
      "text/latex": [
       "$\\displaystyle - \\frac{\\bar{w}_{2} \\cdot \\left(3 E I L_{12}^{2} - 6 E I L_{23}^{2}\\right)}{3 L_{12}^{3} L_{23} + 4 L_{12}^{2} L_{23}^{2}} - \\frac{3 F L_{12}^{2} + 5 F L_{12} L_{23}}{24 L_{12} + 32 L_{23}}$"
      ],
      "text/plain": [
       "-wbar_2*(3*E*I*L_12**2 - 6*E*I*L_23**2)/(3*L_12**3*L_23 + 4*L_12**2*L_23**2) - (3*F*L_12**2 + 5*F*L_12*L_23)/(24*L_12 + 32*L_23)"
      ]
     },
     "execution_count": 46,
     "metadata": {},
     "output_type": "execute_result"
    }
   ],
   "source": [
    "M_c_2 = -koncove_sily_a_2[3]\n",
    "smp.apart(M_c_2.simplify(), w_bar)"
   ]
  },
  {
   "cell_type": "code",
   "execution_count": 47,
   "id": "ed514769-24b6-405b-a36a-3d146550b214",
   "metadata": {},
   "outputs": [
    {
     "data": {
      "text/latex": [
       "$\\displaystyle -56.3326654439166$"
      ],
      "text/plain": [
       "-56.3326654439166"
      ]
     },
     "execution_count": 47,
     "metadata": {},
     "output_type": "execute_result"
    }
   ],
   "source": [
    "M_c_2_res = M_c_2.subs([\n",
    "    (L_12, 4+a),\n",
    "    (L_23, 3+b),\n",
    "    (w_bar, a+c),\n",
    "    (I, (1/12)*0.4*0.6**3),\n",
    "    (E, 2.0032e+04),  # E -> R(70, 32)\n",
    "    (F, 100*c)\n",
    "])\n",
    "M_c_2_res"
   ]
  },
  {
   "cell_type": "code",
   "execution_count": 48,
   "id": "9fe03f5f-7b84-4ce2-9df5-32e7b1064cea",
   "metadata": {
    "scrolled": true
   },
   "outputs": [
    {
     "data": {
      "text/latex": [
       "$\\displaystyle \\left[\\begin{matrix}- \\frac{3 E I \\left(24 E I L_{12}^{2} \\bar{w}_{2} - 48 E I L_{23}^{2} \\bar{w}_{2} + F L_{12}^{3} L_{23}^{2}\\right)}{L_{23}^{2} \\cdot \\left(24 E I L_{12}^{2} L_{23} + 32 E I L_{12} L_{23}^{2}\\right)} + \\frac{3 E I \\bar{w}_{2}}{L_{23}^{3}}\\\\\\frac{3 E I \\left(24 E I L_{12}^{2} \\bar{w}_{2} - 48 E I L_{23}^{2} \\bar{w}_{2} + F L_{12}^{3} L_{23}^{2}\\right)}{L_{23} \\cdot \\left(24 E I L_{12}^{2} L_{23} + 32 E I L_{12} L_{23}^{2}\\right)} - \\frac{3 E I \\bar{w}_{2}}{L_{23}^{2}}\\\\\\frac{3 E I \\left(24 E I L_{12}^{2} \\bar{w}_{2} - 48 E I L_{23}^{2} \\bar{w}_{2} + F L_{12}^{3} L_{23}^{2}\\right)}{L_{23}^{2} \\cdot \\left(24 E I L_{12}^{2} L_{23} + 32 E I L_{12} L_{23}^{2}\\right)} - \\frac{3 E I \\bar{w}_{2}}{L_{23}^{3}}\\end{matrix}\\right]$"
      ],
      "text/plain": [
       "Matrix([\n",
       "[-3*E*I*(24*E*I*L_12**2*wbar_2 - 48*E*I*L_23**2*wbar_2 + F*L_12**3*L_23**2)/(L_23**2*(24*E*I*L_12**2*L_23 + 32*E*I*L_12*L_23**2)) + 3*E*I*wbar_2/L_23**3],\n",
       "[    3*E*I*(24*E*I*L_12**2*wbar_2 - 48*E*I*L_23**2*wbar_2 + F*L_12**3*L_23**2)/(L_23*(24*E*I*L_12**2*L_23 + 32*E*I*L_12*L_23**2)) - 3*E*I*wbar_2/L_23**2],\n",
       "[ 3*E*I*(24*E*I*L_12**2*wbar_2 - 48*E*I*L_23**2*wbar_2 + F*L_12**3*L_23**2)/(L_23**2*(24*E*I*L_12**2*L_23 + 32*E*I*L_12*L_23**2)) - 3*E*I*wbar_2/L_23**3]])"
      ]
     },
     "execution_count": 48,
     "metadata": {},
     "output_type": "execute_result"
    }
   ],
   "source": [
    "koncove_sily_c_2 = K_c @ smp.Matrix(u_sol_2[4:7])\n",
    "koncove_sily_c_2"
   ]
  },
  {
   "cell_type": "markdown",
   "id": "00fb2650-d172-48e8-bba8-8f7b2231df01",
   "metadata": {},
   "source": [
    "Ohybový moment ve styčníku $2$ odpovídá koncovému momentu $M_{23}$ na prutu $c$"
   ]
  },
  {
   "cell_type": "code",
   "execution_count": 49,
   "id": "1b6d08cb-b630-47fd-8303-a5193102bb5c",
   "metadata": {},
   "outputs": [
    {
     "data": {
      "text/latex": [
       "$\\displaystyle \\frac{3 F L_{12}^{2}}{24 L_{12} + 32 L_{23}} - \\frac{\\bar{w}_{2} \\cdot \\left(12 E I L_{12} + 18 E I L_{23}\\right)}{3 L_{12}^{2} L_{23} + 4 L_{12} L_{23}^{2}}$"
      ],
      "text/plain": [
       "3*F*L_12**2/(24*L_12 + 32*L_23) - wbar_2*(12*E*I*L_12 + 18*E*I*L_23)/(3*L_12**2*L_23 + 4*L_12*L_23**2)"
      ]
     },
     "execution_count": 49,
     "metadata": {},
     "output_type": "execute_result"
    }
   ],
   "source": [
    "M_2_2 = koncove_sily_c_2[1]\n",
    "smp.apart(M_2_2.simplify(), w_bar)"
   ]
  },
  {
   "cell_type": "code",
   "execution_count": 50,
   "id": "d7ef7bbc-2f5b-439e-adc7-2d905fbb2565",
   "metadata": {},
   "outputs": [
    {
     "data": {
      "text/latex": [
       "$\\displaystyle -29.3382357401634$"
      ],
      "text/plain": [
       "-29.3382357401634"
      ]
     },
     "execution_count": 50,
     "metadata": {},
     "output_type": "execute_result"
    }
   ],
   "source": [
    "M_2_2_res = M_2_2.subs([\n",
    "    (L_12, 4+a),\n",
    "    (L_23, 3+b),\n",
    "    (w_bar, a+c),\n",
    "    (I, (1/12)*0.4*0.6**3),\n",
    "    (E, 2.0032e+04),  # E -> R(70, 32)\n",
    "    (F, 100*c)\n",
    "])\n",
    "M_2_2_res"
   ]
  },
  {
   "cell_type": "markdown",
   "id": "21fac5f0-f451-4cf5-a2f4-3c71c211cc64",
   "metadata": {},
   "source": [
    "***"
   ]
  },
  {
   "cell_type": "markdown",
   "id": "0e353b2a-511f-4170-a292-a5f4bc2ffedc",
   "metadata": {},
   "source": [
    "### V čase $t = 365 \\, \\mathrm{dní}$"
   ]
  },
  {
   "cell_type": "markdown",
   "id": "1e6e7ebf-8508-4cce-adb8-998f2a2db38f",
   "metadata": {},
   "source": [
    "Pro vypočítání hodnot v čase $t = 365 \\, \\mathrm{dní}$ lze opět využít vztahy odvozené v předcházející sekci, protože se vektor zatížení ani předepsané posuny nijak nezměnily."
   ]
  },
  {
   "cell_type": "markdown",
   "id": "926330e1-ac6e-4152-b062-c877007af267",
   "metadata": {},
   "source": [
    "Vztah pro výpočet pootočení nad střední podporou $\\varphi_2(t=365)$:"
   ]
  },
  {
   "cell_type": "code",
   "execution_count": 51,
   "id": "e1bc855a-24a5-4f41-a6d1-382440326b70",
   "metadata": {},
   "outputs": [
    {
     "data": {
      "text/latex": [
       "$\\displaystyle \\frac{F L_{12}^{2} L_{23}}{24 E I L_{12} + 32 E I L_{23}} + \\frac{\\bar{w}_{2} \\cdot \\left(3 L_{12}^{2} - 6 L_{23}^{2}\\right)}{3 L_{12}^{2} L_{23} + 4 L_{12} L_{23}^{2}}$"
      ],
      "text/plain": [
       "F*L_12**2*L_23/(24*E*I*L_12 + 32*E*I*L_23) + wbar_2*(3*L_12**2 - 6*L_23**2)/(3*L_12**2*L_23 + 4*L_12*L_23**2)"
      ]
     },
     "execution_count": 51,
     "metadata": {},
     "output_type": "execute_result"
    }
   ],
   "source": [
    "phi_2_3 = copy.copy(phi_2_2)\n",
    "smp.apart(phi_2_3, w_bar)"
   ]
  },
  {
   "cell_type": "markdown",
   "id": "0d67a931-3926-47da-8bbb-e2741601f70e",
   "metadata": {},
   "source": [
    "Z uvedeného vztahu lze vypozorovat, že příspěvěk k natočení způsobený silou $F$ je v pružném řešení nepřímo úměrný poddajnosti $1/E$, který lze pro případ viskoelasticity nahradit hodnotou funkce poddajnosti $J(t=365, t'=70) = 5.0320E-05 \\, \\mathrm{MPa^{-1}}$"
   ]
  },
  {
   "cell_type": "code",
   "execution_count": 52,
   "id": "6971e156-d63d-4187-ae82-fdb6d880df9d",
   "metadata": {},
   "outputs": [
    {
     "data": {
      "text/latex": [
       "$\\displaystyle 0.158197692214078$"
      ],
      "text/plain": [
       "0.158197692214078"
      ]
     },
     "execution_count": 52,
     "metadata": {},
     "output_type": "execute_result"
    }
   ],
   "source": [
    "phi_2_3.subs([\n",
    "    (L_12, 4+a),\n",
    "    (L_23, 3+b),\n",
    "    (w_bar, a+c),\n",
    "    (I, (1/12)*0.4*0.6**3),\n",
    "    (E, 1/5.0320e-05),  # E -> 1 / J(365, 70)\n",
    "    (F, 100*c),\n",
    "])"
   ]
  },
  {
   "cell_type": "markdown",
   "id": "9e2b2a01-567c-4589-8ff0-977b7802b231",
   "metadata": {},
   "source": [
    "Svislý posun v polovině rozpětí levého pole $w_c(t=365)$ lze vypočítat ze vztahu:"
   ]
  },
  {
   "cell_type": "code",
   "execution_count": 53,
   "id": "b1a9d11a-0966-4fc3-b002-0cf04723efb1",
   "metadata": {
    "scrolled": true
   },
   "outputs": [
    {
     "data": {
      "text/latex": [
       "$\\displaystyle \\frac{\\bar{w}_{2} \\cdot \\left(3 L_{12}^{2} + 12 L_{12} L_{23} + 10 L_{23}^{2}\\right)}{24 L_{12} L_{23} + 32 L_{23}^{2}} + \\frac{3 F L_{12}^{4} + 7 F L_{12}^{3} L_{23}}{576 E I L_{12} + 768 E I L_{23}}$"
      ],
      "text/plain": [
       "wbar_2*(3*L_12**2 + 12*L_12*L_23 + 10*L_23**2)/(24*L_12*L_23 + 32*L_23**2) + (3*F*L_12**4 + 7*F*L_12**3*L_23)/(576*E*I*L_12 + 768*E*I*L_23)"
      ]
     },
     "execution_count": 53,
     "metadata": {},
     "output_type": "execute_result"
    }
   ],
   "source": [
    "w_c_3 = copy.copy(w_c_2)\n",
    "smp.apart(w_c_3, w_bar)"
   ]
  },
  {
   "cell_type": "markdown",
   "id": "f5676398-f830-41c9-86d6-71e549a64db0",
   "metadata": {},
   "source": [
    "Poddajnost $1/E$ opět nahradíme hodnotou funkce poddajnosti $J(t=365, t'=70) = 5.0320E-05 \\, \\mathrm{MPa^{-1}}$"
   ]
  },
  {
   "cell_type": "code",
   "execution_count": 54,
   "id": "52946336-064e-46fb-8065-93d2b1b6a85e",
   "metadata": {},
   "outputs": [
    {
     "data": {
      "text/latex": [
       "$\\displaystyle 1.51228420364285$"
      ],
      "text/plain": [
       "1.51228420364285"
      ]
     },
     "execution_count": 54,
     "metadata": {},
     "output_type": "execute_result"
    }
   ],
   "source": [
    "w_c_3.subs([\n",
    "    (L_12, 4+a),\n",
    "    (L_23, 3+b),\n",
    "    (w_bar, a+c),\n",
    "    (I, (1/12)*0.4*0.6**3),\n",
    "    (E, 1/5.0320e-05),  # E -> 1 / J(365, 70)\n",
    "    (F, 100*c),\n",
    "])"
   ]
  },
  {
   "cell_type": "markdown",
   "id": "1e06f100-a485-4632-a940-81a30c80ae55",
   "metadata": {},
   "source": [
    "Ohybový moment v levé podpoře $M_1(t=365)$, který odpovídá koncovému momentu $M_{1c}$ na prutu $a$, lze podle teorie pružnosti vypočítat ze vztahu:"
   ]
  },
  {
   "cell_type": "code",
   "execution_count": 55,
   "id": "c9c7563b-1ea4-4ebf-925c-91b0a511a2b2",
   "metadata": {
    "scrolled": true
   },
   "outputs": [
    {
     "data": {
      "text/latex": [
       "$\\displaystyle \\frac{\\bar{w}_{2} \\cdot \\left(6 E I L_{12}^{2} + 18 E I L_{12} L_{23} + 12 E I L_{23}^{2}\\right)}{3 L_{12}^{3} L_{23} + 4 L_{12}^{2} L_{23}^{2}} + \\frac{3 F L_{12}^{2} + 6 F L_{12} L_{23}}{24 L_{12} + 32 L_{23}}$"
      ],
      "text/plain": [
       "wbar_2*(6*E*I*L_12**2 + 18*E*I*L_12*L_23 + 12*E*I*L_23**2)/(3*L_12**3*L_23 + 4*L_12**2*L_23**2) + (3*F*L_12**2 + 6*F*L_12*L_23)/(24*L_12 + 32*L_23)"
      ]
     },
     "execution_count": 55,
     "metadata": {},
     "output_type": "execute_result"
    }
   ],
   "source": [
    "M_1_3 = copy.copy(M_1_2)\n",
    "smp.apart(M_1_3.simplify(), w_bar)"
   ]
  },
  {
   "cell_type": "markdown",
   "id": "742c3551-0c35-4e8a-ae19-46bed4c86d44",
   "metadata": {},
   "source": [
    "Modul pružnosti $E$ nahradíme hodnotou relaxační funkce $R(t=365, t'=32) = 1.4004E+04 \\, \\mathrm{MPa}$"
   ]
  },
  {
   "cell_type": "code",
   "execution_count": 56,
   "id": "3b078f8a-98c9-4069-895a-17fa00ede843",
   "metadata": {
    "scrolled": true
   },
   "outputs": [
    {
     "data": {
      "text/latex": [
       "$\\displaystyle 106.9518811124$"
      ],
      "text/plain": [
       "106.951881112400"
      ]
     },
     "execution_count": 56,
     "metadata": {},
     "output_type": "execute_result"
    }
   ],
   "source": [
    "M_1_3_res = M_1_3.subs([\n",
    "    (L_12, 4+a),\n",
    "    (L_23, 3+b),\n",
    "    (w_bar, a+c),\n",
    "    (I, (1/12)*0.4*0.6**3),\n",
    "    (E, 1.4004e+04),  # E -> R(365, 32)\n",
    "    (F, 100*c)\n",
    "])\n",
    "M_1_3_res"
   ]
  },
  {
   "cell_type": "markdown",
   "id": "d06573b8-30c9-4b1a-a82f-d9e7d425de40",
   "metadata": {},
   "source": [
    "Ohybový moment ve styčníku $c$ odpovídá záporně vzatému koncovému momentu $M_{c1}$ na prutu $a$ lze vypočítat ze vztahu"
   ]
  },
  {
   "cell_type": "code",
   "execution_count": 57,
   "id": "ebe54137-e6d9-4c1a-b2e5-6d8a6088d7aa",
   "metadata": {},
   "outputs": [
    {
     "data": {
      "text/latex": [
       "$\\displaystyle - \\frac{\\bar{w}_{2} \\cdot \\left(3 E I L_{12}^{2} - 6 E I L_{23}^{2}\\right)}{3 L_{12}^{3} L_{23} + 4 L_{12}^{2} L_{23}^{2}} - \\frac{3 F L_{12}^{2} + 5 F L_{12} L_{23}}{24 L_{12} + 32 L_{23}}$"
      ],
      "text/plain": [
       "-wbar_2*(3*E*I*L_12**2 - 6*E*I*L_23**2)/(3*L_12**3*L_23 + 4*L_12**2*L_23**2) - (3*F*L_12**2 + 5*F*L_12*L_23)/(24*L_12 + 32*L_23)"
      ]
     },
     "execution_count": 57,
     "metadata": {},
     "output_type": "execute_result"
    }
   ],
   "source": [
    "M_c_3 = copy.copy(M_c_2)\n",
    "smp.apart(M_c_3.simplify(), w_bar)"
   ]
  },
  {
   "cell_type": "code",
   "execution_count": 58,
   "id": "91a4b74f-6f83-41ad-a067-17ab80c6d16a",
   "metadata": {},
   "outputs": [
    {
     "data": {
      "text/latex": [
       "$\\displaystyle -57.1026861183302$"
      ],
      "text/plain": [
       "-57.1026861183302"
      ]
     },
     "execution_count": 58,
     "metadata": {},
     "output_type": "execute_result"
    }
   ],
   "source": [
    "M_c_3_res = M_c_3.subs([\n",
    "    (L_12, 4+a),\n",
    "    (L_23, 3+b),\n",
    "    (w_bar, a+c),\n",
    "    (I, (1/12)*0.4*0.6**3),\n",
    "    (E, 1.4004e+04),  # E -> R(365, 32)\n",
    "    (F, 100*c)\n",
    "])\n",
    "M_c_3_res"
   ]
  },
  {
   "cell_type": "markdown",
   "id": "a723a5e7-dc43-478e-8560-4e6278227617",
   "metadata": {},
   "source": [
    "Ohybový moment ve styčníku $2$ odpovídá koncovému momentu $M_{23}$ na prutu $c$"
   ]
  },
  {
   "cell_type": "code",
   "execution_count": 59,
   "id": "65f886ca-822b-4146-a2a9-450eec20ec57",
   "metadata": {},
   "outputs": [
    {
     "data": {
      "text/latex": [
       "$\\displaystyle \\frac{3 F L_{12}^{2}}{24 L_{12} + 32 L_{23}} - \\frac{\\bar{w}_{2} \\cdot \\left(12 E I L_{12} + 18 E I L_{23}\\right)}{3 L_{12}^{2} L_{23} + 4 L_{12} L_{23}^{2}}$"
      ],
      "text/plain": [
       "3*F*L_12**2/(24*L_12 + 32*L_23) - wbar_2*(12*E*I*L_12 + 18*E*I*L_23)/(3*L_12**2*L_23 + 4*L_12*L_23**2)"
      ]
     },
     "execution_count": 59,
     "metadata": {},
     "output_type": "execute_result"
    }
   ],
   "source": [
    "M_2_3 = copy.copy(M_2_2)\n",
    "smp.apart(M_2_3.simplify(), w_bar)"
   ]
  },
  {
   "cell_type": "code",
   "execution_count": 60,
   "id": "6a549f02-975b-4983-abc2-77339a66c587",
   "metadata": {},
   "outputs": [
    {
     "data": {
      "text/latex": [
       "$\\displaystyle -13.1572533490606$"
      ],
      "text/plain": [
       "-13.1572533490606"
      ]
     },
     "execution_count": 60,
     "metadata": {},
     "output_type": "execute_result"
    }
   ],
   "source": [
    "M_2_3_res = M_2_3.subs([\n",
    "    (L_12, 4+a),\n",
    "    (L_23, 3+b),\n",
    "    (w_bar, a+c),\n",
    "    (I, (1/12)*0.4*0.6**3),\n",
    "    (E, 1.4004e+04),  # E -> R(365, 32)\n",
    "    (F, 100*c)\n",
    "])\n",
    "M_2_3_res"
   ]
  },
  {
   "cell_type": "markdown",
   "id": "fc602d3e-2ce7-4a5f-a555-397ed588029a",
   "metadata": {},
   "source": [
    "## Vykreslení průběhu ohybových momentů"
   ]
  },
  {
   "cell_type": "code",
   "execution_count": 61,
   "id": "41886f8e-2afd-4c00-b8fc-85abd8851cd0",
   "metadata": {},
   "outputs": [
    {
     "data": {
      "image/png": "[encoded data removed]",
      "text/plain": [
       "<Figure size 640x480 with 1 Axes>"
      ]
     },
     "metadata": {},
     "output_type": "display_data"
    }
   ],
   "source": [
    "x = [0, (4+a)/2, 4+a, 4+a+3+b]\n",
    "momenty_0 = [M_1_0_res, M_c_0_res, M_2_0_res, 0]\n",
    "momenty_1 = [M_1_1_res, M_c_1_res, M_2_1_res, 0]\n",
    "momenty_2 = [M_1_2_res, M_c_2_res, M_2_2_res, 0]\n",
    "momenty_3 = [M_1_3_res, M_c_3_res, M_2_3_res, 0]\n",
    "\n",
    "\n",
    "plt.plot([0, x[-1]], [0, 0], lw=3, c='k')  # nosnik\n",
    "plt.plot(0, 0, marker='|', ms=30, c='k', mew=3)  # vetknuti\n",
    "plt.plot([4+a, 4+a+3+b], [0, 0], marker=6, ms=15, c='k')  # klouby\n",
    "\n",
    "plt.plot(x, momenty_0, lw=2, label=r'$t = 30 \\, \\mathrm{dní}$')\n",
    "plt.plot(x, momenty_1, lw=2, label=r'$t \\rightarrow 70^- \\, \\mathrm{dní}$')\n",
    "plt.plot(x, momenty_2, lw=2, label=r'$t \\rightarrow 70^+ \\, \\mathrm{dní}$')\n",
    "plt.plot(x, momenty_3, lw=2, label=r'$t = 365 \\, \\mathrm{dní}$')\n",
    "\n",
    "plt.grid(which=\"major\", linestyle=(10, (20, 6)), color='black', lw=0.3)\n",
    "plt.minorticks_on()\n",
    "plt.grid(which=\"minor\", linestyle=(0, (1, 3)), color='black', lw=0.3)\n",
    "plt.legend()\n",
    "\n",
    "plt.xlabel('souřadnice x (m)')\n",
    "plt.ylabel('Ohybový moment (kNm)')\n",
    "\n",
    "plt.show()"
   ]
  }
 ],
 "metadata": {
  "kernelspec": {
   "display_name": "Python 3 (ipykernel)",
   "language": "python",
   "name": "python3"
  },
  "language_info": {
   "codemirror_mode": {
    "name": "ipython",
    "version": 3
   },
   "file_extension": ".py",
   "mimetype": "text/x-python",
   "name": "python",
   "nbconvert_exporter": "python",
   "pygments_lexer": "ipython3",
   "version": "3.11.6"
  }
 },
 "nbformat": 4,
 "nbformat_minor": 5
}
