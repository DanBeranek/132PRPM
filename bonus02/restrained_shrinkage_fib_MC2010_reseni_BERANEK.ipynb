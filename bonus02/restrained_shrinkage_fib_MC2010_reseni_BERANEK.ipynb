{
 "cells": [
  {
   "cell_type": "markdown",
   "id": "491c8a4d-667c-4ba0-a825-26d46c139a0e",
   "metadata": {},
   "source": [
    "# Výpočet odezvy při vázaném smrštění dle fib MC 2010\n",
    "\n",
    "***\n",
    "\n",
    "Vypracované řešení zašlete včetně scriptu nebo pomocných výpočtů na adresu petr.havlasek@cvut.cz<br>\n",
    "\n",
    "Řešení je možné odezvdat do přespříštího cvičení.\n",
    "\n",
    "Jako předmět zprávy uveďte **PRPM: BONUS**\n",
    "\n",
    "***\n",
    "\n",
    "## Zadání:\n",
    "\n",
    "Deska z prostého betonu tloušťky 200 mm se v jednom směru může volně zkracovat a ve druhém směru je neposuvně podepřená. Uvažujte beton třídy C30/37. Deska byla ošetřována po dobu 7 dní a poté byla vystavena prostředí s průměrnou hodnotou relativní vlhkosti 50\\%. Účinky vlastní tíhy, dalšího nahodilého zatížení a autogenního smrštění zanedbejte. Dále předpokládejte, že vlivem vysychání dochází ke smršťování, které namáhá celý průřez stejnoměrně.\n",
    "\n",
    "Předpokládejte, že tahová pevnost betonu se vyvíjí dle doporučení MC 2010 a není redukována dlouhodobým zatížením. Střední tahová pevnost betonu ve stáří 28 dnů je pro třídu do C50 aproximována výrazem\n",
    "\n",
    "$f_{ctm,28} = 0.3 \\left(f_{ck}\\right)^{2/3}$\n",
    "\n",
    "kde $f_{ck}$ je charakteristická hodnota tlakové pevnosti v tomto stáří. Pro jednoduchost předpokládejte, že vývoj tahové pevnosti se řídí stejnou funkcí jako tlaková pevnost, tj. $f_{ctm}(t) = \\beta_{cc}(t) f_{ctm,28}$, kde funkce $\\beta_{cc}(t)$ je definována dála v tomto notebooku (buňka pro výpočet modulu pružnosti).\n",
    "\n",
    "Vaším úkolem je vykreslit vývoj napětí způsobeného smršťováním od vysychání. Do jednoho grafu vykreslete vývoj napětí za předpokladu, že beton dotvaruje a dále pro případ, že je jeho chování idealizováno jako lineárně pružné s tuhostí rovnou sečnovému modulu. Do stejného obrázku nakreslete vývoj tahové pevnosti betonu dané třídy a vývoj předepsaného smrštění.\n",
    "\n",
    "Stanovte délku vysychání, při které tahové napětí dosáhne tahové pevnosti betonu.\n",
    "\n",
    "\n",
    "\n",
    "Pro výpočet napětí můžete využít vztah 1.89 ze skripta PRPM. Relaxační funkci vyhodnoťe vždy v polovině časového intervalu.\n",
    "\n",
    "Pro Vaše řešení můžete využít vykreslení v poslední buňnce tohoto notebooku.\n",
    "\n",
    "Notebook obsahuje potřebné i nepotřebné informace a grafy.\n",
    "\n",
    "Pozn: vyhodnocení napětí za předpokladu relaxace je poměrně náročná úloha a její výpočet může trvat několik vteřin (v závislosti na časové diskretizaci)\n",
    "\n"
   ]
  },
  {
   "cell_type": "markdown",
   "id": "91fb5041-a9ac-4d3d-9532-57d6a5b4373c",
   "metadata": {},
   "source": [
    "# fib Model Code 2010: creep and shrinkage\n",
    "\n",
    "Implementation of expressions from fib bulletin 65: Model Code 2010, Final draft, Volume 1, 2012.\n",
    "Relaxation function computed using equations (5.24)-(5.25) presented in Z.P. Bažant and M. Jirásek: Creep and Hygrothermal Effects in Concrete Structures, 2018\n"
   ]
  },
  {
   "cell_type": "markdown",
   "id": "552fb660-97b1-44a4-8a46-1903977c97d4",
   "metadata": {},
   "source": [
    "<div class=\"alert alert-block alert-danger\">\n",
    "\n",
    "## Range of applicability\n",
    "\n",
    "- unreinforced concrete moist cured at normal temperature up to 14 days<br>\n",
    "\n",
    "- age at loading $tt \\geq$ 1 day<br>\n",
    "\n",
    "- structural concrete with 20 MPa $\\leq$ f_cm $\\leq$ 130 MPa<br>\n",
    "\n",
    "- stress level up to 0.4 $f_{cm}(tt)$ for linear creep<br>\n",
    "\n",
    "- stress level 0.4-0.6 $f_{cm}(tt)$ for nonlinear creep<br>\n",
    "\n",
    "- mean relative humidity 40-100%<br>\n",
    "\n",
    "- mean temperature 5-30 C<br>\n",
    "</div>\n",
    "\n"
   ]
  },
  {
   "cell_type": "markdown",
   "id": "8ac8afc0-0523-4c31-bc81-78f97906dd85",
   "metadata": {},
   "source": [
    "\n"
   ]
  },
  {
   "cell_type": "markdown",
   "id": "dc220780-3d67-4092-a9d5-fba0f7152ec4",
   "metadata": {},
   "source": [
    "<div class=\"alert alert-block alert-info\">\n",
    "\n",
    "## Input parameters\n",
    "\n",
    "### Material & Geometry\n",
    "`fcm28` ... mean compressive strength of concrete measured on cylinders at the age of 28 days [MPa] <br>\n",
    "\n",
    "`h` ... notional size [mm] reflecting cross section geometry and surface exposed to drying<br>\n",
    "\n",
    "`aggregate type` ... basalt/quartzite/dense limestone/sandstone <br>\n",
    "\n",
    "'cement type' ... (decision tree = first applicable criterion according to the composition)\n",
    "\n",
    "* CS = CEM III, CEM II/B, strength class 32.5 N, 42.5 N, more than 65% of GGBS or more than 35% FA<br>\n",
    "\n",
    "* CN = CEM II, CEM I, strength class 42.5 N, 32.5 R, more than 35% GGBS or more than 20 % FA<br>\n",
    "\n",
    "* CR = CEM I, strength class 42.5 R, 52.5 N, 52.5 R\n",
    "\n",
    "`t0` ... duration of curing = concrete age at the onset of drying<br>\n",
    "\n",
    "### Loading\n",
    "\n",
    "`RH` ... mean relative humidity of the environment [%]<br>\n",
    "\n",
    "`tt` ... age at loading [day]<br>\n",
    "\n",
    "`stress` ... magnitude of compression [MPa]<br>\n",
    "\n",
    "</div>\n"
   ]
  },
  {
   "cell_type": "markdown",
   "id": "a983d97c-fd4a-464a-bfdb-4a4de91ebb4a",
   "metadata": {},
   "source": [
    "## Imports"
   ]
  },
  {
   "cell_type": "code",
   "execution_count": 1,
   "id": "f2468cc1-837d-4005-8332-ad0124eea5cf",
   "metadata": {
    "tags": [],
    "ExecuteTime": {
     "end_time": "2023-10-31T18:47:57.776390535Z",
     "start_time": "2023-10-31T18:47:57.045654685Z"
    }
   },
   "outputs": [],
   "source": [
    "%matplotlib inline\n",
    "\n",
    "import math\n",
    "import numpy as np\n",
    "\n",
    "import matplotlib.pyplot as plt"
   ]
  },
  {
   "cell_type": "markdown",
   "id": "bb12d2be-9116-4ec0-9225-4a421d2df34e",
   "metadata": {},
   "source": [
    "## Definition of Global Variables"
   ]
  },
  {
   "cell_type": "code",
   "execution_count": 2,
   "id": "1a0938ab-bdbc-4d91-83de-1cfc724b55a0",
   "metadata": {
    "tags": [],
    "ExecuteTime": {
     "end_time": "2023-10-31T18:47:57.777638300Z",
     "start_time": "2023-10-31T18:47:57.650784205Z"
    }
   },
   "outputs": [],
   "source": [
    "\n",
    "# onset of drying (concrete age) [days]\n",
    "t0 = 7\n",
    "\n",
    "# concrete age at loading (default value) [days]\n",
    "tt = 14\n",
    "\n",
    "# magnitude of loading stress [MPa]\n",
    "stress = 10\n",
    "\n",
    "# mean compressive strength on cylinders at the age of 28 days [MPa]\n",
    "fcm_28 = 38\n",
    "\n",
    "# characteristic compressive cylinder strength of concrete at 28 days [MPa]\n",
    "fck_28 = fcm_28 - 8\n",
    "\n",
    "# relative humidity of the environment [%] (range of validity 20-100%)\n",
    "RH = 50\n",
    "\n",
    "# notional size of the member [mm] (h = 2*cross section / perim. of drying surface)\n",
    "h = 200\n",
    "\n",
    "# default value of parameters related to concrete composition\n",
    "\n",
    "aggregate_type = \"quartzite\" \n",
    "# aggregate_type = \"basalt\"\n",
    "# aggregate_type = \"dense limestone\"\n",
    "# aggregate_type = \"limestone\"\n",
    "# aggregate_type = \"sandstone\"\n",
    "\n",
    "\n",
    "# CREEP-SPECIFIC PARAMETERS\n",
    "# cement_type = \"CS\" \n",
    "cement_type = \"CN\" \n",
    "# cement_type = \"CR\"\n",
    "\n",
    "\n",
    "# ASSIGNING MATERIAL PARAMETERS - DO NOT MODIFY\n",
    "\n",
    "if (fcm_28 <= 60): # MPa\n",
    "    \n",
    "    if (cement_type == \"CS\"):\n",
    "        s = 0.38\n",
    "\n",
    "    elif (cement_type == \"CN\"):\n",
    "        s = 0.25\n",
    "\n",
    "    else: # R\n",
    "        s = 0.20\n",
    "\n",
    "else:\n",
    "    s = 0.20\n",
    "\n",
    "if (cement_type == \"CS\"):\n",
    "    alpha = -1.\n",
    "\n",
    "elif (cement_type == \"CN\"):\n",
    "    alpha = 0.\n",
    "\n",
    "else: # CR\n",
    "    alpha = 1.\n",
    "    \n",
    "if (cement_type == \"CS\"):\n",
    "    alpha_as = 800.\n",
    "    alpha_ds1 = 3.\n",
    "    alpha_ds2 = 0.013\n",
    "\n",
    "elif (cement_type == \"CN\"):\n",
    "    alpha_as = 700.\n",
    "    alpha_ds1 = 4.\n",
    "    alpha_ds2 = 0.012\n",
    "\n",
    "else: # CR\n",
    "    alpha_as = 600.\n",
    "    alpha_ds1 = 6.\n",
    "    alpha_ds2 = 0.012\n",
    "\n",
    "\n",
    "if (aggregate_type == \"basalt\"):\n",
    "    alpha_E = 1.2\n",
    "    \n",
    "elif (aggregate_type == \"quartzite\"): \n",
    "    alpha_E = 1.0\n",
    "\n",
    "elif (aggregate_type == \"dense limestone\"): \n",
    "    alpha_E = 1.0\n",
    "\n",
    "elif (aggregate_type == \"limestone\"):\n",
    "    alpha_E = 0.9\n",
    "\n",
    "else: #(aggregate_type == \"sandstone\")\n",
    "    alpha_E = 0.7\n"
   ]
  },
  {
   "cell_type": "code",
   "execution_count": 3,
   "id": "d394f9c0-2030-48a5-85e9-cc10dc6746f4",
   "metadata": {
    "ExecuteTime": {
     "end_time": "2023-10-31T18:47:57.777877136Z",
     "start_time": "2023-10-31T18:47:57.651430993Z"
    }
   },
   "outputs": [],
   "source": [
    "# variables - time discretization and plotting\n",
    "\n",
    "log_scale = True\n",
    "\n",
    "t_div = 50 # default number of time points used for time integration etc.\n",
    "\n",
    "t_aux_min = 1.e-2 \n",
    "t_aux_max = 1.e3\n"
   ]
  },
  {
   "cell_type": "markdown",
   "id": "e6b1edb1-fe56-413b-8e0c-81bf88715aed",
   "metadata": {},
   "source": [
    "# Functions in MC 2010\n",
    "\n",
    "## Modulus of Elasticity\n",
    "\n",
    "> Described in Section 5.1.7.2<br>\n",
    "\n",
    "> $E_{cm}$ is defined as a tangent modulus of elasticity at the origin of the stress-strain diagram which is approximately equal to the slope of the unloading branch at 40% of the compressive strength<br>\n",
    "\n",
    "> The value of Young's modulus at the age at loading is used to determine the instantaneous deformation while its value at 28 days, $E_{cm}(28)$ or `E_cm_28`, is used to compute the delayed deformation by means of the creep coefficient.\n"
   ]
  },
  {
   "cell_type": "code",
   "execution_count": 4,
   "id": "7f0fb256-65ec-44aa-894d-05e541e716f0",
   "metadata": {
    "ExecuteTime": {
     "end_time": "2023-10-31T18:47:57.778044881Z",
     "start_time": "2023-10-31T18:47:57.651533956Z"
    }
   },
   "outputs": [],
   "source": [
    "def compute_modulus_of_elasticity(t):\n",
    "\n",
    "    E_c0 = 21.5e3\n",
    "    \n",
    "    E_cm_28 = E_c0 * alpha_E * ( fcm_28/10. )**(1./3.)  # 5.1-21\n",
    "    \n",
    "    beta_cc = math.exp( s * (1. - math.sqrt(28./t) ) ) # 5.1-51\n",
    "    \n",
    "    beta_E = math.sqrt(beta_cc) # 5.1-57\n",
    "    \n",
    "    E_cm_t = beta_E * E_cm_28 # 5.1-56\n",
    "\n",
    "    return E_cm_t\n",
    "    "
   ]
  },
  {
   "cell_type": "markdown",
   "id": "37c822e4-e745-41ef-bae0-197c39af4d1e",
   "metadata": {},
   "source": [
    "## Creep Coefficient"
   ]
  },
  {
   "cell_type": "code",
   "execution_count": 5,
   "id": "741ede84-6472-41b3-9162-0fb638523001",
   "metadata": {
    "ExecuteTime": {
     "end_time": "2023-10-31T18:47:57.778209615Z",
     "start_time": "2023-10-31T18:47:57.651619264Z"
    }
   },
   "outputs": [],
   "source": [
    "def compute_creep_coeff(t,tt):\n",
    "    \n",
    "    phi_bc = compute_creep_coeff_basic(t, tt)\n",
    "    phi_dc = compute_creep_coeff_drying(t, tt)\n",
    "    \n",
    "    return phi_bc + phi_dc"
   ]
  },
  {
   "cell_type": "code",
   "execution_count": 6,
   "id": "3b688e72-e80c-4e7c-9200-9dbeb1ffb25b",
   "metadata": {
    "ExecuteTime": {
     "end_time": "2023-10-31T18:47:57.778317786Z",
     "start_time": "2023-10-31T18:47:57.651751937Z"
    }
   },
   "outputs": [],
   "source": [
    "def compute_creep_coeff_basic(t, tt):\n",
    "\n",
    "    beta_bc_fcm = 1.8 * fcm_28**(-0.7) # 5.1-65\n",
    "\n",
    "    # adjusted age reflecting the cement type but (here) without temperature effect\n",
    "    tt_adj = compute_adjusted_age(tt)\n",
    "\n",
    "    if (t > tt):\n",
    "        beta_bc_t_tt = math.log( (30./tt_adj + 0.035)**2. * (t-tt) + 1.) # 5.1-66\n",
    "    else:\n",
    "        beta_bc_t_tt = 0.\n",
    "    \n",
    "    phi_bc = beta_bc_fcm * beta_bc_t_tt # 5.1-64\n",
    "    \n",
    "    return phi_bc\n",
    "    "
   ]
  },
  {
   "cell_type": "code",
   "execution_count": 7,
   "id": "9a960f47-c61d-4395-afd2-480a8c987e30",
   "metadata": {
    "ExecuteTime": {
     "end_time": "2023-10-31T18:47:57.779043560Z",
     "start_time": "2023-10-31T18:47:57.662344392Z"
    }
   },
   "outputs": [],
   "source": [
    "def compute_creep_coeff_drying(t, tt):\n",
    "\n",
    "    # adjusted age reflecting the cement type but (here) without temperature effect\n",
    "    tt_adj = compute_adjusted_age(tt)\n",
    "    #-------------------\n",
    "    beta_dc_fcm = 412. * fcm_28**(-1.4) # 5.1-68\n",
    "    #-------------------\n",
    "    beta_RH = (1. - RH/100.) * (0.1 * h/100.)**(-1./3.) # 5.1-69\n",
    "    #-------------------\n",
    "    beta_dc_tt = 1. / (0.1 + tt_adj**0.2) # 5.1-70\n",
    "    #-------------------\n",
    "    gamma_tt = 1. / ( 2.3 + ( 3.5 / math.sqrt(tt_adj) ) ) # 5.1-71b\n",
    "\n",
    "    alpha_fcm = math.sqrt(35./fcm_28) # 5.1-71d\n",
    "    \n",
    "    beta_h = min(1.5 * h + 250.*alpha_fcm, 1500 * alpha_fcm) # 5.1-71c\n",
    "    \n",
    "    beta_dc_t_tt = ( (t-tt) / ( beta_h + (t-tt) ) )**gamma_tt # 5.1-71a\n",
    "    #-------------------                 \n",
    "    phi_dc = beta_dc_fcm * beta_RH * beta_dc_tt * beta_dc_t_tt # 5.1-67\n",
    "                   \n",
    "    return phi_dc\n"
   ]
  },
  {
   "cell_type": "code",
   "execution_count": 8,
   "id": "23e9ea34-8918-4942-8f57-6beff2f59051",
   "metadata": {
    "ExecuteTime": {
     "end_time": "2023-10-31T18:47:57.780652985Z",
     "start_time": "2023-10-31T18:47:57.671175776Z"
    }
   },
   "outputs": [],
   "source": [
    "def compute_adjusted_age(tt):\n",
    "    # without temperature effect\n",
    "    tt_adj = max( tt * ( 9./ ( 2. + tt**1.2 ) + 1. )**alpha, 0.5) # 5.1-73\n",
    "\n",
    "    return tt_adj\n",
    "    "
   ]
  },
  {
   "cell_type": "code",
   "execution_count": 9,
   "outputs": [],
   "source": [
    "def compute_total_compliance_function(t, tt):\n",
    "\n",
    "    if (t < tt):\n",
    "        J = 0.\n",
    "    elif ( t == tt):\n",
    "        E_cm_t = compute_modulus_of_elasticity(tt)\n",
    "        J = 1./E_cm_t\n",
    "    else:\n",
    "        E_cm_t = compute_modulus_of_elasticity(tt)\n",
    "        E_cm_28 = compute_modulus_of_elasticity(28.)\n",
    "        \n",
    "        # 5.1-63\n",
    "        # sum of basic and drying creep coefficient\n",
    "        phi = compute_creep_coeff(t,tt)\n",
    "        \n",
    "        # 5.1.61 \n",
    "        J = 1./E_cm_t + phi/E_cm_28\n",
    "    \n",
    "    return J\n",
    "\n",
    "def compute_basic_compliance_function(t, tt):\n",
    "\n",
    "    if (t < tt):\n",
    "        J = 0.\n",
    "    elif ( t == tt):\n",
    "        E_cm_t = compute_modulus_of_elasticity(tt)\n",
    "        J = 1./E_cm_t\n",
    "    else:\n",
    "        E_cm_t = compute_modulus_of_elasticity(tt)\n",
    "        E_cm_28 = compute_modulus_of_elasticity(28.)\n",
    "        \n",
    "        # 5.1-63\n",
    "        phi = compute_creep_coeff_basic(t, tt) \n",
    "        \n",
    "        # 5.1.61 \n",
    "        J = 1./E_cm_t + phi/E_cm_28\n",
    "    \n",
    "    return J\n"
   ],
   "metadata": {
    "collapsed": false,
    "ExecuteTime": {
     "end_time": "2023-10-31T18:47:57.781571885Z",
     "start_time": "2023-10-31T18:47:57.678319362Z"
    }
   },
   "id": "cbe94701-e9c7-431d-afdf-00ed535dc326"
  },
  {
   "cell_type": "markdown",
   "source": [
    "## Compliance and Relaxation Functions"
   ],
   "metadata": {
    "collapsed": false
   },
   "id": "cf9bac8d-cfa2-4eca-a3a7-e4791ac38f4a"
  },
  {
   "cell_type": "code",
   "execution_count": 10,
   "outputs": [],
   "source": [
    "# use this function only to evaluate relaxation function at particular time \n",
    "def compute_total_relaxation_function(t, tt):\n",
    "\n",
    "    if (t < tt):\n",
    "        R = 0.\n",
    "    elif (t == tt):\n",
    "        R = compute_modulus_of_elasticity(tt)\n",
    "    else:\n",
    "        R_tot = np.zeros(t_div)\n",
    "        \n",
    "        # create array with loading durations [0., 0., logscale with t_div-2 entries]\n",
    "        times = np.logspace( round(math.log10(t_aux_min))-1, ( math.log10(t-tt) ), num = t_div-2 )\n",
    "        times = np.insert( times, 0, [0., 0.])\n",
    "        \n",
    "        times += tt # duration of loading changed to age\n",
    "\n",
    "        # zero loading duration, times[1] = times[0]\n",
    "        R_tot[1] = 1. / compute_total_compliance_function(times[1], times[0]) \n",
    "        # first non-zero loading duration\n",
    "        R_tot[2] = 1. / compute_total_compliance_function(times[2], times[0])\n",
    "   \n",
    "        for k in range(2,t_div-1):\n",
    "            \n",
    "            sum = 0.\n",
    "            for i in range(0,k-1):\n",
    "                J_kplus1_i = compute_total_compliance_function( times[k+1], (times[i+1]+times[i])/2. ) \n",
    "                J_k_i = compute_total_compliance_function( times[k], (times[i+1]+times[i])/2. ) \n",
    "                delta_J_k_i = J_kplus1_i - J_k_i\n",
    "                sum += delta_J_k_i * ( R_tot[i+1] - R_tot[i] )\n",
    "    \n",
    "            J_kplus1_k = compute_total_compliance_function( times[k+1], (times[k+1]+times[k])/2. )\n",
    "            R_tot[k+1] = R_tot[k] - sum / J_kplus1_k\n",
    "        \n",
    "        # return the last value from the array which corresponds to the desired time \"t\"\n",
    "        R = R_tot[-1]\n",
    "    \n",
    "    return R"
   ],
   "metadata": {
    "collapsed": false,
    "ExecuteTime": {
     "end_time": "2023-10-31T18:47:57.783075527Z",
     "start_time": "2023-10-31T18:47:57.689528127Z"
    }
   },
   "id": "63adf0fc-e693-4197-abe3-4bd1b1b157cf"
  },
  {
   "cell_type": "markdown",
   "source": [
    "## Mean Total Shrinkage\n",
    "\n",
    "5.1.9.4.4: characteristic values corresponding to 5 and 95 percentile are 0.42 eps_cs and 1.58 eps_cs, respectively"
   ],
   "metadata": {
    "collapsed": false
   },
   "id": "bb5d5761-f84f-477c-b775-943f1f02168d"
  },
  {
   "cell_type": "code",
   "execution_count": 11,
   "outputs": [],
   "source": [
    "def compute_mean_total_shrinkage(t):\n",
    "\n",
    "    eps_cas = compute_mean_auto_shrinkage(t)\n",
    "    eps_cds = compute_mean_drying_shrinkage(t)\n",
    "    eps_cs = eps_cas + eps_cds # 5.1-75\n",
    "\n",
    "    return eps_cs\n",
    "    "
   ],
   "metadata": {
    "collapsed": false,
    "ExecuteTime": {
     "end_time": "2023-10-31T18:47:57.783285975Z",
     "start_time": "2023-10-31T18:47:57.734544571Z"
    }
   },
   "id": "1bb347e8-93d7-4774-9d90-46b09acfd3fb"
  },
  {
   "cell_type": "markdown",
   "id": "f88b351e-ee3e-46e7-a7dd-465b31c5ec60",
   "metadata": {},
   "source": [
    "### Mean Autogenous Shrinkage"
   ]
  },
  {
   "cell_type": "code",
   "execution_count": 12,
   "id": "8c982beb-1fb9-4dbf-bb70-1b1a6dce9ae2",
   "metadata": {
    "ExecuteTime": {
     "end_time": "2023-10-31T18:47:57.783418157Z",
     "start_time": "2023-10-31T18:47:57.734852179Z"
    }
   },
   "outputs": [],
   "source": [
    "def compute_mean_auto_shrinkage(t):\n",
    "\n",
    "    if (t <= 0.):\n",
    "        eps_cas = 0.\n",
    "    else:\n",
    "        # 5.1-78, notional autogenous shrinkage coefficient\n",
    "        eps_cas_fcm = -alpha_as * ( fcm_28 / ( 60. + fcm_28 ) )**2.5 * 1.e-6\n",
    "        # 5.1-79, development of autogenous shrinkage\n",
    "        beta_as_t = 1. - math.exp( -0.2 * math.sqrt(t) )\n",
    "        \n",
    "        eps_cas = eps_cas_fcm * beta_as_t # 5.1-76\n",
    "\n",
    "    return eps_cas"
   ]
  },
  {
   "cell_type": "markdown",
   "id": "27f68e60-0483-4c7e-a50b-a5de98e6d4d7",
   "metadata": {},
   "source": [
    "### Mean Drying Shrinkage"
   ]
  },
  {
   "cell_type": "code",
   "execution_count": 13,
   "id": "891a2f90-07a4-4a2a-bae8-31e1d5947558",
   "metadata": {
    "ExecuteTime": {
     "end_time": "2023-10-31T18:47:57.783537145Z",
     "start_time": "2023-10-31T18:47:57.734944627Z"
    }
   },
   "outputs": [],
   "source": [
    "def compute_mean_drying_shrinkage(t):\n",
    "\n",
    "    t_dry = t-t0\n",
    "    \n",
    "    if (t_dry <= 0.):\n",
    "        eps_cds = 0.\n",
    "    \n",
    "    else:       \n",
    "        # 5.1-80, notional drying shrinkage coefficient\n",
    "        eps_cds_fcm = (220. + 110 * alpha_ds1) * math.exp(-alpha_ds2 * fcm_28) * 1.e-6\n",
    "    \n",
    "        # 5.1-83\n",
    "        beta_s1 = min( (35./fcm_28)**0.1, 1.0 )\n",
    "        \n",
    "        # 5.1-81 effect of relative humidity on drying shrinkage\n",
    "        if (RH < 99. * beta_s1): \n",
    "            beta_RH = -1.55 * (1. - (RH/100.)**3 )\n",
    "        else: \n",
    "            beta_RH =  0.25\n",
    "    \n",
    "        # 5.1-82, development of drying shrinkage\n",
    "        beta_DS_t_dry = math.sqrt( t_dry / (0.035 * h**2  + t_dry) )\n",
    "    \n",
    "        eps_cds = eps_cds_fcm * beta_RH * beta_DS_t_dry # 5.1-77\n",
    "\n",
    "    return eps_cds"
   ]
  },
  {
   "cell_type": "markdown",
   "id": "d9a29491-d0ad-4e42-ac3c-66072d0e9095",
   "metadata": {
    "tags": []
   },
   "source": [
    "# Plotting"
   ]
  },
  {
   "cell_type": "markdown",
   "id": "0925eb3a-8d96-49f3-a1ea-621fce8a6924",
   "metadata": {},
   "source": [
    "## Plot of a compliance function "
   ]
  },
  {
   "cell_type": "code",
   "execution_count": 14,
   "id": "c266f44a-91de-4d2f-8c8d-e99a30113905",
   "metadata": {
    "ExecuteTime": {
     "end_time": "2023-10-31T18:47:58.504542943Z",
     "start_time": "2023-10-31T18:47:57.735007182Z"
    }
   },
   "outputs": [
    {
     "data": {
      "text/plain": "<Figure size 1000x600 with 1 Axes>",
      "image/png": "[encoded data removed]"
     },
     "metadata": {},
     "output_type": "display_data"
    }
   ],
   "source": [
    "# prepare data\n",
    "# times here is the duration of loading\n",
    "times = np.logspace( round(math.log10(t_aux_min)), round(math.log10(t_aux_max)), num = t_div )\n",
    "\n",
    "J_tot = np.zeros(t_div)\n",
    "   \n",
    "for i in range(t_div):\n",
    "    # here t is shifted by the onset of loading\n",
    "    t = times[i] + tt\n",
    "    J_tot[i] =  compute_total_compliance_function(t, tt) \n",
    "\n",
    "\n",
    "plt.figure(figsize=(10,6))\n",
    "plt.rcParams.update({'font.size': 14})\n",
    "\n",
    "plt.plot(times, J_tot * 1.e6, lw=2., color=\"black\", label=r'$J_{tot}(t)$')\n",
    "\n",
    "\n",
    "if (log_scale):\n",
    "    plt.xscale('log')\n",
    "    plt.xlim([t_aux_min, t_aux_max])\n",
    "else:\n",
    "    plt.xlim([0., t_aux_max])\n",
    "\n",
    "# keep top range unbounded\n",
    "plt.ylim(bottom = 0)\n",
    "\n",
    "plt.grid(True)\n",
    "plt.legend()\n",
    "plt.xlabel('Duration of loading, $t-t\\'$ [day]')\n",
    "plt.ylabel('Compliance, $J$ [$10^{-6}$/MPa]')\n",
    "\n",
    "plt.savefig('fib_MC2010_compliance_function.pdf')\n",
    "\n",
    "plt.show()\n",
    "\n"
   ]
  },
  {
   "cell_type": "markdown",
   "id": "601ae6fa-e1ec-4e86-a13a-0542d75d6cca",
   "metadata": {},
   "source": [
    "## Plot of a relaxation function "
   ]
  },
  {
   "cell_type": "code",
   "execution_count": 15,
   "id": "74c7a13f-e68e-43c6-9104-e0ddbfd812ad",
   "metadata": {
    "ExecuteTime": {
     "end_time": "2023-10-31T18:47:58.508736823Z",
     "start_time": "2023-10-31T18:47:58.507826202Z"
    }
   },
   "outputs": [],
   "source": [
    "def evaluate_relaxation_function_at_times(ages):        \n",
    "\n",
    "    aux = ages[0]\n",
    "    ages = np.insert( ages, 0, [aux, aux])\n",
    "   \n",
    "    R_tot = np.zeros(len(ages))\n",
    "    # zero loading duration, times[1] = times[0]\n",
    "    R_tot[1] = 1. / compute_total_compliance_function(ages[1], ages[0]) \n",
    "    # first non-zero loading duration\n",
    "    R_tot[2] = 1. / compute_total_compliance_function(ages[2], ages[0])\n",
    "    \n",
    "    for k in range(2,len(ages)-1):\n",
    "        \n",
    "        sum = 0.\n",
    "        for i in range(0,k-1):\n",
    "            J_kplus1_i = compute_total_compliance_function( ages[k+1], (ages[i+1]+ages[i])/2. ) \n",
    "            J_k_i = compute_total_compliance_function( ages[k], (ages[i+1]+ages[i])/2. ) \n",
    "            delta_J_k_i = J_kplus1_i - J_k_i\n",
    "            sum += delta_J_k_i * ( R_tot[i+1] - R_tot[i] )\n",
    "\n",
    "        J_kplus1_k = compute_total_compliance_function( ages[k+1], (ages[k+1]+ages[k])/2. )\n",
    "        R_tot[k+1] = R_tot[k] - sum / J_kplus1_k\n",
    "\n",
    "    return R_tot[2:]"
   ]
  },
  {
   "cell_type": "code",
   "execution_count": 16,
   "id": "44689aa4-11ad-4d4f-8be9-fa384034468b",
   "metadata": {
    "ExecuteTime": {
     "end_time": "2023-10-31T18:47:59.035009275Z",
     "start_time": "2023-10-31T18:47:58.512342373Z"
    }
   },
   "outputs": [
    {
     "data": {
      "text/plain": "<Figure size 1000x600 with 1 Axes>",
      "image/png": "[encoded data removed]"
     },
     "metadata": {},
     "output_type": "display_data"
    }
   ],
   "source": [
    "# create array with loading durations [0., 0., logscale with t_div-2 entries]\n",
    "times = np.logspace( round(math.log10(t_aux_min)-1), round(math.log10(t_aux_max)), num = t_div)\n",
    "ages = times + tt # duration of loading changed to age\n",
    "\n",
    "R_tot = evaluate_relaxation_function_at_times(ages)\n",
    "\n",
    "plt.figure(figsize=(10,6))\n",
    "plt.rcParams.update({'font.size': 14})\n",
    "\n",
    "plt.plot(times, R_tot * 1.e-3, lw=2., color=\"black\", label=r'$R_{tot}(t)$')\n",
    "\n",
    "\n",
    "if (log_scale):\n",
    "    plt.xscale('log')\n",
    "    plt.xlim([t_aux_min, t_aux_max])\n",
    "else:\n",
    "    plt.xlim([0., t_aux_max])\n",
    "\n",
    "# keep top range unbounded\n",
    "plt.ylim(bottom = 0)\n",
    "\n",
    "plt.grid(True)\n",
    "plt.legend()\n",
    "plt.xlabel('Duration of loading, $t-t\\'$ [day]')\n",
    "plt.ylabel('Relaxation, $R$ [GPa]')\n",
    "\n",
    "plt.savefig('fib_MC2010_relaxation_function.pdf')\n",
    "\n",
    "plt.show()\n"
   ]
  },
  {
   "cell_type": "markdown",
   "id": "2c413891-9c8f-4c63-a531-d2774be14cf5",
   "metadata": {},
   "source": [
    "## Plot of total deformation with strain decomposition"
   ]
  },
  {
   "cell_type": "code",
   "execution_count": 17,
   "id": "f04fa633-1fa9-4aac-ade7-5583b5c4b6ee",
   "metadata": {
    "ExecuteTime": {
     "end_time": "2023-10-31T18:47:59.153508272Z",
     "start_time": "2023-10-31T18:47:59.034283880Z"
    }
   },
   "outputs": [],
   "source": [
    "\n",
    "# times = np.linspace(0, 200, num = t_div )\n",
    "# \n",
    "# times = np.append(times, [tt-t_aux_min, tt, tt+t_aux_min])\n",
    "# times = np.append(times, [t0+t_aux_min, t0, t0+t_aux_min])\n",
    "# # eliminates redundancy and sorts\n",
    "# times = np.unique(times)\n",
    "# \n",
    "# # local variable redifinition only\n",
    "# len_times = len(times)\n",
    "# \n",
    "#     \n",
    "# creep_tot = np.zeros(len_times)\n",
    "# \n",
    "# shr_tot = np.zeros(len_times)\n",
    "# \n",
    "# def_tot = np.zeros(len_times)\n",
    "# \n",
    "#     \n",
    "# for i in range(len_times):\n",
    "#     # here t is shifted by the onset of loading\n",
    "#     t = times[i]\n",
    "# \n",
    "#     shr_tot[i] = compute_mean_total_shrinkage(t) * 1.e6\n",
    "#     \n",
    "#     if (t >= tt):\n",
    "# \n",
    "#         creep_tot[i] =  stress * compute_total_compliance_function(t, tt) * -1.e6 \n",
    "# \n",
    "#     def_tot[i] = creep_tot[i] + shr_tot[i]\n",
    "# \n",
    "# \n",
    "# plt.figure(figsize=(10,6))\n",
    "# plt.rcParams.update({'font.size': 14})\n",
    "# \n",
    "# plt.plot(times, creep_tot, lw=2., color=\"black\", label=r\"Total creep\")\n",
    "# plt.plot(times, shr_tot, lw=2., color=\"black\", label=r\"Total shrinkage\", linestyle='dashed')\n",
    "# plt.plot(times, def_tot, lw=2., color=\"red\", label=r\"Total deformation\")\n",
    "# \n",
    "# plt.xlim([0., 200])\n",
    "# \n",
    "# # keep top range unbounded\n",
    "# #plt.ylim(bottom = 0)\n",
    "# \n",
    "# plt.grid(True)\n",
    "# plt.legend()\n",
    "# plt.xlabel('Concrete age, $t$ [day]')\n",
    "# plt.ylabel('Strain, $\\epsilon$ [$10^{-6}$]')\n",
    "# \n",
    "# plt.savefig('fib_MC2010_evolution_of_total_strain.pdf')\n",
    "# \n",
    "# plt.show()\n",
    "\n"
   ]
  },
  {
   "cell_type": "markdown",
   "id": "d056ae4c-413b-474a-a6e0-aeea883d25a5",
   "metadata": {},
   "source": [
    "## Response to a prescribed shrinkage"
   ]
  },
  {
   "cell_type": "code",
   "execution_count": 55,
   "id": "ccad6d49-8696-4628-be09-2d8a3355e225",
   "metadata": {
    "ExecuteTime": {
     "end_time": "2023-10-31T19:35:53.098741723Z",
     "start_time": "2023-10-31T19:35:52.183987779Z"
    }
   },
   "outputs": [
    {
     "data": {
      "text/plain": "<Figure size 640x480 with 2 Axes>",
      "image/png": "[encoded data removed]"
     },
     "metadata": {},
     "output_type": "display_data"
    }
   ],
   "source": [
    "\n",
    "# secant modulus of elasticity of concrete [MPa]\n",
    "E_cm28 = compute_modulus_of_elasticity(28)\n",
    "\n",
    "t_div_numer = 500\n",
    "\n",
    "times_numer = np.logspace(-1, 4, num = t_div_numer )\n",
    "times_numer += t0\n",
    "\n",
    "shr = np.zeros(t_div_numer)\n",
    "\n",
    "for i, t in enumerate(times_numer):\n",
    "    shr[i] = compute_mean_drying_shrinkage(t) \n",
    "\n",
    "sig_tot_relax = np.zeros(t_div_numer)\n",
    "sig_tot_no_relax = np.zeros(t_div_numer)\n",
    "\n",
    "for i in range(t_div_numer):\n",
    "    \n",
    "    sig_tot_relax[i] = math.cos( i )\n",
    "    sig_tot_no_relax[i] = math.sin( i )\n",
    "    \n",
    "\n",
    "fig, ax1 = plt.subplots()\n",
    "plt.rcParams.update({'font.size': 14})\n",
    "\n",
    "ax2 = ax1.twinx()\n",
    "\n",
    "lns1 = ax1.plot(times_numer-t0, sig_tot_no_relax, lw=2., color=\"red\", label=r\"stress - no relaxation\")\n",
    "lns2 = ax1.plot(times_numer-t0, sig_tot_relax, lw=2., color=\"blue\", label=r\"stress - relaxation\")\n",
    "lns3 = ax2.plot(times_numer-t0, shr*1e6, 'o', lw=1., color=\"black\", label=r\"shrinkage\")\n",
    "\n",
    "ax1.vlines(times_numer-t0, ymin=-1, ymax=1)\n",
    "\n",
    "lns = lns1+lns2+lns3\n",
    "labs = [l.get_label() for l in lns]\n",
    "ax1.legend(lns, labs, loc=0)\n",
    "\n",
    "ax1.set_xlim([0.1, 1e4])\n",
    "\n",
    "ax1.set_xlabel('Concrete age, $t$ [day]')\n",
    "ax1.set_ylabel('Stress, $\\sigma$ [MPa]')\n",
    "ax2.set_ylabel('Strain, $\\epsilon$ [$10^{-6}$]')\n",
    "\n",
    "plt.xscale('log')\n",
    "\n",
    "plt.savefig('fib_MC2010_evolution_of_shrinkage-induced_stress.pdf')\n",
    "\n",
    "plt.show()\n",
    "\n",
    "\n",
    "\n"
   ]
  },
  {
   "cell_type": "code",
   "execution_count": 65,
   "outputs": [
    {
     "data": {
      "text/plain": "<Figure size 640x480 with 1 Axes>",
      "image/png": "[encoded data removed]"
     },
     "metadata": {},
     "output_type": "display_data"
    }
   ],
   "source": [
    "diff_t = times_numer[1:] - times_numer[:-1]\n",
    "half_time_interval = times_numer[:-1] - t0\n",
    "\n",
    "# half_time_interval = np.insert(half_time_interval, 0, np.array([0, 1.e-3, 1.e-2, 1.e-1]))\n",
    "# \n",
    "# print(half_time_interval)\n",
    "R_for = []\n",
    "t_for = np.linspace(0,1.e3,1000)\n",
    "for i, t in enumerate(t_for):\n",
    "    R_for.append(compute_total_relaxation_function(t, tt-t0))\n",
    "\n",
    "R_for = np.array(R_for)\n",
    "\n",
    "R = evaluate_relaxation_function_at_times(half_time_interval+tt)\n",
    "\n",
    "plt.plot(half_time_interval, R*1.e-3,)\n",
    "plt.plot(t_for, R_for*1.e-3,)\n",
    "plt.plot(times, R_tot * 1.e-3, lw=2., color=\"black\", label=r'$R_{tot}(t)$')\n",
    "\n",
    "plt.xscale('log')"
   ],
   "metadata": {
    "collapsed": false,
    "ExecuteTime": {
     "end_time": "2023-10-31T20:05:58.111892575Z",
     "start_time": "2023-10-31T20:05:45.539660722Z"
    }
   },
   "id": "2b35d90aae03d2ae"
  },
  {
   "cell_type": "code",
   "execution_count": 20,
   "outputs": [],
   "source": [
    "def compute_mean_axial_tensile_strength(t: np.ndarray) -> np.ndarray:\n",
    "    \"\"\"To avoid division by zero, initiate matrix full of zeros and compute `f_ctm` only at `t`>0.\"\"\"\n",
    "    f_ctm = np.zeros(t.shape)\n",
    "    fctm_28 = 0.3 * fck_28**(2/3)\n",
    "    beta_cc = np.exp( s * (1. - np.sqrt(28./t[t>0]) ) ) # 5.1-51\n",
    "    f_ctm[t>0] = beta_cc * fctm_28\n",
    "    \n",
    "    return f_ctm"
   ],
   "metadata": {
    "collapsed": false,
    "ExecuteTime": {
     "end_time": "2023-10-31T18:48:00.999348506Z",
     "start_time": "2023-10-31T18:48:00.996146054Z"
    }
   },
   "id": "603bbbea51d3bdaf"
  },
  {
   "cell_type": "code",
   "execution_count": 21,
   "outputs": [],
   "source": [
    "# times = np.linspace(-10, 200, 1000)\n",
    "# \n",
    "# tensile_strength = compute_mean_axial_tensile_strength(times)\n",
    "# \n",
    "# plt.plot(times, tensile_strength)\n",
    "# # plt.xlim(0, 200)\n",
    "# plt.ylim(0, 4)"
   ],
   "metadata": {
    "collapsed": false,
    "ExecuteTime": {
     "end_time": "2023-10-31T18:48:01.020116028Z",
     "start_time": "2023-10-31T18:48:01.000010744Z"
    }
   },
   "id": "f956c7faf4cf5623"
  },
  {
   "cell_type": "code",
   "execution_count": 21,
   "outputs": [],
   "source": [],
   "metadata": {
    "collapsed": false,
    "ExecuteTime": {
     "end_time": "2023-10-31T18:48:01.064127141Z",
     "start_time": "2023-10-31T18:48:01.011630128Z"
    }
   },
   "id": "e503fca23ecef95c"
  },
  {
   "cell_type": "code",
   "execution_count": 22,
   "outputs": [
    {
     "data": {
      "text/plain": "16564.119398358227"
     },
     "execution_count": 22,
     "metadata": {},
     "output_type": "execute_result"
    }
   ],
   "source": [
    "compute_total_relaxation_function(21, 14)"
   ],
   "metadata": {
    "collapsed": false,
    "ExecuteTime": {
     "end_time": "2023-10-31T18:48:01.066507337Z",
     "start_time": "2023-10-31T18:48:01.016155640Z"
    }
   },
   "id": "98b49e7dfb45de86"
  },
  {
   "cell_type": "code",
   "execution_count": 22,
   "outputs": [],
   "source": [],
   "metadata": {
    "collapsed": false,
    "ExecuteTime": {
     "end_time": "2023-10-31T18:48:01.066708867Z",
     "start_time": "2023-10-31T18:48:01.034010555Z"
    }
   },
   "id": "298e11b574630555"
  }
 ],
 "metadata": {
  "kernelspec": {
   "display_name": "Python 3 (ipykernel)",
   "language": "python",
   "name": "python3"
  },
  "language_info": {
   "codemirror_mode": {
    "name": "ipython",
    "version": 3
   },
   "file_extension": ".py",
   "mimetype": "text/x-python",
   "name": "python",
   "nbconvert_exporter": "python",
   "pygments_lexer": "ipython3",
   "version": "3.8.17"
  }
 },
 "nbformat": 4,
 "nbformat_minor": 5
}
